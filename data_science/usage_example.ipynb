{
 "cells": [
  {
   "cell_type": "code",
   "execution_count": 1,
   "metadata": {
    "collapsed": true
   },
   "outputs": [
    {
     "name": "stderr",
     "output_type": "stream",
     "text": [
      "[nltk_data] Downloading package stopwords to\n",
      "[nltk_data]     C:\\Users\\Alisa\\AppData\\Roaming\\nltk_data...\n",
      "[nltk_data]   Package stopwords is already up-to-date!\n",
      "[nltk_data] Downloading package omw-1.4 to\n",
      "[nltk_data]     C:\\Users\\Alisa\\AppData\\Roaming\\nltk_data...\n",
      "[nltk_data]   Package omw-1.4 is already up-to-date!\n",
      "[nltk_data] Downloading package averaged_perceptron_tagger to\n",
      "[nltk_data]     C:\\Users\\Alisa\\AppData\\Roaming\\nltk_data...\n",
      "[nltk_data]   Package averaged_perceptron_tagger is already up-to-\n",
      "[nltk_data]       date!\n",
      "[nltk_data] Downloading package wordnet to\n",
      "[nltk_data]     C:\\Users\\Alisa\\AppData\\Roaming\\nltk_data...\n",
      "[nltk_data]   Package wordnet is already up-to-date!\n",
      "[nltk_data] Downloading package stopwords to\n",
      "[nltk_data]     C:\\Users\\Alisa\\AppData\\Roaming\\nltk_data...\n",
      "[nltk_data]   Package stopwords is already up-to-date!\n",
      "[nltk_data] Downloading package omw-1.4 to\n",
      "[nltk_data]     C:\\Users\\Alisa\\AppData\\Roaming\\nltk_data...\n",
      "[nltk_data]   Package omw-1.4 is already up-to-date!\n",
      "[nltk_data] Downloading package averaged_perceptron_tagger to\n",
      "[nltk_data]     C:\\Users\\Alisa\\AppData\\Roaming\\nltk_data...\n",
      "[nltk_data]   Package averaged_perceptron_tagger is already up-to-\n",
      "[nltk_data]       date!\n",
      "[nltk_data] Downloading package wordnet to\n",
      "[nltk_data]     C:\\Users\\Alisa\\AppData\\Roaming\\nltk_data...\n",
      "[nltk_data]   Package wordnet is already up-to-date!\n"
     ]
    },
    {
     "name": "stdout",
     "output_type": "stream",
     "text": [
      "В мире Москва занимает 3 место, уступая лишь Нью-Йорку и Сан-\n",
      "                       ───────                               \n",
      "Франциско. Москва признана 1 среди европейских городов в рейтинге \n",
      "                           ─                                      \n",
      "инноваций, помогающих в формировании устойчивости коронавирусу. Она \n",
      "опередила Лондон и Барселону. Среди мировых мегаполисов российская \n",
      "столица занимает 3 строчку — после Сан-Франциско и Нью-Йорка. Пятерку \n",
      "                 ─────────                                            \n",
      "замыкают Бостон и Лондон. Рейтинг соcтавило международное \n",
      "исследовательское агентство StartupBlink.Добиться высоких показателей \n",
      "Москве помогло почти 160 передовых решений, которые применяются для \n",
      "                     ─────────────────────                          \n",
      "борьбы с распространением коронавируса. Среди них алгоритмы \n",
      "компьютерного зрения на основе искусственного интеллекта. Это методика\n",
      " уже помогла рентгенологам проанализировать более 3000000 \n",
      "                                                  ────────\n",
      "исследований.Еще 1 инновационное решение — облачная платформа, которая\n",
      "────────────     ───────────────────────                              \n",
      " объединяет пациентов, врачей, медицинские организации, страховые \n",
      "компании, фармакологические производства и сайты. Способствовали \n",
      "высоким результатам и технологии, которые помогают адаптировать жизнь \n",
      "горожан во время пандемии. Это проекты в сфере умного туризма, \n",
      "электронной коммерции и логистики, а также дистанционной работы и \n",
      "онлайн-образования. Эксперты агентства StartupBlink оценивали принятые\n",
      " в Москве меры с точки зрения эпидемиологических показателей и влияния\n",
      " на экономику.\n"
     ]
    },
    {
     "data": {
      "text/plain": "[Number fact(\n     number=[3],\n     adjs=[],\n     nouns=[Nouns(\n          parts=['место']\n      )]\n ),\n Number fact(\n     number=[1],\n     adjs=[],\n     nouns=[]\n ),\n Number fact(\n     number=[3],\n     adjs=[],\n     nouns=[Nouns(\n          parts=['строчка']\n      )]\n ),\n Number fact(\n     number=[160],\n     adjs=[Adjs(\n          parts=['передовой']\n      )],\n     nouns=[Nouns(\n          parts=['решение']\n      )]\n ),\n Number fact(\n     number=[3000000],\n     adjs=[],\n     nouns=[Nouns(\n          parts=['исследование']\n      )]\n ),\n Number fact(\n     number=[1],\n     adjs=[Adjs(\n          parts=['инновационный']\n      )],\n     nouns=[Nouns(\n          parts=['решение']\n      )]\n )]"
     },
     "metadata": {},
     "output_type": "display_data"
    }
   ],
   "source": [
    "from ner_extractor import NER_extractor\n",
    "from sentiment_extractor import Sentiment_extractor\n",
    "from clickbait_predictor import Clickbait_predictor\n",
    "from rationality_intuition_scorer import Rationality_intuition_scorer\n",
    "from fact_extractor import Fact_extractor"
   ]
  },
  {
   "cell_type": "code",
   "execution_count": 2,
   "outputs": [],
   "source": [
    "import aux_tools as atls\n",
    "\n"
   ],
   "metadata": {
    "collapsed": false,
    "pycharm": {
     "name": "#%%\n"
    }
   }
  },
  {
   "cell_type": "code",
   "execution_count": 3,
   "outputs": [],
   "source": [
    "import pandas as pd\n"
   ],
   "metadata": {
    "collapsed": false,
    "pycharm": {
     "name": "#%%\n"
    }
   }
  },
  {
   "cell_type": "code",
   "execution_count": 4,
   "outputs": [],
   "source": [
    "data_test = pd.read_excel(\"./data/output.xlsx\")"
   ],
   "metadata": {
    "collapsed": false,
    "pycharm": {
     "name": "#%%\n"
    }
   }
  },
  {
   "cell_type": "code",
   "execution_count": 7,
   "outputs": [
    {
     "data": {
      "text/plain": "   Unnamed: 0.1  Unnamed: 0            uid  \\\n0             0           6  62a3c2880e77c   \n1             1          53  62a3c288922f2   \n2             2         102  62a3c2891c03b   \n3             3         125  62a3c2899a324   \n4             4         134  62a3c28a1de50   \n\n                                                 url                 date  \\\n0  https://www.mperspektiva.ru/topics/moskva-stal...  2021-01-12 09:00:00   \n1  https://www.mperspektiva.ru/topics/moskva-stal...  2021-01-12 00:00:00   \n2             https://www.mos.ru/news/item/96369073/  2021-09-22 00:00:00   \n3              https://www.kommersant.ru/doc/5090994  2021-11-26 00:00:00   \n4  https://www.mperspektiva.ru/topics/moskva-stal...  2021-01-12 00:00:00   \n\n                                        initial_text  \\\n0  В мире Москва занимает третье место, уступая л...   \n1  В мире российская столица заняла третье место,...   \n2  Москва обошла европейские столицы в рейтинге и...   \n3  Исследовательское агентство StartupBlink соста...   \n4  Москва заняла первое место среди европейских г...   \n\n                                         source_text  \n0  Москва признана первой среди европейских город...  \n1  Москва признана первой среди европейских город...  \n2  Алгоритмы компьютерного зрения на основе искус...  \n3  253 1 мин. ...\\n\\nБольшинство отраслей экономи...  \n4  Москва признана первой среди европейских город...  ",
      "text/html": "<div>\n<style scoped>\n    .dataframe tbody tr th:only-of-type {\n        vertical-align: middle;\n    }\n\n    .dataframe tbody tr th {\n        vertical-align: top;\n    }\n\n    .dataframe thead th {\n        text-align: right;\n    }\n</style>\n<table border=\"1\" class=\"dataframe\">\n  <thead>\n    <tr style=\"text-align: right;\">\n      <th></th>\n      <th>Unnamed: 0.1</th>\n      <th>Unnamed: 0</th>\n      <th>uid</th>\n      <th>url</th>\n      <th>date</th>\n      <th>initial_text</th>\n      <th>source_text</th>\n    </tr>\n  </thead>\n  <tbody>\n    <tr>\n      <th>0</th>\n      <td>0</td>\n      <td>6</td>\n      <td>62a3c2880e77c</td>\n      <td>https://www.mperspektiva.ru/topics/moskva-stal...</td>\n      <td>2021-01-12 09:00:00</td>\n      <td>В мире Москва занимает третье место, уступая л...</td>\n      <td>Москва признана первой среди европейских город...</td>\n    </tr>\n    <tr>\n      <th>1</th>\n      <td>1</td>\n      <td>53</td>\n      <td>62a3c288922f2</td>\n      <td>https://www.mperspektiva.ru/topics/moskva-stal...</td>\n      <td>2021-01-12 00:00:00</td>\n      <td>В мире российская столица заняла третье место,...</td>\n      <td>Москва признана первой среди европейских город...</td>\n    </tr>\n    <tr>\n      <th>2</th>\n      <td>2</td>\n      <td>102</td>\n      <td>62a3c2891c03b</td>\n      <td>https://www.mos.ru/news/item/96369073/</td>\n      <td>2021-09-22 00:00:00</td>\n      <td>Москва обошла европейские столицы в рейтинге и...</td>\n      <td>Алгоритмы компьютерного зрения на основе искус...</td>\n    </tr>\n    <tr>\n      <th>3</th>\n      <td>3</td>\n      <td>125</td>\n      <td>62a3c2899a324</td>\n      <td>https://www.kommersant.ru/doc/5090994</td>\n      <td>2021-11-26 00:00:00</td>\n      <td>Исследовательское агентство StartupBlink соста...</td>\n      <td>253 1 мин. ...\\n\\nБольшинство отраслей экономи...</td>\n    </tr>\n    <tr>\n      <th>4</th>\n      <td>4</td>\n      <td>134</td>\n      <td>62a3c28a1de50</td>\n      <td>https://www.mperspektiva.ru/topics/moskva-stal...</td>\n      <td>2021-01-12 00:00:00</td>\n      <td>Москва заняла первое место среди европейских г...</td>\n      <td>Москва признана первой среди европейских город...</td>\n    </tr>\n  </tbody>\n</table>\n</div>"
     },
     "execution_count": 7,
     "metadata": {},
     "output_type": "execute_result"
    }
   ],
   "source": [
    "data_test.head()\n"
   ],
   "metadata": {
    "collapsed": false,
    "pycharm": {
     "name": "#%%\n"
    }
   }
  },
  {
   "cell_type": "code",
   "execution_count": 13,
   "outputs": [
    {
     "name": "stdout",
     "output_type": "stream",
     "text": [
      "Москва обошла европейские столицы в рейтинге инноваций по устойчивости к COVID-19, опередив Лондон и Барселону, сообщается на официальном сайте мэра Москвы.\n",
      "Российская столица также заняла третье место среди мировых мегаполисов. В пятерку лидеров вошли Бостон и Лондон.\n",
      "Занять лидирующие позиции в рейтинге Москве помогли около 50 передовых решений, которые применяются для борьбы с распространением COVID-19.\n",
      "Одно из таких решений - алгоритмы компьютерного зрения на основе искусственного интеллекта, которые уже помогли рентгенологам проанализировать более трех миллионов исследований.\n",
      "Также высоким результатам способствовали технологии, помогающие адаптировать жизнь москвичей во время пандемии. Среди них - проекты в сфере умного туризма, электронной коммерции и логистики, дистанционной работы и онлайн-образования.\n",
      "Эксперты оценивали, как принятые в Москве меры влияют на эпидемиологические показатели и экономику.\n",
      "\n",
      "Алгоритмы компьютерного зрения на основе искусственного интеллекта помогли московским рентгенологам проанализировать более трех миллионов исследований, из них более миллиона — за последние три месяца.\n",
      "\n",
      "«Нейросети стали помогать в работе московским рентгенологам в начале 2020 года. Если сначала новая технология применялась только для распознавания признаков коронавирусной пневмонии, то теперь возможности диагностики стали шире. Сейчас искусственный интеллект помогает распознавать признаки COVID-19, рака легкого, рака молочной железы, остеопороза, различных патологий легких, сердечно-сосудистых патологий, а еще по пяти направлениям идет тестирование новых алгоритмов. Как следствие, с расширением возможностей диагностики растет и количество обработанных снимков. Всего с момента внедрения новой технологии в Москве искусственный интеллект помог врачам проанализировать более трех миллионов исследований, из них более миллиона — за последние три месяца, что в несколько раз больше, чем в среднем обрабатывалось в прошлом году», — пояснили в пресс-службе комплекса социального развития Москвы.\n",
      "\n",
      "Благодаря интеграции сервисов искусственного интеллекта в единый радиологический информационный сервис Единой медицинской информационно-аналитической системы (ЕРИС ЕМИАС) сократилось и время на описание исследования — в среднем на 30 процентов. В экстренных случаях время от отправки снимков в систему до получения протокола рентгенолога составляет считаные минуты. Это позволяет быстро поставить диагноз и помочь пациенту.\n",
      "\n",
      "Сервисы искусственного интеллекта могут использовать врачи-рентгенологи всех медицинских учреждений, подключенных к ЕРИС ЕМИАС. В единое хранилище медицинских изображений поступают данные с более чем 1300 аппаратов лучевой диагностики.\n",
      "\n",
      "Технология компьютерного зрения на базе искусственного интеллекта работает в режиме реального времени. Сразу после загрузки исследования в общую систему нейросети формируют дополнительную серию изображения, где отмечены найденные патологии. К рентгенологам сначала направляются снимки, которые с большей вероятностью содержат признаки патологических изменений. При описании врачу доступно как оригинальное исследование, так и изображение с результатами его обработки сервисами искусственного интеллекта. Использование алгоритмов повышает качество и скорость лучевой диагностики, помогает врачам отслеживать патологии и выявлять группы пациентов с высоким риском развития заболеваний.\n",
      "\n",
      "Внедрение подобных сервисов стало возможным благодаря единой цифровой платформе здравоохранения, которую разработали и развивают комплекс социального развития Москвы и Департамент информационных технологий.\n"
     ]
    }
   ],
   "source": [
    "for ind, row in data_test.iterrows():\n",
    "    if ind==2:\n",
    "        print(row[\"initial_text\"])\n",
    "        print()\n",
    "        print(row[\"source_text\"])\n",
    "        break"
   ],
   "metadata": {
    "collapsed": false,
    "pycharm": {
     "name": "#%%\n"
    }
   }
  },
  {
   "cell_type": "code",
   "execution_count": 14,
   "outputs": [
    {
     "data": {
      "text/plain": "'Москва обошла европейские столицы в рейтинге инноваций по устойчивости к COVID-19, опередив Лондон и Барселону, сообщается на официальном сайте мэра Москвы.\\nРоссийская столица также заняла третье место среди мировых мегаполисов. В пятерку лидеров вошли Бостон и Лондон.\\nЗанять лидирующие позиции в рейтинге Москве помогли около 50 передовых решений, которые применяются для борьбы с распространением COVID-19.\\nОдно из таких решений - алгоритмы компьютерного зрения на основе искусственного интеллекта, которые уже помогли рентгенологам проанализировать более трех миллионов исследований.\\nТакже высоким результатам способствовали технологии, помогающие адаптировать жизнь москвичей во время пандемии. Среди них - проекты в сфере умного туризма, электронной коммерции и логистики, дистанционной работы и онлайн-образования.\\nЭксперты оценивали, как принятые в Москве меры влияют на эпидемиологические показатели и экономику.'"
     },
     "execution_count": 14,
     "metadata": {},
     "output_type": "execute_result"
    }
   ],
   "source": [
    "row[\"initial_text\"]"
   ],
   "metadata": {
    "collapsed": false,
    "pycharm": {
     "name": "#%%\n"
    }
   }
  },
  {
   "cell_type": "code",
   "execution_count": 15,
   "outputs": [],
   "source": [
    "data = pd.DataFrame(columns = [\"title\", \"label\"])\n",
    "data[\"title\"] = [\"Вернули из мертвых часть тела: ученые сделали прорыв на пути к воскрешению людей\",\n",
    "                 \"Рядом с могилой всадника времен Меровингов археологи нашли обезглавленную лошадь\",\n",
    "                 \"Пружинный робот прыгнул выше девятиэтажки\",\n",
    "                 \"Дроны на фонарных столбах проследят за нарушением правил парковки в Сеуле\",\n",
    "                 \"Китай успешно активирует свое самое большое “искусственное солнце”\",\n",
    "                 \"На пути к более дешевым и эффективным процессам опреснения воды\",\n",
    "                 \"China Telecom запускает телефонные звонки с квантовым шифрованием для смартфонов\",\n",
    "                 \"Ученые хотят подключить человеческий мозг к компьютеру через вены!\",\n",
    "                 \"Исследователи MIT создают умные подгузники, которые чувствуют влажность\",\n",
    "                 \"Китайцы разработали робозмею для ремонта в космосе\",\n",
    "                 \"КАК ОДИН ВРАЧ ПРЕДЛАГАЕТ ПРОВЕСТИ ПЕРВУЮ ПЕРЕСАДКУ ЧЕЛОВЕЧЕСКОЙ ГОЛОВЫ\",\n",
    "                 '300-летняя мумифицированная \"русалка\" с \"человеческим лицом\"',\n",
    "                 \"Нейросеть научили выявлять вредные привычки по соцсети\",\n",
    "                 \"Японцы выпустят летающие автомобили к Олимпиаде\",\n",
    "                 \"Корейцы создали автономных черепах-биороботов\",\n",
    "                 \"Коронавирус вызывает импотенцию, доказали ученые\",\n",
    "                 \"Раскрыто новое ужасающее последствие коронавируса\",\n",
    "                 \"Историки нашли Атлантиду\",\n",
    "                 \"Ученые: Некоторые упавшие метеориты  — осколки планеты, похожей на Землю\",\n",
    "                 \"Ученые доказали вредное влияние 4G и 5G с помощью рыб\",\n",
    "                 \"Бусы для защиты от 5G оказались по-настоящему опасными\"]\n",
    "data[\"label\"] = [1,\n",
    "                 1,\n",
    "                 0,\n",
    "                 0,\n",
    "                 1,\n",
    "                 0,\n",
    "                 0,\n",
    "                 1,\n",
    "                 0,\n",
    "                 0,\n",
    "                 1,\n",
    "                 1,\n",
    "                 0,\n",
    "                 1,\n",
    "                 1,\n",
    "                 1,\n",
    "                 1,\n",
    "                 1,\n",
    "                 0,\n",
    "                 0,\n",
    "                 1]"
   ],
   "metadata": {
    "collapsed": false,
    "pycharm": {
     "name": "#%%\n"
    }
   }
  },
  {
   "cell_type": "code",
   "execution_count": 7,
   "outputs": [
    {
     "data": {
      "text/plain": "                                               title  label\n0  Вернули из мертвых часть тела: ученые сделали ...      1\n1  Рядом с могилой всадника времен Меровингов арх...      1\n2          Пружинный робот прыгнул выше девятиэтажки      0\n3  Дроны на фонарных столбах проследят за нарушен...      0\n4  Китай успешно активирует свое самое большое “и...      1",
      "text/html": "<div>\n<style scoped>\n    .dataframe tbody tr th:only-of-type {\n        vertical-align: middle;\n    }\n\n    .dataframe tbody tr th {\n        vertical-align: top;\n    }\n\n    .dataframe thead th {\n        text-align: right;\n    }\n</style>\n<table border=\"1\" class=\"dataframe\">\n  <thead>\n    <tr style=\"text-align: right;\">\n      <th></th>\n      <th>title</th>\n      <th>label</th>\n    </tr>\n  </thead>\n  <tbody>\n    <tr>\n      <th>0</th>\n      <td>Вернули из мертвых часть тела: ученые сделали ...</td>\n      <td>1</td>\n    </tr>\n    <tr>\n      <th>1</th>\n      <td>Рядом с могилой всадника времен Меровингов арх...</td>\n      <td>1</td>\n    </tr>\n    <tr>\n      <th>2</th>\n      <td>Пружинный робот прыгнул выше девятиэтажки</td>\n      <td>0</td>\n    </tr>\n    <tr>\n      <th>3</th>\n      <td>Дроны на фонарных столбах проследят за нарушен...</td>\n      <td>0</td>\n    </tr>\n    <tr>\n      <th>4</th>\n      <td>Китай успешно активирует свое самое большое “и...</td>\n      <td>1</td>\n    </tr>\n  </tbody>\n</table>\n</div>"
     },
     "execution_count": 7,
     "metadata": {},
     "output_type": "execute_result"
    }
   ],
   "source": [
    "data.head()"
   ],
   "metadata": {
    "collapsed": false,
    "pycharm": {
     "name": "#%%\n"
    }
   }
  },
  {
   "cell_type": "code",
   "execution_count": 6,
   "outputs": [
    {
     "name": "stderr",
     "output_type": "stream",
     "text": [
      "Warning : `load_model` does not return WordVectorModel or SupervisedModel any more, but a `FastText` object which is very similar.\n",
      "C:\\ProgramData\\Anaconda3\\envs\\ezee-news-analyser\\lib\\site-packages\\sklearn\\base.py:329: UserWarning: Trying to unpickle estimator LogisticRegression from version 1.0.2 when using version 1.1.1. This might lead to breaking code or invalid results. Use at your own risk. For more info please refer to:\n",
      "https://scikit-learn.org/stable/model_persistence.html#security-maintainability-limitations\n",
      "  warnings.warn(\n",
      "C:\\ProgramData\\Anaconda3\\envs\\ezee-news-analyser\\lib\\site-packages\\sklearn\\base.py:329: UserWarning: Trying to unpickle estimator TfidfTransformer from version 1.0.2 when using version 1.1.1. This might lead to breaking code or invalid results. Use at your own risk. For more info please refer to:\n",
      "https://scikit-learn.org/stable/model_persistence.html#security-maintainability-limitations\n",
      "  warnings.warn(\n",
      "C:\\ProgramData\\Anaconda3\\envs\\ezee-news-analyser\\lib\\site-packages\\sklearn\\base.py:329: UserWarning: Trying to unpickle estimator TfidfVectorizer from version 1.0.2 when using version 1.1.1. This might lead to breaking code or invalid results. Use at your own risk. For more info please refer to:\n",
      "https://scikit-learn.org/stable/model_persistence.html#security-maintainability-limitations\n",
      "  warnings.warn(\n"
     ]
    }
   ],
   "source": [
    "ner_extractor_obj = NER_extractor()\n",
    "sentiment_extractor_obj = Sentiment_extractor()\n",
    "clickbait_predictor_obj = Clickbait_predictor()\n",
    "rationality_intuition_scorer_obj = Rationality_intuition_scorer()\n",
    "fact_extractor_obj = Fact_extractor()"
   ],
   "metadata": {
    "collapsed": false,
    "pycharm": {
     "name": "#%%\n"
    }
   }
  },
  {
   "cell_type": "code",
   "execution_count": 6,
   "outputs": [],
   "source": [
    "text = \"Американское аэрокосмическое агентство NASA огласило названия четырех космических миссий, \" \\\n",
    "       \"которые в скором времени могут быть выбраны для реализации и запуск которых может состояться \" \\\n",
    "       \"уже в конце этого десятилетия. Эти четыре проекта стали полуфиналистами конкурса, объявленного \" \\\n",
    "       \"среди американских научных команд, в котором участвовало более десяти миссий. Все они были отобраны \" \\\n",
    "       \"по критериям потенциальной пользы для науки и технической осуществимости проекта. В рамках программы \" \\\n",
    "       \"Discovery NASA занимается планированием миссий, которые призваны дать ответы на фундаментальные вопросы \" \\\n",
    "       \"о происхождении тел Солнечной системы и возможному наличию жизни на них. «Эти выбранные миссии могут \" \\\n",
    "       \"трансформировать наше восприятие некоторых из наиболее активных и сложных миров в Солнечной системе, \" \\\n",
    "       \"— заявил Томас Зурбучен, помощник директора NASA по науке. — Исследование каждого из этих небесных тел \" \\\n",
    "       \"поможет раскрыть секреты о том, как они и им подобные объекты образовались в космосе». Каждый проект \" \\\n",
    "       \"из выбранных полуфиналистов получит $3 млн на проработку концепции. Из четырех выбранных проектов NASA \" \\\n",
    "       \"планирует отобрать две в 2021 году, чтобы профинансировать работу по их реализации в рамках программы \" \\\n",
    "       \"Discovery. Два из четырех проектов посвящены исследованию Венеры, куда аппараты NASA не отправлялись \" \\\n",
    "       \"уже свыше тридцати лет — с 1989 года, когда к этой планете был запущен зонд Magellan. Миссия VERITAS \" \\\n",
    "       \"( Venus Emissivity, Radio Science, InSAR, Topography, and Spectroscopy) призвана картировать поверхность \" \\\n",
    "       \"Венеры для лучшего понимания геологической истории планеты и получения ответа на вопрос о причинах ее \" \\\n",
    "       \"кардинальных отличий от Земли. Карта будет построена при помощи радара, установленного на орбитальном \" \\\n",
    "       \"аппарате. В ходе миссии планируется узнать, продолжаются ли в наши дни на Венере тектонические и \" \\\n",
    "       \"вулканические процессы. Кроме того, планируется картировать поверхность планеты в инфракрасном диапазоне. \" \\\n",
    "       \"Миссия DAVINCI+ (Deep Atmosphere Venus Investigation of Noble gases, Chemistry and Imaging Plus) задумана \" \\\n",
    "       \"для того, чтобы исследовать состав атмосферы Венеры, понять, как она формировалась и эволюционировала в \" \\\n",
    "       \"прошлом, и ответить на вопрос о существовании когда-либо на планете жидкого океана. Сделать это планируется \" \\\n",
    "       \"при помощи спускаемого аппарата, который будет проводить измерения от верхних слоев атмосферы до самой поверхности. \" \\\n",
    "       \"Научные инструменты аппарата будут размещены внутри герметичного сферического корпуса, который должен защитить их от \" \\\n",
    "       \"разрушительного воздействия высокой температуры атмосферы. + в названии миссии говорит о наличии в ее составе камер, \" \\\n",
    "       \"которые будут присутствовать на борту орбитального и спускаемого аппаратов. «Проект DAVINCI+ пересекается по целям с \" \\\n",
    "       \"российской миссией «Венера-Д», обе нацелены на посадку, поэтому в будущем возможно их совмещение в одном совместном проекте», — \" \\\n",
    "       \"сказал «Газете.Ru» основатель проекта «Открытый космос» Виталий Егоров. Миссия TRIDENT должна исследовать Тритон — \" \\\n",
    "       \"ледяной спутник Нептуна, известный ученым своей активностью. Данные, полученные американским зондом Voyager 2, показали,\" \\\n",
    "       \" что поверхность Тритона активно обновляется. Ученые считают, что Тритон, на котором выпадает «снег» из органических \" \\\n",
    "       \"веществ, может оказаться отличной целью для понимания вопросов происхождения аналогичных тел в Солнечной системе. \" \\\n",
    "       \"Пролетев мимо Тритона, аппарат попытается картировать его поверхность, изучить активные процессы на его поверхности и \" \\\n",
    "       \"определить, есть ли под его поверхностью жидкий океан. Миссия IVO (Io Volcano Observer) должна направиться к одному из \" \\\n",
    "       \"самых интересных спутников Юпитера — Ио. Это тело с наиболее мощной вулканической активностью в Солнечной системе, которая \" \\\n",
    "       \"поддерживается за счет мощного приливного воздействия со стороны Юпитера. Во время нескольких близких пролетов аппарат выяснит, \" \\\n",
    "       \"как формируется лава на поверхности спутника.\"\n"
   ],
   "metadata": {
    "collapsed": false,
    "pycharm": {
     "name": "#%%\n"
    }
   }
  },
  {
   "cell_type": "code",
   "execution_count": null,
   "outputs": [],
   "source": [
    "text = \"В мире Москва занимает третье место, уступая лишь Нью-Йорку и Сан-Франциско. Москва признана первой среди европейских городов в рейтинге инноваций, помогающих в формировании устойчивости коронавирусу. Она опередила Лондон и Барселону.\" \\\n",
    "       \"Среди мировых мегаполисов российская столица занимает третью строчку —\" \\\n",
    "       \"после Сан-Франциско и Нью-Йорка. Пятерку замыкают Бостон и Лондон. Рейтинг\" \\\n",
    "       \"соcтавило международное исследовательское агентство StartupBlink.\" \\\n",
    "       \"Добиться высоких показателей Москве помогло почти 160 передовых решений,\" \\\n",
    "       \"которые применяются для борьбы с распространением коронавируса.\" \\\n",
    "       \"Среди них алгоритмы компьютерного зрения на основе искусственного\" \\\n",
    "       \"интеллекта. Это методика уже помогла рентгенологам проанализировать более трех\" \\\n",
    "       \"миллионов исследований.\" \\\n",
    "       \"Еще одно инновационное решение — облачная платформа, которая объединяет\" \\\n",
    "       \"пациентов, врачей, медицинские организации, страховые компании,\" \\\n",
    "       \"фармакологические производства и сайты.\" \\\n",
    "       \"Способствовали высоким результатам и технологии, которые помогают\" \\\n",
    "       \"адаптировать жизнь горожан во время пандемии. Это проекты в сфере умного туризма,\" \\\n",
    "       \"электронной коммерции и логистики, а также дистанционной работы и\" \\\n",
    "       \"онлайн-образования. Эксперты агентства StartupBlink оценивали принятые в Москве меры с точки зрения эпидемиологических показателей и влияния на экономику.\"\n",
    "\n"
   ],
   "metadata": {
    "collapsed": false,
    "pycharm": {
     "name": "#%%\n"
    }
   }
  },
  {
   "cell_type": "code",
   "execution_count": null,
   "outputs": [],
   "source": [
    "ners = ner_extractor_obj.get_ner_elements(text)"
   ],
   "metadata": {
    "collapsed": false,
    "pycharm": {
     "name": "#%%\n"
    }
   }
  },
  {
   "cell_type": "code",
   "execution_count": null,
   "outputs": [],
   "source": [
    "ners"
   ],
   "metadata": {
    "collapsed": false,
    "pycharm": {
     "name": "#%%\n"
    }
   }
  },
  {
   "cell_type": "code",
   "execution_count": null,
   "outputs": [],
   "source": [
    "sentiments, fig = sentiment_extractor_obj.get_sentiment_scores(text)"
   ],
   "metadata": {
    "collapsed": false,
    "pycharm": {
     "name": "#%%\n"
    }
   }
  },
  {
   "cell_type": "code",
   "execution_count": null,
   "outputs": [],
   "source": [
    "sentiments\n"
   ],
   "metadata": {
    "collapsed": false,
    "pycharm": {
     "name": "#%%\n"
    }
   }
  },
  {
   "cell_type": "code",
   "execution_count": null,
   "outputs": [],
   "source": [
    "fig.show()"
   ],
   "metadata": {
    "collapsed": false,
    "pycharm": {
     "name": "#%%\n"
    }
   }
  },
  {
   "cell_type": "code",
   "execution_count": null,
   "outputs": [],
   "source": [
    "example_1 = \"10 Reasons Why Noise Cancelling Headphones Are the Best\"\n",
    "example_2 = \"Kremlin Says No News of French Reporter's Death in Ukraine\"\n",
    "example_3 = \"News brief: Tulsa shooting, Corinthian student loans, inflation hits food banks\"\n",
    "prediction_1 = clickbait_predictor_obj.get_clickbait_score(example_1)\n",
    "prediction_2 = clickbait_predictor_obj.get_clickbait_score(example_2)\n",
    "prediction_3 = clickbait_predictor_obj.get_clickbait_score(example_3)\n",
    "print(f\"'{example_1}' is {round(prediction_1*100, 2)}% clickbait\")\n",
    "print(f\"'{example_2}' is {round(prediction_2*100, 2)}% clickbait\")\n",
    "print(f\"'{example_3}' is {round(prediction_3*100, 2)}% clickbait\")\n"
   ],
   "metadata": {
    "collapsed": false,
    "pycharm": {
     "name": "#%%\n"
    }
   }
  },
  {
   "cell_type": "code",
   "execution_count": 7,
   "outputs": [
    {
     "data": {
      "text/plain": "(1.0, 0.0)"
     },
     "execution_count": 7,
     "metadata": {},
     "output_type": "execute_result"
    }
   ],
   "source": [
    "rationality_intuition_scorer_obj.get_rationality_intuition_score(text)"
   ],
   "metadata": {
    "collapsed": false,
    "pycharm": {
     "name": "#%%\n"
    }
   }
  },
  {
   "cell_type": "code",
   "execution_count": 8,
   "outputs": [],
   "source": [
    "predictions = []\n",
    "for ind, row in data_test.iterrows():\n",
    "       text = row[\"initial_text\"]\n",
    "       prediction = rationality_intuition_scorer_obj.get_rationality_intuition_score(text)\n",
    "       predictions.append(prediction)"
   ],
   "metadata": {
    "collapsed": false,
    "pycharm": {
     "name": "#%%\n"
    }
   }
  },
  {
   "cell_type": "code",
   "execution_count": 7,
   "outputs": [
    {
     "data": {
      "text/plain": "[(0.00641025641025641, 0.0),\n (0.0, 0.0),\n (0.008695652173913044, 0.0),\n (0.0, 0.0),\n (0.0, 0.0),\n (0.006993006993006993, 0.0),\n (0.0, 0.0),\n (0.0, 0.0)]"
     },
     "execution_count": 7,
     "metadata": {},
     "output_type": "execute_result"
    }
   ],
   "source": [
    "predictions"
   ],
   "metadata": {
    "collapsed": false,
    "pycharm": {
     "name": "#%%\n"
    }
   }
  },
  {
   "cell_type": "code",
   "execution_count": 16,
   "outputs": [],
   "source": [
    "predictions = []\n",
    "for ind, row in data.iterrows():\n",
    "       text = row[\"title\"]\n",
    "       text_eng = atls.translate_text(text,\"ru\", \"en\")\n",
    "       prediction = clickbait_predictor_obj.get_clickbait_score(text_eng)\n",
    "       predictions.append(prediction)\n",
    "data['pred'] = predictions"
   ],
   "metadata": {
    "collapsed": false,
    "pycharm": {
     "name": "#%%\n"
    }
   }
  },
  {
   "cell_type": "code",
   "execution_count": null,
   "outputs": [],
   "source": [
    "data.head()"
   ],
   "metadata": {
    "collapsed": false,
    "pycharm": {
     "name": "#%%\n"
    }
   }
  },
  {
   "cell_type": "code",
   "execution_count": 17,
   "outputs": [
    {
     "name": "stdout",
     "output_type": "stream",
     "text": [
      "              precision    recall  f1-score   support\n",
      "\n",
      "           0       0.64      0.78      0.70         9\n",
      "           1       0.80      0.67      0.73        12\n",
      "\n",
      "    accuracy                           0.71        21\n",
      "   macro avg       0.72      0.72      0.71        21\n",
      "weighted avg       0.73      0.71      0.72        21\n",
      "\n"
     ]
    }
   ],
   "source": [
    "import sklearn\n",
    "\n",
    "print(sklearn.metrics.classification_report(data[\"label\"], data[\"pred\"].values>0.5))\n"
   ],
   "metadata": {
    "collapsed": false,
    "pycharm": {
     "name": "#%%\n"
    }
   }
  },
  {
   "cell_type": "code",
   "execution_count": 18,
   "outputs": [
    {
     "name": "stdout",
     "output_type": "stream",
     "text": [
      "Text is Рядом с могилой всадника времен Меровингов археологи нашли обезглавленную лошадь\n",
      "real label is 1\n",
      "prediction is 0.07303328545577623\n",
      "\n",
      "Text is Китай успешно активирует свое самое большое “искусственное солнце”\n",
      "real label is 1\n",
      "prediction is 0.017691609233385443\n",
      "\n",
      "Text is Исследователи MIT создают умные подгузники, которые чувствуют влажность\n",
      "real label is 0\n",
      "prediction is 0.6559885387794198\n",
      "\n",
      "Text is Японцы выпустят летающие автомобили к Олимпиаде\n",
      "real label is 1\n",
      "prediction is 0.16857648090637636\n",
      "\n",
      "Text is Историки нашли Атлантиду\n",
      "real label is 1\n",
      "prediction is 0.3088870433832657\n",
      "\n",
      "Text is Ученые доказали вредное влияние 4G и 5G с помощью рыб\n",
      "real label is 0\n",
      "prediction is 0.9224109441154572\n",
      "\n"
     ]
    }
   ],
   "source": [
    "for ind, row in data.iterrows():\n",
    "       text = row[\"title\"]\n",
    "       prediction = int(row[\"pred\"]>0.5)\n",
    "       label = row[\"label\"]\n",
    "       if prediction!=label:\n",
    "           print(f\"Text is {text}\")\n",
    "           print(f\"real label is {label}\")\n",
    "           print(f\"prediction is {row['pred']}\")\n",
    "           print()\n",
    "\n"
   ],
   "metadata": {
    "collapsed": false,
    "pycharm": {
     "name": "#%%\n"
    }
   }
  },
  {
   "cell_type": "code",
   "execution_count": 8,
   "outputs": [],
   "source": [
    "fact_extractor_obj = Fact_extractor()\n",
    "results_init = []\n",
    "results_source = []\n",
    "for ind, row in data_test.iterrows():\n",
    "        text_init = row[\"initial_text\"]\n",
    "        text_source = row[\"source_text\"]\n",
    "        _, init_facts  = fact_extractor_obj.extract_fact_fromtext(text_init)\n",
    "        _, source_facts = fact_extractor_obj.extract_fact_fromtext(text_source)\n",
    "        results_init.append(init_facts)\n",
    "        results_source.append(source_facts)\n"
   ],
   "metadata": {
    "collapsed": false,
    "pycharm": {
     "name": "#%%\n"
    }
   }
  },
  {
   "cell_type": "code",
   "execution_count": null,
   "outputs": [],
   "source": [
    "results_init = []\n",
    "results_source = []\n",
    "for ind, row in data_test.iterrows():\n",
    "        text_init = row[\"initial_text\"]\n",
    "        text_source = row[\"source_text\"]\n",
    "        result_init, _ = sentiment_extractor_obj.get_sentiment_scores(text_init)\n",
    "        result_source, _ = sentiment_extractor_obj.get_sentiment_scores(text_source)\n",
    "        results_init.append(result_init)\n",
    "        results_source.append(result_source)\n",
    "\n",
    "results_init_df = pd.DataFrame(results_init)\n",
    "results_init_df = results_init_df.rename(columns=dict([(column, f\"{column}_init\") for column in list(results_init_df)]))\n",
    "results_source_df = pd.DataFrame(results_source)\n",
    "results_source_df = results_source_df.rename(columns=dict([(column, f\"{column}_source\") for column in list(results_source_df)]))\n",
    "\n",
    "results_df = pd.concat([results_init_df, results_source_df], axis = 1)\n",
    "results_df.to_csv(\"./data/sentiment_test.csv\", index = False)"
   ],
   "metadata": {
    "collapsed": false,
    "pycharm": {
     "name": "#%%\n"
    }
   }
  },
  {
   "cell_type": "code",
   "execution_count": null,
   "outputs": [],
   "source": [
    "from scipy.spatial.distance import cosine\n",
    "\n",
    "column_names = [\"negative\", \"positive\", \"neutral\", \"skip\", \"speech\", \"rationality\", \"intuition\", \"clickbait_score\"]\n",
    "distances = []\n",
    "for ind, row in results_df.iterrows():\n",
    "    init_vect = row[[f\"{column}_init\" for column in column_names]]\n",
    "    source_vect = row[[f\"{column}_source\" for column in column_names]]\n",
    "    distance = cosine(init_vect, source_vect)\n",
    "    distances.append(distance)\n",
    "\n",
    "results_df[\"cosine_distance\"] = distances\n",
    "results_df.to_csv(\"./data/sentiment_test.csv\", index = False)\n"
   ],
   "metadata": {
    "collapsed": false,
    "pycharm": {
     "name": "#%%\n"
    }
   }
  },
  {
   "cell_type": "code",
   "execution_count": null,
   "outputs": [],
   "source": [
    "import yaml\n",
    "\n",
    "with open('./models/rational_intuitive_keywords_port.yml', encoding='utf8') as file:\n",
    "    # The FullLoader parameter handles the conversion from YAML\n",
    "    # scalar values to Python the dictionary format\n",
    "    keywords_rational_intuitive_port = yaml.load(file, Loader=yaml.FullLoader)"
   ],
   "metadata": {
    "collapsed": false,
    "pycharm": {
     "name": "#%%\n"
    }
   }
  },
  {
   "cell_type": "code",
   "execution_count": null,
   "outputs": [],
   "source": [
    "keywords_rational_intuitive_port.keys()"
   ],
   "metadata": {
    "collapsed": false,
    "pycharm": {
     "name": "#%%\n"
    }
   }
  },
  {
   "cell_type": "code",
   "execution_count": null,
   "outputs": [],
   "source": [
    "keywords_rational_rus = [atls.translate_text(keyword, \"pt\", \"ru\") for keyword in keywords_rational_intuitive_port['rationality']]"
   ],
   "metadata": {
    "collapsed": false,
    "pycharm": {
     "name": "#%%\n"
    }
   }
  },
  {
   "cell_type": "code",
   "execution_count": null,
   "outputs": [],
   "source": [
    "keywords_intuitive_rus = [atls.translate_text(keyword, \"pt\", \"ru\") for keyword in keywords_rational_intuitive_port['intuition']]\n",
    "\n"
   ],
   "metadata": {
    "collapsed": false,
    "pycharm": {
     "name": "#%%\n"
    }
   }
  },
  {
   "cell_type": "code",
   "execution_count": null,
   "outputs": [],
   "source": [
    "import pymorphy2\n",
    "\n",
    "morph = pymorphy2.MorphAnalyzer()\n",
    "def process_word(word):\n",
    "    word = word.lower().strip()\n",
    "    word = \"\".join([ch for ch in word if ch.isalpha()])\n",
    "    return morph.parse(word)[0].normal_form"
   ],
   "metadata": {
    "collapsed": false,
    "pycharm": {
     "name": "#%%\n"
    }
   }
  },
  {
   "cell_type": "code",
   "execution_count": null,
   "outputs": [],
   "source": [
    "keywords_rational_rus = list(set([process_word(keyword) for keyword in keywords_rational_rus]))\n",
    "\n",
    "keywords_intuitive_rus = list(set([process_word(keyword) for keyword in keywords_intuitive_rus]))"
   ],
   "metadata": {
    "collapsed": false,
    "pycharm": {
     "name": "#%%\n"
    }
   }
  },
  {
   "cell_type": "code",
   "execution_count": null,
   "outputs": [],
   "source": [
    "keywords_rational_intuitive_rus = {\"rationality\": keywords_rational_rus,\n",
    "                                   \"intuition\": keywords_intuitive_rus}\n",
    "\n",
    "\n",
    "\n",
    "\n",
    "with open('./models/rational_intuitive_keywords_rus.yml',  'w', encoding='utf8') as file:\n",
    "    documents = yaml.dump(keywords_rational_intuitive_rus, file, allow_unicode=True)"
   ],
   "metadata": {
    "collapsed": false,
    "pycharm": {
     "name": "#%%\n"
    }
   }
  },
  {
   "cell_type": "code",
   "execution_count": null,
   "outputs": [],
   "source": [],
   "metadata": {
    "collapsed": false,
    "pycharm": {
     "name": "#%%\n"
    }
   }
  }
 ],
 "metadata": {
  "kernelspec": {
   "name": "pycharm-f38ff2d5",
   "language": "python",
   "display_name": "PyCharm (ezee-news-analyser)"
  },
  "language_info": {
   "codemirror_mode": {
    "name": "ipython",
    "version": 2
   },
   "file_extension": ".py",
   "mimetype": "text/x-python",
   "name": "python",
   "nbconvert_exporter": "python",
   "pygments_lexer": "ipython2",
   "version": "2.7.6"
  }
 },
 "nbformat": 4,
 "nbformat_minor": 0
}