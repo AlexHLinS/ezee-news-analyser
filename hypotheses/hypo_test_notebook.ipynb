{
 "cells": [
  {
   "cell_type": "markdown",
   "metadata": {
    "collapsed": true,
    "pycharm": {
     "name": "#%% md\n"
    }
   },
   "source": [
    "## В этом ноутбуке тестируются прототипы функций и методов"
   ]
  },
  {
   "cell_type": "markdown",
   "source": [
    "#### Получение данных для скоринга домена:"
   ],
   "metadata": {
    "collapsed": false,
    "pycharm": {
     "name": "#%% md\n"
    }
   }
  },
  {
   "cell_type": "code",
   "execution_count": 33,
   "outputs": [
    {
     "name": "stdout",
     "output_type": "stream",
     "text": [
      "Пример вывода:\n"
     ]
    }
   ],
   "source": [
    "import re\n",
    "\n",
    "\n",
    "def get_domain_whois_info(domain):\n",
    "    # add to requirements.txt\n",
    "    import requests\n",
    "    api_request = f'http://api.whois.vu/?q={domain}'\n",
    "    return requests.get(api_request).json()\n",
    "\n",
    "\n",
    "def download_urls_black_lists():\n",
    "    # add to requirements.txt\n",
    "    import requests\n",
    "    def get_blacklist_from_url(target_url, filename):\n",
    "        #TODO:  добавить проверку актуальности файла для избежания частых запросов\n",
    "        black_list_urls_data = requests.get(target_url).text\n",
    "        with open(filename, 'w') as bl_file:\n",
    "            bl_file.write(black_list_urls_data)\n",
    "\n",
    "    def get_list_from_json_request(url):\n",
    "        import json\n",
    "        request_text = requests.get(url).text\n",
    "        json.loads(request_text)\n",
    "\n",
    "    def get_rkn_black_list_ip(last_time_updated):\n",
    "        import datetime\n",
    "        datetime.datetime.now()\n",
    "        result = list()\n",
    "\n",
    "        pass\n",
    "\n",
    "    def get_rkn_black_list_domen(last_time_updated):\n",
    "        result = list()\n",
    "        pass\n",
    "\n",
    "    black_lists = {'black_list_urls': 'https://reestr.rublacklist.net/api/v2/domains/json',\n",
    "                   'black_list_ips': 'https://reestr.rublacklist.net/api/v2/ips/json'}\n",
    "\n",
    "    for key in black_lists.keys():\n",
    "        get_blacklist_from_url(black_lists[key], key + '.txt')\n",
    "\n",
    "    pass\n",
    "\n",
    "\n",
    "#test\n",
    "print('Пример вывода:')\n",
    "get_domain_whois_info('yandex.ru')\n",
    "download_urls_black_lists()\n"
   ],
   "metadata": {
    "collapsed": false,
    "pycharm": {
     "name": "#%%\n"
    }
   }
  },
  {
   "cell_type": "code",
   "execution_count": 34,
   "outputs": [],
   "source": [
    "def get_list_from_json_request(url, lalast_time_updated):\n",
    "    import datetime\n",
    "    import requests\n",
    "\n",
    "    class EarlyRequest(Exception):\n",
    "        \"\"\"Too Early for next request\"\"\"\n",
    "\n",
    "        def __init__(self, message='Too Early for next request'):\n",
    "            super().__init__(self.message)\n",
    "\n",
    "    delta = (datetime.datetime.now().date().year ^ last_time_updated.date().year) + (\n",
    "            datetime.datetime.now().date().month ^ last_time_updated.date().month) + (\n",
    "                    datetime.datetime.now().date().day ^ last_time_updated.date().day) + (\n",
    "                    datetime.datetime.now().time().hour ^ datetime.datetime.now().time().hour)\n",
    "\n",
    "    if delta ^ 0 != 0:\n",
    "        result = requests.get(url).text\n",
    "        return result\n",
    "\n",
    "    return Exception()"
   ],
   "metadata": {
    "collapsed": false,
    "pycharm": {
     "name": "#%%\n"
    }
   }
  },
  {
   "cell_type": "code",
   "execution_count": 35,
   "outputs": [
    {
     "name": "stdout",
     "output_type": "stream",
     "text": [
      "2606:4700:20::681a:dca\n"
     ]
    }
   ],
   "source": [
    "import json\n",
    "\n",
    "with open('black_list_ips.txt', 'r') as data_file:\n",
    "    x = data_file.read()\n",
    "    x = json.loads(x)\n",
    "\n",
    "print(x[0])"
   ],
   "metadata": {
    "collapsed": false,
    "pycharm": {
     "name": "#%%\n"
    }
   }
  },
  {
   "cell_type": "markdown",
   "source": [
    "#### Переводчик:"
   ],
   "metadata": {
    "collapsed": false,
    "pycharm": {
     "name": "#%% md\n"
    }
   }
  },
  {
   "cell_type": "code",
   "execution_count": 36,
   "outputs": [
    {
     "name": "stdout",
     "output_type": "stream",
     "text": [
      "^C\r\n",
      "\u001B[31mERROR: Operation cancelled by user\u001B[0m\u001B[31m\r\n",
      "\u001B[0mRequirement already satisfied: natasha in /Library/Frameworks/Python.framework/Versions/3.8/lib/python3.8/site-packages (1.4.0)\r\n",
      "Requirement already satisfied: pymorphy2 in /Library/Frameworks/Python.framework/Versions/3.8/lib/python3.8/site-packages (from natasha) (0.9.1)\r\n",
      "Requirement already satisfied: slovnet>=0.3.0 in /Library/Frameworks/Python.framework/Versions/3.8/lib/python3.8/site-packages (from natasha) (0.5.0)\r\n",
      "Requirement already satisfied: ipymarkup>=0.8.0 in /Library/Frameworks/Python.framework/Versions/3.8/lib/python3.8/site-packages (from natasha) (0.9.0)\r\n",
      "Requirement already satisfied: navec>=0.9.0 in /Library/Frameworks/Python.framework/Versions/3.8/lib/python3.8/site-packages (from natasha) (0.10.0)\r\n",
      "Requirement already satisfied: razdel>=0.5.0 in /Library/Frameworks/Python.framework/Versions/3.8/lib/python3.8/site-packages (from natasha) (0.5.0)\r\n",
      "Requirement already satisfied: yargy>=0.14.0 in /Library/Frameworks/Python.framework/Versions/3.8/lib/python3.8/site-packages (from natasha) (0.15.0)\r\n",
      "Requirement already satisfied: intervaltree>=3 in /Library/Frameworks/Python.framework/Versions/3.8/lib/python3.8/site-packages (from ipymarkup>=0.8.0->natasha) (3.1.0)\r\n",
      "Requirement already satisfied: numpy in /Library/Frameworks/Python.framework/Versions/3.8/lib/python3.8/site-packages (from navec>=0.9.0->natasha) (1.22.3)\r\n",
      "Requirement already satisfied: docopt>=0.6 in /Library/Frameworks/Python.framework/Versions/3.8/lib/python3.8/site-packages (from pymorphy2->natasha) (0.6.2)\r\n",
      "Requirement already satisfied: pymorphy2-dicts-ru<3.0,>=2.4 in /Library/Frameworks/Python.framework/Versions/3.8/lib/python3.8/site-packages (from pymorphy2->natasha) (2.4.417127.4579844)\r\n",
      "Requirement already satisfied: dawg-python>=0.7.1 in /Library/Frameworks/Python.framework/Versions/3.8/lib/python3.8/site-packages (from pymorphy2->natasha) (0.7.2)\r\n",
      "Requirement already satisfied: sortedcontainers<3.0,>=2.0 in /Library/Frameworks/Python.framework/Versions/3.8/lib/python3.8/site-packages (from intervaltree>=3->ipymarkup>=0.8.0->natasha) (2.4.0)\r\n",
      "\u001B[33mWARNING: You are using pip version 22.0.4; however, version 22.1.2 is available.\r\n",
      "You should consider upgrading via the '/Library/Frameworks/Python.framework/Versions/3.8/bin/python3 -m pip install --upgrade pip' command.\u001B[0m\u001B[33m\r\n",
      "\u001B[0m"
     ]
    }
   ],
   "source": [
    "! pip install translate\n",
    "! pip install natasha"
   ],
   "metadata": {
    "collapsed": false,
    "pycharm": {
     "name": "#%%\n"
    }
   }
  },
  {
   "cell_type": "code",
   "execution_count": 37,
   "outputs": [
    {
     "ename": "KeyboardInterrupt",
     "evalue": "",
     "output_type": "error",
     "traceback": [
      "\u001B[0;31m---------------------------------------------------------------------------\u001B[0m",
      "\u001B[0;31mKeyboardInterrupt\u001B[0m                         Traceback (most recent call last)",
      "Input \u001B[0;32mIn [37]\u001B[0m, in \u001B[0;36m<cell line: 21>\u001B[0;34m()\u001B[0m\n\u001B[1;32m     17\u001B[0m text \u001B[38;5;241m=\u001B[39m \u001B[38;5;124m'''\u001B[39m\u001B[38;5;124mРазработчики Atomic Heart из студии Mundfish опубликовали новый скриншот в своём Telegram-канале. На нём появляется главный герой игры — майор КГБ Ничаев с надетой перчаткой, которая даёт ему способность телекинеза, взлома роботов и другие. Авторы также подсчитали примерно количество часов, ушедших на разработку. По их словам, за пять лет производства игры их команда увеличилась до 120 человек. Совокупно на работу ушло примерно 633 тыс. часов разработки, если считать, что хотя бы 60 разработчиков проводило по 22 рабочих дня в месяц и по 8 часов в день. Atomic Heart должна выйти в 2022 году в период с октября по декабрь. Более точная дата пока не называется. Ранее разработчики опубликовали фрагмент из катсцены с русской озвучкой.\u001B[39m\n\u001B[1;32m     18\u001B[0m \u001B[38;5;124m'''\u001B[39m\n\u001B[1;32m     20\u001B[0m eng_txt \u001B[38;5;241m=\u001B[39m translate_text(text, \u001B[38;5;124m'\u001B[39m\u001B[38;5;124mru\u001B[39m\u001B[38;5;124m'\u001B[39m, \u001B[38;5;124m'\u001B[39m\u001B[38;5;124men\u001B[39m\u001B[38;5;124m'\u001B[39m)\n\u001B[0;32m---> 21\u001B[0m from_eng_txt \u001B[38;5;241m=\u001B[39m \u001B[43mtranslate_text\u001B[49m\u001B[43m(\u001B[49m\u001B[43meng_txt\u001B[49m\u001B[43m,\u001B[49m\u001B[43m \u001B[49m\u001B[38;5;124;43m'\u001B[39;49m\u001B[38;5;124;43men\u001B[39;49m\u001B[38;5;124;43m'\u001B[39;49m\u001B[43m,\u001B[49m\u001B[43m \u001B[49m\u001B[38;5;124;43m'\u001B[39;49m\u001B[38;5;124;43mru\u001B[39;49m\u001B[38;5;124;43m'\u001B[39;49m\u001B[43m)\u001B[49m\n\u001B[1;32m     23\u001B[0m \u001B[38;5;28mprint\u001B[39m(\u001B[38;5;124mf\u001B[39m\u001B[38;5;124m'\u001B[39m\u001B[38;5;124mOrig:\u001B[39m\u001B[38;5;130;01m\\n\u001B[39;00m\u001B[38;5;132;01m{\u001B[39;00mtext\u001B[38;5;132;01m}\u001B[39;00m\u001B[38;5;130;01m\\n\u001B[39;00m\u001B[38;5;124mConverted\u001B[39m\u001B[38;5;130;01m\\n\u001B[39;00m\u001B[38;5;132;01m{\u001B[39;00mfrom_eng_txt\u001B[38;5;132;01m}\u001B[39;00m\u001B[38;5;124m'\u001B[39m)\n",
      "Input \u001B[0;32mIn [37]\u001B[0m, in \u001B[0;36mtranslate_text\u001B[0;34m(text, from_lang, to_lang)\u001B[0m\n\u001B[1;32m     10\u001B[0m \u001B[38;5;28;01mfor\u001B[39;00m sentence \u001B[38;5;129;01min\u001B[39;00m sentences:\n\u001B[1;32m     11\u001B[0m     translator \u001B[38;5;241m=\u001B[39m Translator(from_lang\u001B[38;5;241m=\u001B[39mfrom_lang, to_lang\u001B[38;5;241m=\u001B[39mto_lang)\n\u001B[0;32m---> 12\u001B[0m     result \u001B[38;5;241m=\u001B[39m result \u001B[38;5;241m+\u001B[39m \u001B[43mtranslator\u001B[49m\u001B[38;5;241;43m.\u001B[39;49m\u001B[43mtranslate\u001B[49m\u001B[43m(\u001B[49m\u001B[43msentence\u001B[49m\u001B[38;5;241;43m.\u001B[39;49m\u001B[43mtext\u001B[49m\u001B[43m)\u001B[49m \u001B[38;5;241m+\u001B[39m \u001B[38;5;124m'\u001B[39m\u001B[38;5;124m \u001B[39m\u001B[38;5;124m'\u001B[39m\n\u001B[1;32m     14\u001B[0m \u001B[38;5;28;01mreturn\u001B[39;00m result\n",
      "File \u001B[0;32m/Library/Frameworks/Python.framework/Versions/3.8/lib/python3.8/site-packages/translate/translate.py:45\u001B[0m, in \u001B[0;36mTranslator.translate\u001B[0;34m(self, text)\u001B[0m\n\u001B[1;32m     42\u001B[0m     \u001B[38;5;28;01mreturn\u001B[39;00m text\n\u001B[1;32m     44\u001B[0m text_list \u001B[38;5;241m=\u001B[39m wrap(text, TRANSLATION_API_MAX_LENGHT, replace_whitespace\u001B[38;5;241m=\u001B[39m\u001B[38;5;28;01mFalse\u001B[39;00m)\n\u001B[0;32m---> 45\u001B[0m \u001B[38;5;28;01mreturn\u001B[39;00m \u001B[38;5;124;43m'\u001B[39;49m\u001B[38;5;124;43m \u001B[39;49m\u001B[38;5;124;43m'\u001B[39;49m\u001B[38;5;241;43m.\u001B[39;49m\u001B[43mjoin\u001B[49m\u001B[43m(\u001B[49m\u001B[38;5;28;43mself\u001B[39;49m\u001B[38;5;241;43m.\u001B[39;49m\u001B[43mprovider\u001B[49m\u001B[38;5;241;43m.\u001B[39;49m\u001B[43mget_translation\u001B[49m\u001B[43m(\u001B[49m\u001B[43mtext_wraped\u001B[49m\u001B[43m)\u001B[49m\u001B[43m \u001B[49m\u001B[38;5;28;43;01mfor\u001B[39;49;00m\u001B[43m \u001B[49m\u001B[43mtext_wraped\u001B[49m\u001B[43m \u001B[49m\u001B[38;5;129;43;01min\u001B[39;49;00m\u001B[43m \u001B[49m\u001B[43mtext_list\u001B[49m\u001B[43m)\u001B[49m\n",
      "File \u001B[0;32m/Library/Frameworks/Python.framework/Versions/3.8/lib/python3.8/site-packages/translate/translate.py:45\u001B[0m, in \u001B[0;36m<genexpr>\u001B[0;34m(.0)\u001B[0m\n\u001B[1;32m     42\u001B[0m     \u001B[38;5;28;01mreturn\u001B[39;00m text\n\u001B[1;32m     44\u001B[0m text_list \u001B[38;5;241m=\u001B[39m wrap(text, TRANSLATION_API_MAX_LENGHT, replace_whitespace\u001B[38;5;241m=\u001B[39m\u001B[38;5;28;01mFalse\u001B[39;00m)\n\u001B[0;32m---> 45\u001B[0m \u001B[38;5;28;01mreturn\u001B[39;00m \u001B[38;5;124m'\u001B[39m\u001B[38;5;124m \u001B[39m\u001B[38;5;124m'\u001B[39m\u001B[38;5;241m.\u001B[39mjoin(\u001B[38;5;28;43mself\u001B[39;49m\u001B[38;5;241;43m.\u001B[39;49m\u001B[43mprovider\u001B[49m\u001B[38;5;241;43m.\u001B[39;49m\u001B[43mget_translation\u001B[49m\u001B[43m(\u001B[49m\u001B[43mtext_wraped\u001B[49m\u001B[43m)\u001B[49m \u001B[38;5;28;01mfor\u001B[39;00m text_wraped \u001B[38;5;129;01min\u001B[39;00m text_list)\n",
      "File \u001B[0;32m/Library/Frameworks/Python.framework/Versions/3.8/lib/python3.8/site-packages/translate/providers/mymemory_translated.py:42\u001B[0m, in \u001B[0;36mMyMemoryProvider.get_translation\u001B[0;34m(self, text)\u001B[0m\n\u001B[1;32m     41\u001B[0m \u001B[38;5;28;01mdef\u001B[39;00m \u001B[38;5;21mget_translation\u001B[39m(\u001B[38;5;28mself\u001B[39m, text):\n\u001B[0;32m---> 42\u001B[0m     data \u001B[38;5;241m=\u001B[39m \u001B[38;5;28;43mself\u001B[39;49m\u001B[38;5;241;43m.\u001B[39;49m\u001B[43m_make_request\u001B[49m\u001B[43m(\u001B[49m\u001B[43mtext\u001B[49m\u001B[43m)\u001B[49m\n\u001B[1;32m     44\u001B[0m     translation \u001B[38;5;241m=\u001B[39m data[\u001B[38;5;124m'\u001B[39m\u001B[38;5;124mresponseData\u001B[39m\u001B[38;5;124m'\u001B[39m][\u001B[38;5;124m'\u001B[39m\u001B[38;5;124mtranslatedText\u001B[39m\u001B[38;5;124m'\u001B[39m]\n\u001B[1;32m     45\u001B[0m     \u001B[38;5;28;01mif\u001B[39;00m translation:\n",
      "File \u001B[0;32m/Library/Frameworks/Python.framework/Versions/3.8/lib/python3.8/site-packages/translate/providers/mymemory_translated.py:38\u001B[0m, in \u001B[0;36mMyMemoryProvider._make_request\u001B[0;34m(self, text)\u001B[0m\n\u001B[1;32m     35\u001B[0m \u001B[38;5;28;01mif\u001B[39;00m \u001B[38;5;28mself\u001B[39m\u001B[38;5;241m.\u001B[39memail:\n\u001B[1;32m     36\u001B[0m     params[\u001B[38;5;124m'\u001B[39m\u001B[38;5;124mde\u001B[39m\u001B[38;5;124m'\u001B[39m] \u001B[38;5;241m=\u001B[39m \u001B[38;5;28mself\u001B[39m\u001B[38;5;241m.\u001B[39memail\n\u001B[0;32m---> 38\u001B[0m response \u001B[38;5;241m=\u001B[39m \u001B[43mrequests\u001B[49m\u001B[38;5;241;43m.\u001B[39;49m\u001B[43mget\u001B[49m\u001B[43m(\u001B[49m\u001B[38;5;28;43mself\u001B[39;49m\u001B[38;5;241;43m.\u001B[39;49m\u001B[43mbase_url\u001B[49m\u001B[43m,\u001B[49m\u001B[43m \u001B[49m\u001B[43mparams\u001B[49m\u001B[38;5;241;43m=\u001B[39;49m\u001B[43mparams\u001B[49m\u001B[43m,\u001B[49m\u001B[43m \u001B[49m\u001B[43mheaders\u001B[49m\u001B[38;5;241;43m=\u001B[39;49m\u001B[38;5;28;43mself\u001B[39;49m\u001B[38;5;241;43m.\u001B[39;49m\u001B[43mheaders\u001B[49m\u001B[43m)\u001B[49m\n\u001B[1;32m     39\u001B[0m \u001B[38;5;28;01mreturn\u001B[39;00m response\u001B[38;5;241m.\u001B[39mjson()\n",
      "File \u001B[0;32m/Library/Frameworks/Python.framework/Versions/3.8/lib/python3.8/site-packages/requests/api.py:75\u001B[0m, in \u001B[0;36mget\u001B[0;34m(url, params, **kwargs)\u001B[0m\n\u001B[1;32m     64\u001B[0m \u001B[38;5;28;01mdef\u001B[39;00m \u001B[38;5;21mget\u001B[39m(url, params\u001B[38;5;241m=\u001B[39m\u001B[38;5;28;01mNone\u001B[39;00m, \u001B[38;5;241m*\u001B[39m\u001B[38;5;241m*\u001B[39mkwargs):\n\u001B[1;32m     65\u001B[0m     \u001B[38;5;124mr\u001B[39m\u001B[38;5;124;03m\"\"\"Sends a GET request.\u001B[39;00m\n\u001B[1;32m     66\u001B[0m \n\u001B[1;32m     67\u001B[0m \u001B[38;5;124;03m    :param url: URL for the new :class:`Request` object.\u001B[39;00m\n\u001B[0;32m   (...)\u001B[0m\n\u001B[1;32m     72\u001B[0m \u001B[38;5;124;03m    :rtype: requests.Response\u001B[39;00m\n\u001B[1;32m     73\u001B[0m \u001B[38;5;124;03m    \"\"\"\u001B[39;00m\n\u001B[0;32m---> 75\u001B[0m     \u001B[38;5;28;01mreturn\u001B[39;00m \u001B[43mrequest\u001B[49m\u001B[43m(\u001B[49m\u001B[38;5;124;43m'\u001B[39;49m\u001B[38;5;124;43mget\u001B[39;49m\u001B[38;5;124;43m'\u001B[39;49m\u001B[43m,\u001B[49m\u001B[43m \u001B[49m\u001B[43murl\u001B[49m\u001B[43m,\u001B[49m\u001B[43m \u001B[49m\u001B[43mparams\u001B[49m\u001B[38;5;241;43m=\u001B[39;49m\u001B[43mparams\u001B[49m\u001B[43m,\u001B[49m\u001B[43m \u001B[49m\u001B[38;5;241;43m*\u001B[39;49m\u001B[38;5;241;43m*\u001B[39;49m\u001B[43mkwargs\u001B[49m\u001B[43m)\u001B[49m\n",
      "File \u001B[0;32m/Library/Frameworks/Python.framework/Versions/3.8/lib/python3.8/site-packages/requests/api.py:61\u001B[0m, in \u001B[0;36mrequest\u001B[0;34m(method, url, **kwargs)\u001B[0m\n\u001B[1;32m     57\u001B[0m \u001B[38;5;66;03m# By using the 'with' statement we are sure the session is closed, thus we\u001B[39;00m\n\u001B[1;32m     58\u001B[0m \u001B[38;5;66;03m# avoid leaving sockets open which can trigger a ResourceWarning in some\u001B[39;00m\n\u001B[1;32m     59\u001B[0m \u001B[38;5;66;03m# cases, and look like a memory leak in others.\u001B[39;00m\n\u001B[1;32m     60\u001B[0m \u001B[38;5;28;01mwith\u001B[39;00m sessions\u001B[38;5;241m.\u001B[39mSession() \u001B[38;5;28;01mas\u001B[39;00m session:\n\u001B[0;32m---> 61\u001B[0m     \u001B[38;5;28;01mreturn\u001B[39;00m \u001B[43msession\u001B[49m\u001B[38;5;241;43m.\u001B[39;49m\u001B[43mrequest\u001B[49m\u001B[43m(\u001B[49m\u001B[43mmethod\u001B[49m\u001B[38;5;241;43m=\u001B[39;49m\u001B[43mmethod\u001B[49m\u001B[43m,\u001B[49m\u001B[43m \u001B[49m\u001B[43murl\u001B[49m\u001B[38;5;241;43m=\u001B[39;49m\u001B[43murl\u001B[49m\u001B[43m,\u001B[49m\u001B[43m \u001B[49m\u001B[38;5;241;43m*\u001B[39;49m\u001B[38;5;241;43m*\u001B[39;49m\u001B[43mkwargs\u001B[49m\u001B[43m)\u001B[49m\n",
      "File \u001B[0;32m/Library/Frameworks/Python.framework/Versions/3.8/lib/python3.8/site-packages/requests/sessions.py:529\u001B[0m, in \u001B[0;36mSession.request\u001B[0;34m(self, method, url, params, data, headers, cookies, files, auth, timeout, allow_redirects, proxies, hooks, stream, verify, cert, json)\u001B[0m\n\u001B[1;32m    524\u001B[0m send_kwargs \u001B[38;5;241m=\u001B[39m {\n\u001B[1;32m    525\u001B[0m     \u001B[38;5;124m'\u001B[39m\u001B[38;5;124mtimeout\u001B[39m\u001B[38;5;124m'\u001B[39m: timeout,\n\u001B[1;32m    526\u001B[0m     \u001B[38;5;124m'\u001B[39m\u001B[38;5;124mallow_redirects\u001B[39m\u001B[38;5;124m'\u001B[39m: allow_redirects,\n\u001B[1;32m    527\u001B[0m }\n\u001B[1;32m    528\u001B[0m send_kwargs\u001B[38;5;241m.\u001B[39mupdate(settings)\n\u001B[0;32m--> 529\u001B[0m resp \u001B[38;5;241m=\u001B[39m \u001B[38;5;28;43mself\u001B[39;49m\u001B[38;5;241;43m.\u001B[39;49m\u001B[43msend\u001B[49m\u001B[43m(\u001B[49m\u001B[43mprep\u001B[49m\u001B[43m,\u001B[49m\u001B[43m \u001B[49m\u001B[38;5;241;43m*\u001B[39;49m\u001B[38;5;241;43m*\u001B[39;49m\u001B[43msend_kwargs\u001B[49m\u001B[43m)\u001B[49m\n\u001B[1;32m    531\u001B[0m \u001B[38;5;28;01mreturn\u001B[39;00m resp\n",
      "File \u001B[0;32m/Library/Frameworks/Python.framework/Versions/3.8/lib/python3.8/site-packages/requests/sessions.py:645\u001B[0m, in \u001B[0;36mSession.send\u001B[0;34m(self, request, **kwargs)\u001B[0m\n\u001B[1;32m    642\u001B[0m start \u001B[38;5;241m=\u001B[39m preferred_clock()\n\u001B[1;32m    644\u001B[0m \u001B[38;5;66;03m# Send the request\u001B[39;00m\n\u001B[0;32m--> 645\u001B[0m r \u001B[38;5;241m=\u001B[39m \u001B[43madapter\u001B[49m\u001B[38;5;241;43m.\u001B[39;49m\u001B[43msend\u001B[49m\u001B[43m(\u001B[49m\u001B[43mrequest\u001B[49m\u001B[43m,\u001B[49m\u001B[43m \u001B[49m\u001B[38;5;241;43m*\u001B[39;49m\u001B[38;5;241;43m*\u001B[39;49m\u001B[43mkwargs\u001B[49m\u001B[43m)\u001B[49m\n\u001B[1;32m    647\u001B[0m \u001B[38;5;66;03m# Total elapsed time of the request (approximately)\u001B[39;00m\n\u001B[1;32m    648\u001B[0m elapsed \u001B[38;5;241m=\u001B[39m preferred_clock() \u001B[38;5;241m-\u001B[39m start\n",
      "File \u001B[0;32m/Library/Frameworks/Python.framework/Versions/3.8/lib/python3.8/site-packages/requests/adapters.py:440\u001B[0m, in \u001B[0;36mHTTPAdapter.send\u001B[0;34m(self, request, stream, timeout, verify, cert, proxies)\u001B[0m\n\u001B[1;32m    438\u001B[0m \u001B[38;5;28;01mtry\u001B[39;00m:\n\u001B[1;32m    439\u001B[0m     \u001B[38;5;28;01mif\u001B[39;00m \u001B[38;5;129;01mnot\u001B[39;00m chunked:\n\u001B[0;32m--> 440\u001B[0m         resp \u001B[38;5;241m=\u001B[39m \u001B[43mconn\u001B[49m\u001B[38;5;241;43m.\u001B[39;49m\u001B[43murlopen\u001B[49m\u001B[43m(\u001B[49m\n\u001B[1;32m    441\u001B[0m \u001B[43m            \u001B[49m\u001B[43mmethod\u001B[49m\u001B[38;5;241;43m=\u001B[39;49m\u001B[43mrequest\u001B[49m\u001B[38;5;241;43m.\u001B[39;49m\u001B[43mmethod\u001B[49m\u001B[43m,\u001B[49m\n\u001B[1;32m    442\u001B[0m \u001B[43m            \u001B[49m\u001B[43murl\u001B[49m\u001B[38;5;241;43m=\u001B[39;49m\u001B[43murl\u001B[49m\u001B[43m,\u001B[49m\n\u001B[1;32m    443\u001B[0m \u001B[43m            \u001B[49m\u001B[43mbody\u001B[49m\u001B[38;5;241;43m=\u001B[39;49m\u001B[43mrequest\u001B[49m\u001B[38;5;241;43m.\u001B[39;49m\u001B[43mbody\u001B[49m\u001B[43m,\u001B[49m\n\u001B[1;32m    444\u001B[0m \u001B[43m            \u001B[49m\u001B[43mheaders\u001B[49m\u001B[38;5;241;43m=\u001B[39;49m\u001B[43mrequest\u001B[49m\u001B[38;5;241;43m.\u001B[39;49m\u001B[43mheaders\u001B[49m\u001B[43m,\u001B[49m\n\u001B[1;32m    445\u001B[0m \u001B[43m            \u001B[49m\u001B[43mredirect\u001B[49m\u001B[38;5;241;43m=\u001B[39;49m\u001B[38;5;28;43;01mFalse\u001B[39;49;00m\u001B[43m,\u001B[49m\n\u001B[1;32m    446\u001B[0m \u001B[43m            \u001B[49m\u001B[43massert_same_host\u001B[49m\u001B[38;5;241;43m=\u001B[39;49m\u001B[38;5;28;43;01mFalse\u001B[39;49;00m\u001B[43m,\u001B[49m\n\u001B[1;32m    447\u001B[0m \u001B[43m            \u001B[49m\u001B[43mpreload_content\u001B[49m\u001B[38;5;241;43m=\u001B[39;49m\u001B[38;5;28;43;01mFalse\u001B[39;49;00m\u001B[43m,\u001B[49m\n\u001B[1;32m    448\u001B[0m \u001B[43m            \u001B[49m\u001B[43mdecode_content\u001B[49m\u001B[38;5;241;43m=\u001B[39;49m\u001B[38;5;28;43;01mFalse\u001B[39;49;00m\u001B[43m,\u001B[49m\n\u001B[1;32m    449\u001B[0m \u001B[43m            \u001B[49m\u001B[43mretries\u001B[49m\u001B[38;5;241;43m=\u001B[39;49m\u001B[38;5;28;43mself\u001B[39;49m\u001B[38;5;241;43m.\u001B[39;49m\u001B[43mmax_retries\u001B[49m\u001B[43m,\u001B[49m\n\u001B[1;32m    450\u001B[0m \u001B[43m            \u001B[49m\u001B[43mtimeout\u001B[49m\u001B[38;5;241;43m=\u001B[39;49m\u001B[43mtimeout\u001B[49m\n\u001B[1;32m    451\u001B[0m \u001B[43m        \u001B[49m\u001B[43m)\u001B[49m\n\u001B[1;32m    453\u001B[0m     \u001B[38;5;66;03m# Send the request.\u001B[39;00m\n\u001B[1;32m    454\u001B[0m     \u001B[38;5;28;01melse\u001B[39;00m:\n\u001B[1;32m    455\u001B[0m         \u001B[38;5;28;01mif\u001B[39;00m \u001B[38;5;28mhasattr\u001B[39m(conn, \u001B[38;5;124m'\u001B[39m\u001B[38;5;124mproxy_pool\u001B[39m\u001B[38;5;124m'\u001B[39m):\n",
      "File \u001B[0;32m/Library/Frameworks/Python.framework/Versions/3.8/lib/python3.8/site-packages/urllib3/connectionpool.py:703\u001B[0m, in \u001B[0;36mHTTPConnectionPool.urlopen\u001B[0;34m(self, method, url, body, headers, retries, redirect, assert_same_host, timeout, pool_timeout, release_conn, chunked, body_pos, **response_kw)\u001B[0m\n\u001B[1;32m    700\u001B[0m     \u001B[38;5;28mself\u001B[39m\u001B[38;5;241m.\u001B[39m_prepare_proxy(conn)\n\u001B[1;32m    702\u001B[0m \u001B[38;5;66;03m# Make the request on the httplib connection object.\u001B[39;00m\n\u001B[0;32m--> 703\u001B[0m httplib_response \u001B[38;5;241m=\u001B[39m \u001B[38;5;28;43mself\u001B[39;49m\u001B[38;5;241;43m.\u001B[39;49m\u001B[43m_make_request\u001B[49m\u001B[43m(\u001B[49m\n\u001B[1;32m    704\u001B[0m \u001B[43m    \u001B[49m\u001B[43mconn\u001B[49m\u001B[43m,\u001B[49m\n\u001B[1;32m    705\u001B[0m \u001B[43m    \u001B[49m\u001B[43mmethod\u001B[49m\u001B[43m,\u001B[49m\n\u001B[1;32m    706\u001B[0m \u001B[43m    \u001B[49m\u001B[43murl\u001B[49m\u001B[43m,\u001B[49m\n\u001B[1;32m    707\u001B[0m \u001B[43m    \u001B[49m\u001B[43mtimeout\u001B[49m\u001B[38;5;241;43m=\u001B[39;49m\u001B[43mtimeout_obj\u001B[49m\u001B[43m,\u001B[49m\n\u001B[1;32m    708\u001B[0m \u001B[43m    \u001B[49m\u001B[43mbody\u001B[49m\u001B[38;5;241;43m=\u001B[39;49m\u001B[43mbody\u001B[49m\u001B[43m,\u001B[49m\n\u001B[1;32m    709\u001B[0m \u001B[43m    \u001B[49m\u001B[43mheaders\u001B[49m\u001B[38;5;241;43m=\u001B[39;49m\u001B[43mheaders\u001B[49m\u001B[43m,\u001B[49m\n\u001B[1;32m    710\u001B[0m \u001B[43m    \u001B[49m\u001B[43mchunked\u001B[49m\u001B[38;5;241;43m=\u001B[39;49m\u001B[43mchunked\u001B[49m\u001B[43m,\u001B[49m\n\u001B[1;32m    711\u001B[0m \u001B[43m\u001B[49m\u001B[43m)\u001B[49m\n\u001B[1;32m    713\u001B[0m \u001B[38;5;66;03m# If we're going to release the connection in ``finally:``, then\u001B[39;00m\n\u001B[1;32m    714\u001B[0m \u001B[38;5;66;03m# the response doesn't need to know about the connection. Otherwise\u001B[39;00m\n\u001B[1;32m    715\u001B[0m \u001B[38;5;66;03m# it will also try to release it and we'll have a double-release\u001B[39;00m\n\u001B[1;32m    716\u001B[0m \u001B[38;5;66;03m# mess.\u001B[39;00m\n\u001B[1;32m    717\u001B[0m response_conn \u001B[38;5;241m=\u001B[39m conn \u001B[38;5;28;01mif\u001B[39;00m \u001B[38;5;129;01mnot\u001B[39;00m release_conn \u001B[38;5;28;01melse\u001B[39;00m \u001B[38;5;28;01mNone\u001B[39;00m\n",
      "File \u001B[0;32m/Library/Frameworks/Python.framework/Versions/3.8/lib/python3.8/site-packages/urllib3/connectionpool.py:449\u001B[0m, in \u001B[0;36mHTTPConnectionPool._make_request\u001B[0;34m(self, conn, method, url, timeout, chunked, **httplib_request_kw)\u001B[0m\n\u001B[1;32m    444\u001B[0m             httplib_response \u001B[38;5;241m=\u001B[39m conn\u001B[38;5;241m.\u001B[39mgetresponse()\n\u001B[1;32m    445\u001B[0m         \u001B[38;5;28;01mexcept\u001B[39;00m \u001B[38;5;167;01mBaseException\u001B[39;00m \u001B[38;5;28;01mas\u001B[39;00m e:\n\u001B[1;32m    446\u001B[0m             \u001B[38;5;66;03m# Remove the TypeError from the exception chain in\u001B[39;00m\n\u001B[1;32m    447\u001B[0m             \u001B[38;5;66;03m# Python 3 (including for exceptions like SystemExit).\u001B[39;00m\n\u001B[1;32m    448\u001B[0m             \u001B[38;5;66;03m# Otherwise it looks like a bug in the code.\u001B[39;00m\n\u001B[0;32m--> 449\u001B[0m             \u001B[43msix\u001B[49m\u001B[38;5;241;43m.\u001B[39;49m\u001B[43mraise_from\u001B[49m\u001B[43m(\u001B[49m\u001B[43me\u001B[49m\u001B[43m,\u001B[49m\u001B[43m \u001B[49m\u001B[38;5;28;43;01mNone\u001B[39;49;00m\u001B[43m)\u001B[49m\n\u001B[1;32m    450\u001B[0m \u001B[38;5;28;01mexcept\u001B[39;00m (SocketTimeout, BaseSSLError, SocketError) \u001B[38;5;28;01mas\u001B[39;00m e:\n\u001B[1;32m    451\u001B[0m     \u001B[38;5;28mself\u001B[39m\u001B[38;5;241m.\u001B[39m_raise_timeout(err\u001B[38;5;241m=\u001B[39me, url\u001B[38;5;241m=\u001B[39murl, timeout_value\u001B[38;5;241m=\u001B[39mread_timeout)\n",
      "File \u001B[0;32m<string>:3\u001B[0m, in \u001B[0;36mraise_from\u001B[0;34m(value, from_value)\u001B[0m\n",
      "File \u001B[0;32m/Library/Frameworks/Python.framework/Versions/3.8/lib/python3.8/site-packages/urllib3/connectionpool.py:444\u001B[0m, in \u001B[0;36mHTTPConnectionPool._make_request\u001B[0;34m(self, conn, method, url, timeout, chunked, **httplib_request_kw)\u001B[0m\n\u001B[1;32m    441\u001B[0m \u001B[38;5;28;01mexcept\u001B[39;00m \u001B[38;5;167;01mTypeError\u001B[39;00m:\n\u001B[1;32m    442\u001B[0m     \u001B[38;5;66;03m# Python 3\u001B[39;00m\n\u001B[1;32m    443\u001B[0m     \u001B[38;5;28;01mtry\u001B[39;00m:\n\u001B[0;32m--> 444\u001B[0m         httplib_response \u001B[38;5;241m=\u001B[39m \u001B[43mconn\u001B[49m\u001B[38;5;241;43m.\u001B[39;49m\u001B[43mgetresponse\u001B[49m\u001B[43m(\u001B[49m\u001B[43m)\u001B[49m\n\u001B[1;32m    445\u001B[0m     \u001B[38;5;28;01mexcept\u001B[39;00m \u001B[38;5;167;01mBaseException\u001B[39;00m \u001B[38;5;28;01mas\u001B[39;00m e:\n\u001B[1;32m    446\u001B[0m         \u001B[38;5;66;03m# Remove the TypeError from the exception chain in\u001B[39;00m\n\u001B[1;32m    447\u001B[0m         \u001B[38;5;66;03m# Python 3 (including for exceptions like SystemExit).\u001B[39;00m\n\u001B[1;32m    448\u001B[0m         \u001B[38;5;66;03m# Otherwise it looks like a bug in the code.\u001B[39;00m\n\u001B[1;32m    449\u001B[0m         six\u001B[38;5;241m.\u001B[39mraise_from(e, \u001B[38;5;28;01mNone\u001B[39;00m)\n",
      "File \u001B[0;32m/Library/Frameworks/Python.framework/Versions/3.8/lib/python3.8/http/client.py:1347\u001B[0m, in \u001B[0;36mHTTPConnection.getresponse\u001B[0;34m(self)\u001B[0m\n\u001B[1;32m   1345\u001B[0m \u001B[38;5;28;01mtry\u001B[39;00m:\n\u001B[1;32m   1346\u001B[0m     \u001B[38;5;28;01mtry\u001B[39;00m:\n\u001B[0;32m-> 1347\u001B[0m         \u001B[43mresponse\u001B[49m\u001B[38;5;241;43m.\u001B[39;49m\u001B[43mbegin\u001B[49m\u001B[43m(\u001B[49m\u001B[43m)\u001B[49m\n\u001B[1;32m   1348\u001B[0m     \u001B[38;5;28;01mexcept\u001B[39;00m \u001B[38;5;167;01mConnectionError\u001B[39;00m:\n\u001B[1;32m   1349\u001B[0m         \u001B[38;5;28mself\u001B[39m\u001B[38;5;241m.\u001B[39mclose()\n",
      "File \u001B[0;32m/Library/Frameworks/Python.framework/Versions/3.8/lib/python3.8/http/client.py:307\u001B[0m, in \u001B[0;36mHTTPResponse.begin\u001B[0;34m(self)\u001B[0m\n\u001B[1;32m    305\u001B[0m \u001B[38;5;66;03m# read until we get a non-100 response\u001B[39;00m\n\u001B[1;32m    306\u001B[0m \u001B[38;5;28;01mwhile\u001B[39;00m \u001B[38;5;28;01mTrue\u001B[39;00m:\n\u001B[0;32m--> 307\u001B[0m     version, status, reason \u001B[38;5;241m=\u001B[39m \u001B[38;5;28;43mself\u001B[39;49m\u001B[38;5;241;43m.\u001B[39;49m\u001B[43m_read_status\u001B[49m\u001B[43m(\u001B[49m\u001B[43m)\u001B[49m\n\u001B[1;32m    308\u001B[0m     \u001B[38;5;28;01mif\u001B[39;00m status \u001B[38;5;241m!=\u001B[39m CONTINUE:\n\u001B[1;32m    309\u001B[0m         \u001B[38;5;28;01mbreak\u001B[39;00m\n",
      "File \u001B[0;32m/Library/Frameworks/Python.framework/Versions/3.8/lib/python3.8/http/client.py:268\u001B[0m, in \u001B[0;36mHTTPResponse._read_status\u001B[0;34m(self)\u001B[0m\n\u001B[1;32m    267\u001B[0m \u001B[38;5;28;01mdef\u001B[39;00m \u001B[38;5;21m_read_status\u001B[39m(\u001B[38;5;28mself\u001B[39m):\n\u001B[0;32m--> 268\u001B[0m     line \u001B[38;5;241m=\u001B[39m \u001B[38;5;28mstr\u001B[39m(\u001B[38;5;28;43mself\u001B[39;49m\u001B[38;5;241;43m.\u001B[39;49m\u001B[43mfp\u001B[49m\u001B[38;5;241;43m.\u001B[39;49m\u001B[43mreadline\u001B[49m\u001B[43m(\u001B[49m\u001B[43m_MAXLINE\u001B[49m\u001B[43m \u001B[49m\u001B[38;5;241;43m+\u001B[39;49m\u001B[43m \u001B[49m\u001B[38;5;241;43m1\u001B[39;49m\u001B[43m)\u001B[49m, \u001B[38;5;124m\"\u001B[39m\u001B[38;5;124miso-8859-1\u001B[39m\u001B[38;5;124m\"\u001B[39m)\n\u001B[1;32m    269\u001B[0m     \u001B[38;5;28;01mif\u001B[39;00m \u001B[38;5;28mlen\u001B[39m(line) \u001B[38;5;241m>\u001B[39m _MAXLINE:\n\u001B[1;32m    270\u001B[0m         \u001B[38;5;28;01mraise\u001B[39;00m LineTooLong(\u001B[38;5;124m\"\u001B[39m\u001B[38;5;124mstatus line\u001B[39m\u001B[38;5;124m\"\u001B[39m)\n",
      "File \u001B[0;32m/Library/Frameworks/Python.framework/Versions/3.8/lib/python3.8/socket.py:669\u001B[0m, in \u001B[0;36mSocketIO.readinto\u001B[0;34m(self, b)\u001B[0m\n\u001B[1;32m    667\u001B[0m \u001B[38;5;28;01mwhile\u001B[39;00m \u001B[38;5;28;01mTrue\u001B[39;00m:\n\u001B[1;32m    668\u001B[0m     \u001B[38;5;28;01mtry\u001B[39;00m:\n\u001B[0;32m--> 669\u001B[0m         \u001B[38;5;28;01mreturn\u001B[39;00m \u001B[38;5;28;43mself\u001B[39;49m\u001B[38;5;241;43m.\u001B[39;49m\u001B[43m_sock\u001B[49m\u001B[38;5;241;43m.\u001B[39;49m\u001B[43mrecv_into\u001B[49m\u001B[43m(\u001B[49m\u001B[43mb\u001B[49m\u001B[43m)\u001B[49m\n\u001B[1;32m    670\u001B[0m     \u001B[38;5;28;01mexcept\u001B[39;00m timeout:\n\u001B[1;32m    671\u001B[0m         \u001B[38;5;28mself\u001B[39m\u001B[38;5;241m.\u001B[39m_timeout_occurred \u001B[38;5;241m=\u001B[39m \u001B[38;5;28;01mTrue\u001B[39;00m\n",
      "\u001B[0;31mKeyboardInterrupt\u001B[0m: "
     ]
    }
   ],
   "source": [
    "def translate_text(text, from_lang, to_lang) -> str:\n",
    "    # add to requirements.txt\n",
    "    from translate import Translator\n",
    "    from razdel import sentenize\n",
    "\n",
    "    sentences = list(sentenize(text))\n",
    "\n",
    "    result = ''\n",
    "\n",
    "    for sentence in sentences:\n",
    "        translator = Translator(from_lang=from_lang, to_lang=to_lang)\n",
    "        result = result + translator.translate(sentence.text) + ' '\n",
    "\n",
    "    return result\n",
    "\n",
    "\n",
    "text = '''Разработчики Atomic Heart из студии Mundfish опубликовали новый скриншот в своём Telegram-канале. На нём появляется главный герой игры — майор КГБ Ничаев с надетой перчаткой, которая даёт ему способность телекинеза, взлома роботов и другие. Авторы также подсчитали примерно количество часов, ушедших на разработку. По их словам, за пять лет производства игры их команда увеличилась до 120 человек. Совокупно на работу ушло примерно 633 тыс. часов разработки, если считать, что хотя бы 60 разработчиков проводило по 22 рабочих дня в месяц и по 8 часов в день. Atomic Heart должна выйти в 2022 году в период с октября по декабрь. Более точная дата пока не называется. Ранее разработчики опубликовали фрагмент из катсцены с русской озвучкой.\n",
    "'''\n",
    "\n",
    "eng_txt = translate_text(text, 'ru', 'en')\n",
    "from_eng_txt = translate_text(eng_txt, 'en', 'ru')\n",
    "\n",
    "print(f'Orig:\\n{text}\\nConverted\\n{from_eng_txt}')"
   ],
   "metadata": {
    "collapsed": false,
    "pycharm": {
     "name": "#%%\n"
    }
   }
  },
  {
   "cell_type": "markdown",
   "source": [],
   "metadata": {
    "collapsed": false,
    "pycharm": {
     "name": "#%% md\n"
    }
   }
  },
  {
   "cell_type": "markdown",
   "source": [
    "#### Антиплагиат:"
   ],
   "metadata": {
    "collapsed": false,
    "pycharm": {
     "name": "#%% md\n"
    }
   }
  },
  {
   "cell_type": "code",
   "source": [
    "#### Работа с текстом через \"антиплагиат\":\n",
    "# функции для работы с \"антиплагиатом\":\n",
    "\n",
    "def get_token_from_file(token_file_name):\n",
    "    \"\"\"\n",
    "    :param token_file_name: файл, содержащий токен\n",
    "    :return: строку с токеном\n",
    "    \"\"\"\n",
    "    with open(token_file_name, 'r') as token_file:\n",
    "        token = token_file.read()\n",
    "    if not token or len(token) < 1:\n",
    "        return None\n",
    "    return token\n",
    "\n",
    "\n",
    "def get_antiplag_uid(text)->str:\n",
    "    \"\"\"\n",
    "    :param text: текст для проверки в системе антиплагиат\n",
    "    :return: UID результата проверки\n",
    "    \"\"\"\n",
    "    import requests\n",
    "    import json\n",
    "\n",
    "    antiplag_request_url = 'http://api.text.ru/post'\n",
    "    antiplag_token = get_token_from_file('antiplag.token')\n",
    "\n",
    "    requests_params = {'text': text,\n",
    "                       'userkey': antiplag_token}\n",
    "\n",
    "    result_uid = json.loads(requests.post(antiplag_request_url, requests_params).text)\n",
    "\n",
    "    return result_uid\n",
    "\n",
    "\n",
    "def get_antiplag_data_from_uid(uid):\n",
    "    \"\"\"\n",
    "    :param uid: UID результата проверки\n",
    "    :return: JSON результатов проверки:\n",
    "    ['text_unique', 'result_json', 'spell_check', 'seo_check', 'unique']\n",
    "    описание схемы: https://text.ru/api-check/manual\n",
    "    \"\"\"\n",
    "    import requests\n",
    "    import json\n",
    "\n",
    "    antiplag_request_url = 'http://api.text.ru/post'\n",
    "    antiplag_token = get_token_from_file('antiplag.token')\n",
    "\n",
    "    requests_params = {'uid': uid,\n",
    "                       'userkey': antiplag_token,\n",
    "                       'jsonvisible': 'detail'}\n",
    "\n",
    "    result = json.loads(requests.post(antiplag_request_url, requests_params).text)\n",
    "\n",
    "    return result"
   ],
   "metadata": {
    "collapsed": false,
    "pycharm": {
     "name": "#%%\n"
    }
   },
   "execution_count": 1,
   "outputs": []
  },
  {
   "cell_type": "code",
   "execution_count": null,
   "outputs": [],
   "source": [
    "uid = get_antiplag_uid(text)\n",
    "\n",
    "print(uid)"
   ],
   "metadata": {
    "collapsed": false,
    "pycharm": {
     "name": "#%%\n"
    }
   }
  },
  {
   "cell_type": "code",
   "execution_count": null,
   "outputs": [],
   "source": [
    "uid.text"
   ],
   "metadata": {
    "collapsed": false,
    "pycharm": {
     "name": "#%%\n"
    }
   }
  },
  {
   "cell_type": "code",
   "execution_count": null,
   "outputs": [],
   "source": [
    "import json\n",
    "\n",
    "my_uid = json.loads(uid.text)['text_uid']"
   ],
   "metadata": {
    "collapsed": false,
    "pycharm": {
     "name": "#%%\n"
    }
   }
  },
  {
   "cell_type": "code",
   "execution_count": null,
   "outputs": [],
   "source": [
    "antiplag_answ = get_antiplag_data_from_uid(my_uid)\n",
    "print(antiplag_answ)"
   ],
   "metadata": {
    "collapsed": false,
    "pycharm": {
     "name": "#%%\n"
    }
   }
  },
  {
   "cell_type": "code",
   "execution_count": null,
   "outputs": [],
   "source": [
    "antiplag_answ.keys()"
   ],
   "metadata": {
    "collapsed": false,
    "pycharm": {
     "name": "#%%\n"
    }
   }
  },
  {
   "cell_type": "code",
   "execution_count": null,
   "outputs": [],
   "source": [
    "antiplag_answ['text_unique']"
   ],
   "metadata": {
    "collapsed": false,
    "pycharm": {
     "name": "#%%\n"
    }
   }
  },
  {
   "cell_type": "code",
   "execution_count": null,
   "outputs": [],
   "source": [
    "json.loads(antiplag_answ['seo_check'])"
   ],
   "metadata": {
    "collapsed": false,
    "pycharm": {
     "name": "#%%\n"
    }
   }
  },
  {
   "cell_type": "code",
   "execution_count": null,
   "outputs": [],
   "source": [
    "json.loads(antiplag_answ['result_json'])"
   ],
   "metadata": {
    "collapsed": false,
    "pycharm": {
     "name": "#%%\n"
    }
   }
  },
  {
   "cell_type": "code",
   "execution_count": null,
   "outputs": [],
   "source": [
    "text2 = '''Американские ученые опубликовали исследование, в котором доказали, что видеоконференции могут ограничивать способность сотрудников к творческому мышлению. Дистанционное обучение чаще всего приводит к желанию бросить это занятие, а контакты через монитор не могут заменить живое общение.В журнале Nature вышла статья, авторы которой утверждают, что креативное мышление, то есть возможность творческого подхода к процессу, прямо связано с возможностью «блуждать взглядом» по сторонам. Сосредоточенность на экране компьютера этому не способствует. Именно по такой причине участники видеоконференций показывают куда более скромные результаты, чем слушатели аналогичных очных мероприятий.Общение в видеочате требует больше внимания, чем беседа в реальной жизни. Через экран намного сложнее считывать эмоции, мимику и язык тела собеседников. Если при компьютерной связи возникают помехи, то практически невозможно понять тон голоса и интонацию. Сотрудники Европейского института управления бизнесом Марисса Шаффлер и Джанпьеро Петрильери выяснили, что задержки в телефонных или видео - разговорах даже на 1-2 секунды заставляют людей воспринимать собеседника как менее дружелюбного. Многие неосознанно начинают думать, что человек по ту сторону экрана недостаточно вовлечен в беседу. И те и другие не могут расслабиться - от них требуется максимум внимания, чтобы эффективно считывать все сигналы. В такой ситуации внимание полностью сосредоточено на экране. Для того чтобы выдать новую творческую идею, необходимо иногда отвлекаться - это исследователи и называют «блуждающим взглядом». «Мы опросили больше сотни руководителей компаний - тех, кто вынужден перейти в дистанционный формат. Больше 80 процентов из них утверждают, что резко снизилось количество инициатив и интересных предложений. Многие говорят, что сотрудники ведут себя так, словно мечтают побыстрее выключить компьютер, чего раньше за ними не наблюдалось», - рассказывает Шаффлер.Еще сложнее проводить обучение в дистанционном формате. В современном мире принято думать, что в центре процесса обучения находится не учитель, а ученик. Виртуальное обучение этому вполне способствует - учащийся в таком случае куда более самостоятелен, чем при традиционном очном обучении. У преподавателя появляется новая роль - он уже не учитель, а тьютор или модератор. Его участие в процессе сводится к предоставлению учебных материалов и консультированию учеников. При очном формате педагог имеет возможность непрерывно контролировать то, что происходит в аудитории, и поддерживать дисциплину.Неудивительно, что при виртуальном обучении люди бросают учебу гораздо чаще, чем при традиционных формах обучения. Чаще всего причиной называют быт: нет времени, семейные проблемы, обстановка на работе, проблемы со здоровьем. Но большинство психологов сходится во мнении, что это косвенные факторы. Причиной на самом деле является то, что у школьников или студентов нет мотивации и эмоциональной заинтересованности.Недостаточное общение с сокурсниками тоже сказывается на результате. В исследовании Европейского института управления бизнесом было выявлено, что склонные бросить учебу в условиях дистанционного обучения новички чувствуют себя одинокими, изолированными и от учебного заведения, и от сокурсников. Этим учащимся недостает возможности непосредственно контактировать с другими. Люди не ощущают себя причастными к своему учебному заведению. К тому же, по данным канадских специалистов, подростки до 17 лет должны проводить у экранов компьютеров не более двух часов в день. Третий час добавляется на то, чтобы сделать домашнюю работу. И это все, что может позволить себе школьник без ущерба для своего здоровья. Но в реальности такого графика придерживаются не более 2% учащихся. А это значит, что молодое поколение рискует здоровьем - как физическим, так и психическим'''"
   ],
   "metadata": {
    "collapsed": false,
    "pycharm": {
     "name": "#%%\n"
    }
   }
  },
  {
   "cell_type": "code",
   "execution_count": null,
   "outputs": [],
   "source": [
    "eng_txt2 = translate_text(text2, 'ru', 'en')"
   ],
   "metadata": {
    "collapsed": false,
    "pycharm": {
     "name": "#%%\n"
    }
   }
  },
  {
   "cell_type": "code",
   "execution_count": null,
   "outputs": [],
   "source": [
    "eng_txt2"
   ],
   "metadata": {
    "collapsed": false,
    "pycharm": {
     "name": "#%%\n"
    }
   }
  },
  {
   "cell_type": "code",
   "execution_count": null,
   "outputs": [],
   "source": [
    "eng_txt2 = ''''American scientists published a study in which they proved that videoconferencing can limit the ability of employees to think creatively. Distance learning most often leads to the desire to quit this occupation, and contacts through the monitor cannot replace live communication. In the journal Nature, an article was published, the authors of which argue that creative thinking, that is, the possibility of a creative approach to the process, is directly related to the possibility of \"wandering the gaze\" on the sides. Focusing on the computer screen does not contribute to this. For this reason, participants of video conferences show much more modest results than listeners of similar face-to-face events. Communication in video chat requires more attention than a conversation in real life. It is much more difficult to read emotions, facial expressions and body language through the screen. If computer communication causes interference, it is almost impossible to understand the tone of voice and intonation. Employees of the European Business Management Institute Marissa Schaffler and Gianpiero Petrilleri found that delays in phone or video conversations even for 1-2 seconds make people perceive the interlocutor as less friendly. Many people unconsciously begin to think that the person on the other side of the screen is not sufficiently involved in the conversation. Both can not relax - they require maximum attention to effectively read all signals. In such a situation, attention is fully focused on the screen. In order to give out a new creative idea, it is sometimes necessary to be distracted - this is what researchers call a \"wandering look\". \"We interviewed more than a hundred heads of companies - those who are forced to switch to a remote format. More than 80 per cent of them said that the number of initiatives and interesting proposals had fallen sharply. Many people say that employees behave as if they dream of turning off the computer as quickly as possible, which has never been seen before, \"Schaffler says. It is even more difficult to conduct training in a remote format. In the modern world, it is common to think that the center of the learning process is not the teacher, but the student. Virtual learning is quite conducive to this - the student in this case is much more independent than in traditional face-to-face learning. The teacher has a new role - he is no longer a teacher, but a tutor or a moderator. Its involvement in the process is limited to the provision of teaching materials and counselling for pupils. In the face-to-face format, the teacher has the opportunity to continuously monitor what is happening in the classroom and maintain discipline. It is not surprising that in virtual learning, people drop out much more often than in traditional forms of education. The most commonly cited reason is the lack of time, family problems, the work environment, and health problems. But most psychologists agree that these are indirect factors. The reason in fact is that schoolchildren or students do not have motivation and emotional interest. Insufficient communication with fellow students also affects the result. A study by the European Business Management Institute found that beginners who tend to drop out in distance learning feel lonely, isolated from both the institution and fellow students. These students lack direct contact with others. People do not feel involved in their educational institution. In addition, according to Canadian experts, teenagers under the age of 17 must spend no more than two hours a day at computer screens.'''\n",
    "get_antiplag_uid(eng_txt2)"
   ],
   "metadata": {
    "collapsed": false,
    "pycharm": {
     "name": "#%%\n"
    }
   }
  },
  {
   "cell_type": "code",
   "execution_count": null,
   "outputs": [],
   "source": [
    "get_antiplag_data_from_uid('6292874269a75')"
   ],
   "metadata": {
    "collapsed": false,
    "pycharm": {
     "name": "#%%\n"
    }
   }
  },
  {
   "cell_type": "code",
   "execution_count": null,
   "outputs": [],
   "source": [
    "origin_text = '''Холдинг «Росэлектроника» Госкорпорации Ростех разработал первый полностью российский микродисплей на органических электролюминесцентных светодиодах (OLED). Устройство предназначено для индивидуальных средств отображения информации, таких как очки виртуальной, дополненной и смешанной реальности (VR/AR/MR), фото- и видеокамеры, а также наголовные и нашлемные видеомодули, тепловизионные прицелы и тепловизоры. Микродисплей размером 15,5х12,5 мм выдает изображение с разрешением 1280х1024 пикселей и шагом пикселей в 12 мкм. Производство OLED-микродисплеев требует соблюдения повышенных требований к технологическому процессу. Так, важно соблюдать высокую точность обработки верхнего стека кремниевой сверхбольшой интегральной схемы (СБИС) и нанесения многослойной OLED-структуры, толщина которой не превышает 100 нанометров. «Россия вошла в пятерку стран в мире, которые владеют технологиями создания OLED-микродисплеев. Нам удалось не только освоить сложнейшую технологию изготовления, но и добиться высокого качества выпускаемых изделий. Наше предприятие готово ежегодно выпускать до 5000 устройств», – сказал генеральный директор Объединенной приборостроительной корпорации Сергей Сахненко. ОКР и освоение серийного производства выполнены ЦНИИ «Циклон» холдинга «Росэлектроника». ЦНИИ «Циклон» является единственным в России предприятием, обладающим промышленным оборудованием и технологией для изготовления OLED-структур и устройств на их основе. Технологии создания кремниевых микросхем управления и изготовления OLED-микродисплеев запатентованы и защищены режимами секрета производства ноу-хау. Создание российской кремниевой СБИС проходило в широкой кооперации предприятий Госкорпорации Ростех. Схемотехнические решения разработаны НИИМА «Прогресс», топология – НИИМЭ, а кремниевые 200-мм пластины со СБИС изготовлены компанией ПАО «Микрон», входящей в ГК «Элемент» (совместное предприятие Госкорпорации Ростех и АФК «Система»).'''"
   ],
   "metadata": {
    "collapsed": false,
    "pycharm": {
     "name": "#%%\n"
    }
   }
  },
  {
   "cell_type": "code",
   "execution_count": null,
   "outputs": [],
   "source": [
    "orig_text_uid = get_antiplag_uid(origin_text)"
   ],
   "metadata": {
    "collapsed": false,
    "pycharm": {
     "name": "#%%\n"
    }
   }
  },
  {
   "cell_type": "code",
   "execution_count": null,
   "outputs": [],
   "source": [
    "orig_text_data = get_antiplag_data_from_uid(orig_text_uid)"
   ],
   "metadata": {
    "collapsed": false,
    "pycharm": {
     "name": "#%%\n"
    }
   }
  },
  {
   "cell_type": "code",
   "execution_count": null,
   "outputs": [],
   "source": [
    "orig_text_uid"
   ],
   "metadata": {
    "collapsed": false,
    "pycharm": {
     "name": "#%%\n"
    }
   }
  },
  {
   "cell_type": "code",
   "execution_count": null,
   "outputs": [],
   "source": [
    "len(origin_text)"
   ],
   "metadata": {
    "collapsed": false,
    "pycharm": {
     "name": "#%%\n"
    }
   }
  },
  {
   "cell_type": "markdown",
   "source": [
    "#### Достаем текст из URL:"
   ],
   "metadata": {
    "collapsed": false,
    "pycharm": {
     "name": "#%% md\n"
    }
   }
  },
  {
   "cell_type": "code",
   "execution_count": 3,
   "outputs": [
    {
     "name": "stdout",
     "output_type": "stream",
     "text": [
      "Requirement already satisfied: newspaper3k in /Library/Frameworks/Python.framework/Versions/3.8/lib/python3.8/site-packages (0.2.8)\r\n",
      "Requirement already satisfied: beautifulsoup4>=4.4.1 in /Library/Frameworks/Python.framework/Versions/3.8/lib/python3.8/site-packages (from newspaper3k) (4.9.3)\r\n",
      "Requirement already satisfied: PyYAML>=3.11 in /Library/Frameworks/Python.framework/Versions/3.8/lib/python3.8/site-packages (from newspaper3k) (6.0)\r\n",
      "Requirement already satisfied: requests>=2.10.0 in /Library/Frameworks/Python.framework/Versions/3.8/lib/python3.8/site-packages (from newspaper3k) (2.27.1)\r\n",
      "Requirement already satisfied: lxml>=3.6.0 in /Library/Frameworks/Python.framework/Versions/3.8/lib/python3.8/site-packages (from newspaper3k) (4.6.1)\r\n",
      "Requirement already satisfied: nltk>=3.2.1 in /Library/Frameworks/Python.framework/Versions/3.8/lib/python3.8/site-packages (from newspaper3k) (3.6.5)\r\n",
      "Requirement already satisfied: python-dateutil>=2.5.3 in /Users/alex/Library/Python/3.8/lib/python/site-packages (from newspaper3k) (2.8.2)\r\n",
      "Requirement already satisfied: tldextract>=2.0.1 in /Library/Frameworks/Python.framework/Versions/3.8/lib/python3.8/site-packages (from newspaper3k) (3.2.0)\r\n",
      "Requirement already satisfied: Pillow>=3.3.0 in /Library/Frameworks/Python.framework/Versions/3.8/lib/python3.8/site-packages (from newspaper3k) (9.0.1)\r\n",
      "Requirement already satisfied: cssselect>=0.9.2 in /Library/Frameworks/Python.framework/Versions/3.8/lib/python3.8/site-packages (from newspaper3k) (1.1.0)\r\n",
      "Requirement already satisfied: feedfinder2>=0.0.4 in /Library/Frameworks/Python.framework/Versions/3.8/lib/python3.8/site-packages (from newspaper3k) (0.0.4)\r\n",
      "Requirement already satisfied: feedparser>=5.2.1 in /Library/Frameworks/Python.framework/Versions/3.8/lib/python3.8/site-packages (from newspaper3k) (6.0.10)\r\n",
      "Requirement already satisfied: tinysegmenter==0.3 in /Library/Frameworks/Python.framework/Versions/3.8/lib/python3.8/site-packages (from newspaper3k) (0.3)\r\n",
      "Requirement already satisfied: jieba3k>=0.35.1 in /Library/Frameworks/Python.framework/Versions/3.8/lib/python3.8/site-packages (from newspaper3k) (0.35.1)\r\n",
      "Requirement already satisfied: soupsieve>1.2 in /Library/Frameworks/Python.framework/Versions/3.8/lib/python3.8/site-packages (from beautifulsoup4>=4.4.1->newspaper3k) (2.2.1)\r\n",
      "Requirement already satisfied: six in /Users/alex/Library/Python/3.8/lib/python/site-packages (from feedfinder2>=0.0.4->newspaper3k) (1.15.0)\r\n",
      "Requirement already satisfied: sgmllib3k in /Library/Frameworks/Python.framework/Versions/3.8/lib/python3.8/site-packages (from feedparser>=5.2.1->newspaper3k) (1.0.0)\r\n",
      "Requirement already satisfied: regex>=2021.8.3 in /Library/Frameworks/Python.framework/Versions/3.8/lib/python3.8/site-packages (from nltk>=3.2.1->newspaper3k) (2021.11.10)\r\n",
      "Requirement already satisfied: tqdm in /Library/Frameworks/Python.framework/Versions/3.8/lib/python3.8/site-packages (from nltk>=3.2.1->newspaper3k) (4.62.1)\r\n",
      "Requirement already satisfied: joblib in /Library/Frameworks/Python.framework/Versions/3.8/lib/python3.8/site-packages (from nltk>=3.2.1->newspaper3k) (1.0.1)\r\n",
      "Requirement already satisfied: click in /Library/Frameworks/Python.framework/Versions/3.8/lib/python3.8/site-packages (from nltk>=3.2.1->newspaper3k) (7.1.2)\r\n",
      "Requirement already satisfied: certifi>=2017.4.17 in /Library/Frameworks/Python.framework/Versions/3.8/lib/python3.8/site-packages (from requests>=2.10.0->newspaper3k) (2021.10.8)\r\n",
      "Requirement already satisfied: urllib3<1.27,>=1.21.1 in /Library/Frameworks/Python.framework/Versions/3.8/lib/python3.8/site-packages (from requests>=2.10.0->newspaper3k) (1.26.9)\r\n",
      "Requirement already satisfied: charset-normalizer~=2.0.0 in /Library/Frameworks/Python.framework/Versions/3.8/lib/python3.8/site-packages (from requests>=2.10.0->newspaper3k) (2.0.12)\r\n",
      "Requirement already satisfied: idna<4,>=2.5 in /Library/Frameworks/Python.framework/Versions/3.8/lib/python3.8/site-packages (from requests>=2.10.0->newspaper3k) (2.10)\r\n",
      "Requirement already satisfied: filelock>=3.0.8 in /Library/Frameworks/Python.framework/Versions/3.8/lib/python3.8/site-packages (from tldextract>=2.0.1->newspaper3k) (3.6.0)\r\n",
      "Requirement already satisfied: requests-file>=1.4 in /Library/Frameworks/Python.framework/Versions/3.8/lib/python3.8/site-packages (from tldextract>=2.0.1->newspaper3k) (1.5.1)\r\n",
      "\u001B[33mWARNING: You are using pip version 22.0.4; however, version 22.1.2 is available.\r\n",
      "You should consider upgrading via the '/Library/Frameworks/Python.framework/Versions/3.8/bin/python3 -m pip install --upgrade pip' command.\u001B[0m\u001B[33m\r\n",
      "\u001B[0mRequirement already satisfied: newspaper3k in /Library/Frameworks/Python.framework/Versions/3.8/lib/python3.8/site-packages (0.2.8)\r\n",
      "Requirement already satisfied: PyYAML>=3.11 in /Library/Frameworks/Python.framework/Versions/3.8/lib/python3.8/site-packages (from newspaper3k) (6.0)\r\n",
      "Requirement already satisfied: python-dateutil>=2.5.3 in /Users/alex/Library/Python/3.8/lib/python/site-packages (from newspaper3k) (2.8.2)\r\n",
      "Requirement already satisfied: Pillow>=3.3.0 in /Library/Frameworks/Python.framework/Versions/3.8/lib/python3.8/site-packages (from newspaper3k) (9.0.1)\r\n",
      "Requirement already satisfied: tinysegmenter==0.3 in /Library/Frameworks/Python.framework/Versions/3.8/lib/python3.8/site-packages (from newspaper3k) (0.3)\r\n",
      "Requirement already satisfied: cssselect>=0.9.2 in /Library/Frameworks/Python.framework/Versions/3.8/lib/python3.8/site-packages (from newspaper3k) (1.1.0)\r\n",
      "Requirement already satisfied: requests>=2.10.0 in /Library/Frameworks/Python.framework/Versions/3.8/lib/python3.8/site-packages (from newspaper3k) (2.27.1)\r\n",
      "Requirement already satisfied: lxml>=3.6.0 in /Library/Frameworks/Python.framework/Versions/3.8/lib/python3.8/site-packages (from newspaper3k) (4.6.1)\r\n",
      "Requirement already satisfied: tldextract>=2.0.1 in /Library/Frameworks/Python.framework/Versions/3.8/lib/python3.8/site-packages (from newspaper3k) (3.2.0)\r\n",
      "Requirement already satisfied: beautifulsoup4>=4.4.1 in /Library/Frameworks/Python.framework/Versions/3.8/lib/python3.8/site-packages (from newspaper3k) (4.9.3)\r\n",
      "Requirement already satisfied: nltk>=3.2.1 in /Library/Frameworks/Python.framework/Versions/3.8/lib/python3.8/site-packages (from newspaper3k) (3.6.5)\r\n",
      "Requirement already satisfied: jieba3k>=0.35.1 in /Library/Frameworks/Python.framework/Versions/3.8/lib/python3.8/site-packages (from newspaper3k) (0.35.1)\r\n",
      "Requirement already satisfied: feedparser>=5.2.1 in /Library/Frameworks/Python.framework/Versions/3.8/lib/python3.8/site-packages (from newspaper3k) (6.0.10)\r\n",
      "Requirement already satisfied: feedfinder2>=0.0.4 in /Library/Frameworks/Python.framework/Versions/3.8/lib/python3.8/site-packages (from newspaper3k) (0.0.4)\r\n",
      "Requirement already satisfied: soupsieve>1.2 in /Library/Frameworks/Python.framework/Versions/3.8/lib/python3.8/site-packages (from beautifulsoup4>=4.4.1->newspaper3k) (2.2.1)\r\n",
      "Requirement already satisfied: six in /Users/alex/Library/Python/3.8/lib/python/site-packages (from feedfinder2>=0.0.4->newspaper3k) (1.15.0)\r\n",
      "Requirement already satisfied: sgmllib3k in /Library/Frameworks/Python.framework/Versions/3.8/lib/python3.8/site-packages (from feedparser>=5.2.1->newspaper3k) (1.0.0)\r\n",
      "Requirement already satisfied: tqdm in /Library/Frameworks/Python.framework/Versions/3.8/lib/python3.8/site-packages (from nltk>=3.2.1->newspaper3k) (4.62.1)\r\n",
      "Requirement already satisfied: regex>=2021.8.3 in /Library/Frameworks/Python.framework/Versions/3.8/lib/python3.8/site-packages (from nltk>=3.2.1->newspaper3k) (2021.11.10)\r\n",
      "Requirement already satisfied: click in /Library/Frameworks/Python.framework/Versions/3.8/lib/python3.8/site-packages (from nltk>=3.2.1->newspaper3k) (7.1.2)\r\n",
      "Requirement already satisfied: joblib in /Library/Frameworks/Python.framework/Versions/3.8/lib/python3.8/site-packages (from nltk>=3.2.1->newspaper3k) (1.0.1)\r\n",
      "Requirement already satisfied: certifi>=2017.4.17 in /Library/Frameworks/Python.framework/Versions/3.8/lib/python3.8/site-packages (from requests>=2.10.0->newspaper3k) (2021.10.8)\r\n",
      "Requirement already satisfied: urllib3<1.27,>=1.21.1 in /Library/Frameworks/Python.framework/Versions/3.8/lib/python3.8/site-packages (from requests>=2.10.0->newspaper3k) (1.26.9)\r\n",
      "Requirement already satisfied: idna<4,>=2.5 in /Library/Frameworks/Python.framework/Versions/3.8/lib/python3.8/site-packages (from requests>=2.10.0->newspaper3k) (2.10)\r\n",
      "Requirement already satisfied: charset-normalizer~=2.0.0 in /Library/Frameworks/Python.framework/Versions/3.8/lib/python3.8/site-packages (from requests>=2.10.0->newspaper3k) (2.0.12)\r\n",
      "Requirement already satisfied: requests-file>=1.4 in /Library/Frameworks/Python.framework/Versions/3.8/lib/python3.8/site-packages (from tldextract>=2.0.1->newspaper3k) (1.5.1)\r\n",
      "Requirement already satisfied: filelock>=3.0.8 in /Library/Frameworks/Python.framework/Versions/3.8/lib/python3.8/site-packages (from tldextract>=2.0.1->newspaper3k) (3.6.0)\r\n",
      "\u001B[33mWARNING: You are using pip version 22.0.4; however, version 22.1.2 is available.\r\n",
      "You should consider upgrading via the '/Library/Frameworks/Python.framework/Versions/3.8/bin/python3 -m pip install --upgrade pip' command.\u001B[0m\u001B[33m\r\n",
      "\u001B[0m"
     ]
    }
   ],
   "source": [
    "!pip3 install newspaper3k"
   ],
   "metadata": {
    "collapsed": false,
    "pycharm": {
     "name": "#%%\n"
    }
   }
  },
  {
   "cell_type": "code",
   "execution_count": 7,
   "outputs": [],
   "source": [
    "def get_text_from_url(url):\n",
    "    \"\"\"\n",
    "    :param url: Адрес статьи\n",
    "    :return: список [заголовок статьи, авторы, ключевые слова, дата публикации, краткое содержание, текст, дополнительные данные]\n",
    "    \"\"\"\n",
    "    from newspaper import Article\n",
    "    article = Article(url, language='ru')\n",
    "    article.download()\n",
    "    article.parse()\n",
    "    article.nlp()\n",
    "    #print(article.authors)\n",
    "    return article.title, article.authors, article.keywords, article.publish_date, article.summary, article.text, article.additional_data\n"
   ],
   "metadata": {
    "collapsed": false,
    "pycharm": {
     "name": "#%%\n"
    }
   }
  },
  {
   "cell_type": "code",
   "execution_count": null,
   "outputs": [],
   "source": [
    "test_url = '''https://rostec.ru/news/rostekh-razrabotal-pervye-rossiyskie-oled-mikrodisplei/?utm_source=yxnews&utm_medium=desktop&utm_referrer=https%3A%2F%2Fyandex.ru%2Fnews%2Fsearch%3Ftext%3D'''\n",
    "\n",
    "print(get_text_from_url(test_url))"
   ],
   "metadata": {
    "collapsed": false,
    "pycharm": {
     "name": "#%%\n"
    }
   }
  },
  {
   "cell_type": "code",
   "execution_count": null,
   "outputs": [],
   "source": [
    "# тест на Фараоне\n",
    "pharaon_url = \"https://maxpark.com/community/603/content/3696835\"\n",
    "pharaon_article_data = get_text_from_url(pharaon_url)\n",
    "pharaon_article_data"
   ],
   "metadata": {
    "collapsed": false,
    "pycharm": {
     "name": "#%%\n"
    }
   }
  },
  {
   "cell_type": "markdown",
   "source": [
    "#### Позитивный/негативный скоринг:"
   ],
   "metadata": {
    "collapsed": false,
    "pycharm": {
     "name": "#%% md\n"
    }
   }
  },
  {
   "cell_type": "code",
   "execution_count": null,
   "outputs": [],
   "source": [
    "anger_words = list()\n",
    "with open('WordNet-AffectRuRomVer2/anger.txt', 'r') as anger_file:\n",
    "    anger_words = anger_file.read()"
   ],
   "metadata": {
    "collapsed": false,
    "pycharm": {
     "name": "#%%\n"
    }
   }
  },
  {
   "cell_type": "code",
   "execution_count": null,
   "outputs": [],
   "source": [
    "words = anger_words.split('\\t')\n",
    "words"
   ],
   "metadata": {
    "collapsed": false,
    "pycharm": {
     "name": "#%%\n"
    }
   }
  },
  {
   "cell_type": "code",
   "execution_count": null,
   "outputs": [],
   "source": [
    "import re\n",
    "\n",
    "txt = str()\n",
    "for word in words:\n",
    "    if len(re.findall(r'[а-яё_]', word)) > 1:\n",
    "        txt = txt + word\n",
    "anger_words = txt.split()\n",
    "anger_words"
   ],
   "metadata": {
    "collapsed": false,
    "pycharm": {
     "name": "#%%\n"
    }
   }
  },
  {
   "cell_type": "code",
   "execution_count": null,
   "outputs": [],
   "source": [
    "!pip install dostoevsky\n",
    "!python3 -m dostoevsky download fasttext-social-network-model"
   ],
   "metadata": {
    "collapsed": false,
    "pycharm": {
     "name": "#%%\n"
    }
   }
  },
  {
   "cell_type": "code",
   "execution_count": null,
   "outputs": [],
   "source": [
    "def get_sentitment(text):\n",
    "    import fasttext\n",
    "    fasttext.FastText.eprint = lambda x: None\n",
    "\n",
    "    from dostoevsky.tokenization import RegexTokenizer\n",
    "    from dostoevsky.models import FastTextSocialNetworkModel\n",
    "\n",
    "    post_tokinizer = RegexTokenizer()\n",
    "    post_analyzer_model = FastTextSocialNetworkModel(tokenizer=post_tokinizer)\n",
    "\n",
    "    post_analyzer_result = post_analyzer_model.predict(text)\n",
    "    count = len(post_analyzer_result)\n",
    "    result = {'neutral': 0, 'skip': 0, 'negative': 0, 'speech': 0, 'positive': 0}\n",
    "\n",
    "    for metrics in post_analyzer_result:\n",
    "        for key in metrics.keys():\n",
    "            result[key] = result[key] + metrics[key]\n",
    "\n",
    "    for key in result.keys():\n",
    "        result[key] = result[key] / count\n",
    "\n",
    "    return result"
   ],
   "metadata": {
    "collapsed": false,
    "pycharm": {
     "name": "#%%\n"
    }
   }
  },
  {
   "cell_type": "code",
   "execution_count": null,
   "outputs": [],
   "source": [
    "print(get_sentitment(origin_text))"
   ],
   "metadata": {
    "collapsed": false,
    "pycharm": {
     "name": "#%%\n"
    }
   }
  },
  {
   "cell_type": "code",
   "execution_count": null,
   "outputs": [],
   "source": [
    "# тестиреум на предложенном Саше датасете:\n",
    "test_sents = ['Роскосмос запустил ракету. Запуск был успешный',\n",
    "              'Роскосмос запустил ракету. Запуск был неуспешный',\n",
    "              'Новые технологии позволят людям ходить по Марсу',\n",
    "              'Люди никогда не смогут ходить по Марсу',\n",
    "              'Разработчики запустили сервис по распознованию фейков в новостях',\n",
    "              'Разработчикам не удалось запустить сервис по распознованию фейков в новостях',\n",
    "              'Развитие технологий является основным приоритетом для Правительство',\n",
    "              'Правительство не считает развитие технологий основным приоритетом',\n",
    "              'Овца Долли выжила после клонирования',\n",
    "              'Овца Долли погибла после клонирования']\n",
    "\n",
    "for sent in test_sents:\n",
    "    print(f'{sent}\\n{get_sentitment(sent)}\\n')"
   ],
   "metadata": {
    "collapsed": false,
    "pycharm": {
     "name": "#%%\n"
    }
   }
  },
  {
   "cell_type": "code",
   "execution_count": null,
   "outputs": [],
   "source": [
    "get_sentitment(pharaon_article_data[5])"
   ],
   "metadata": {
    "collapsed": false,
    "pycharm": {
     "name": "#%%\n"
    }
   }
  },
  {
   "cell_type": "markdown",
   "source": [
    "### Получение данных для тестов"
   ],
   "metadata": {
    "collapsed": false,
    "pycharm": {
     "name": "#%% md\n"
    }
   }
  },
  {
   "cell_type": "markdown",
   "source": [
    "#### Запрос от Саши 22:28 04/06/2022"
   ],
   "metadata": {
    "collapsed": false,
    "pycharm": {
     "name": "#%% md\n"
    }
   }
  },
  {
   "cell_type": "code",
   "execution_count": 4,
   "outputs": [],
   "source": [
    "import pandas as pd\n",
    "import json\n",
    "\n",
    "def get_plagiat_urls_df_from_url(url):\n",
    "    '''\n",
    "    Возвращает pandas DataFrame с перечнем ссылок источников статей, которые похожи на плагиат\n",
    "    :param url: ссылка на статью\n",
    "    :return: pd.DataFrame columns=['url', 'plagiat_score', 'words']\n",
    "    '''\n",
    "    data_from_link = get_text_from_url(url)\n",
    "    text_from_link_uid = get_antiplag_uid(data_from_link[5])\n",
    "    andata_from_link = get_antiplag_data_from_uid(text_from_link_uid['text_uid'])\n",
    "    andata_from_link_urls = json.loads(andata_from_link['result_json'])['urls']\n",
    "    antiplag_result_list = list()\n",
    "    for element in andata_from_link1_urls:\n",
    "        antiplag_result_list.append([element['url'], element['plagiat'], element['words']])\n",
    "    result_df = pd.DataFrame(antiplag_result_list, columns=['url', 'plagiat_score', 'words'])\n",
    "    return result_df\n"
   ],
   "metadata": {
    "collapsed": false,
    "pycharm": {
     "name": "#%%\n"
    }
   }
  },
  {
   "cell_type": "code",
   "execution_count": null,
   "outputs": [],
   "source": [
    "#link1 = 'https://new-science.ru/izvlechennaya-krov-iz-42-000-letnego-zherebenka-najdennogo-zamorozhennym-v-sibiri/'\n",
    "link1 = 'https://newsland.com/community/603/content/nauchnyi-proryv-udalos-klonirovat-faraona/3696835'\n",
    "\n",
    "data_from_link1 = get_text_from_url(link1)\n",
    "data_from_link2 = get_text_from_url(link2)\n"
   ],
   "metadata": {
    "collapsed": false,
    "pycharm": {
     "name": "#%%\n"
    }
   }
  },
  {
   "cell_type": "code",
   "execution_count": null,
   "outputs": [],
   "source": [
    "print(data_from_link1)\n",
    "print(data_from_link2)"
   ],
   "metadata": {
    "collapsed": false,
    "pycharm": {
     "name": "#%%\n"
    }
   }
  },
  {
   "cell_type": "code",
   "execution_count": null,
   "outputs": [],
   "source": [
    "print(f'Text from {link1}:\\n{data_from_link1[5]}')\n",
    "print(f'Text from {link2}:\\n{data_from_link2[5]}')"
   ],
   "metadata": {
    "collapsed": false,
    "pycharm": {
     "name": "#%%\n"
    }
   }
  },
  {
   "cell_type": "code",
   "execution_count": null,
   "outputs": [],
   "source": [
    "text_from_link1_uid = get_antiplag_uid(data_from_link1[5])\n",
    "text_from_link1_uid"
   ],
   "metadata": {
    "collapsed": false,
    "pycharm": {
     "name": "#%%\n"
    }
   }
  },
  {
   "cell_type": "code",
   "execution_count": null,
   "outputs": [],
   "source": [
    "andata_from_link1 = get_antiplag_data_from_uid(text_from_link1_uid['text_uid'])"
   ],
   "metadata": {
    "collapsed": false,
    "pycharm": {
     "name": "#%%\n"
    }
   }
  },
  {
   "cell_type": "code",
   "execution_count": 21,
   "outputs": [
    {
     "ename": "NameError",
     "evalue": "name 'andata_from_link1' is not defined",
     "output_type": "error",
     "traceback": [
      "\u001B[0;31m---------------------------------------------------------------------------\u001B[0m",
      "\u001B[0;31mNameError\u001B[0m                                 Traceback (most recent call last)",
      "Input \u001B[0;32mIn [21]\u001B[0m, in \u001B[0;36m<cell line: 2>\u001B[0;34m()\u001B[0m\n\u001B[1;32m      1\u001B[0m \u001B[38;5;28;01mimport\u001B[39;00m \u001B[38;5;21;01mjson\u001B[39;00m\n\u001B[0;32m----> 2\u001B[0m andata_from_link1_urls \u001B[38;5;241m=\u001B[39m json\u001B[38;5;241m.\u001B[39mloads(\u001B[43mandata_from_link1\u001B[49m[\u001B[38;5;124m'\u001B[39m\u001B[38;5;124mresult_json\u001B[39m\u001B[38;5;124m'\u001B[39m])[\u001B[38;5;124m'\u001B[39m\u001B[38;5;124murls\u001B[39m\u001B[38;5;124m'\u001B[39m]\n",
      "\u001B[0;31mNameError\u001B[0m: name 'andata_from_link1' is not defined"
     ]
    }
   ],
   "source": [
    "import json\n",
    "andata_from_link1_urls = json.loads(andata_from_link1['result_json'])['urls']"
   ],
   "metadata": {
    "collapsed": false,
    "pycharm": {
     "name": "#%%\n"
    }
   }
  },
  {
   "cell_type": "code",
   "execution_count": 20,
   "outputs": [
    {
     "ename": "NameError",
     "evalue": "name 'andata_from_link1_urls' is not defined",
     "output_type": "error",
     "traceback": [
      "\u001B[0;31m---------------------------------------------------------------------------\u001B[0m",
      "\u001B[0;31mNameError\u001B[0m                                 Traceback (most recent call last)",
      "Input \u001B[0;32mIn [20]\u001B[0m, in \u001B[0;36m<cell line: 1>\u001B[0;34m()\u001B[0m\n\u001B[0;32m----> 1\u001B[0m \u001B[43mandata_from_link1_urls\u001B[49m\n",
      "\u001B[0;31mNameError\u001B[0m: name 'andata_from_link1_urls' is not defined"
     ]
    }
   ],
   "source": [
    "andata_from_link1_urls"
   ],
   "metadata": {
    "collapsed": false,
    "pycharm": {
     "name": "#%%\n"
    }
   }
  },
  {
   "cell_type": "code",
   "execution_count": 19,
   "outputs": [
    {
     "ename": "NameError",
     "evalue": "name 'andata_from_link1_urls' is not defined",
     "output_type": "error",
     "traceback": [
      "\u001B[0;31m---------------------------------------------------------------------------\u001B[0m",
      "\u001B[0;31mNameError\u001B[0m                                 Traceback (most recent call last)",
      "Input \u001B[0;32mIn [19]\u001B[0m, in \u001B[0;36m<cell line: 9>\u001B[0;34m()\u001B[0m\n\u001B[1;32m      5\u001B[0m         antiplag_result\u001B[38;5;241m.\u001B[39mappend([element[\u001B[38;5;124m'\u001B[39m\u001B[38;5;124murl\u001B[39m\u001B[38;5;124m'\u001B[39m], element[\u001B[38;5;124m'\u001B[39m\u001B[38;5;124mplagiat\u001B[39m\u001B[38;5;124m'\u001B[39m], element[\u001B[38;5;124m'\u001B[39m\u001B[38;5;124mwords\u001B[39m\u001B[38;5;124m'\u001B[39m]])\n\u001B[1;32m      6\u001B[0m     \u001B[38;5;28;01mreturn\u001B[39;00m antiplag_result\n\u001B[0;32m----> 9\u001B[0m \u001B[43mget_df_from_antiplag_urls_section\u001B[49m\u001B[43m(\u001B[49m\u001B[43m)\u001B[49m\n",
      "Input \u001B[0;32mIn [19]\u001B[0m, in \u001B[0;36mget_df_from_antiplag_urls_section\u001B[0;34m()\u001B[0m\n\u001B[1;32m      2\u001B[0m \u001B[38;5;28;01mglobal\u001B[39;00m antiplag_result\n\u001B[1;32m      3\u001B[0m antiplag_result \u001B[38;5;241m=\u001B[39m \u001B[38;5;28mlist\u001B[39m()\n\u001B[0;32m----> 4\u001B[0m \u001B[38;5;28;01mfor\u001B[39;00m element \u001B[38;5;129;01min\u001B[39;00m \u001B[43mandata_from_link1_urls\u001B[49m:\n\u001B[1;32m      5\u001B[0m     antiplag_result\u001B[38;5;241m.\u001B[39mappend([element[\u001B[38;5;124m'\u001B[39m\u001B[38;5;124murl\u001B[39m\u001B[38;5;124m'\u001B[39m], element[\u001B[38;5;124m'\u001B[39m\u001B[38;5;124mplagiat\u001B[39m\u001B[38;5;124m'\u001B[39m], element[\u001B[38;5;124m'\u001B[39m\u001B[38;5;124mwords\u001B[39m\u001B[38;5;124m'\u001B[39m]])\n\u001B[1;32m      6\u001B[0m \u001B[38;5;28;01mreturn\u001B[39;00m antiplag_result\n",
      "\u001B[0;31mNameError\u001B[0m: name 'andata_from_link1_urls' is not defined"
     ]
    }
   ],
   "source": [
    "\n",
    "\n",
    "\n",
    "get_df_from_antiplag_urls_section(None)\n",
    "\n"
   ],
   "metadata": {
    "collapsed": false,
    "pycharm": {
     "name": "#%%\n"
    }
   }
  },
  {
   "cell_type": "code",
   "execution_count": null,
   "outputs": [],
   "source": [
    "import pandas as pd\n",
    "\n",
    "result_df = pd.DataFrame(antiplag_result, columns=['url', 'plagiat_score', 'words'])\n",
    "result_df"
   ],
   "metadata": {
    "collapsed": false,
    "pycharm": {
     "name": "#%%\n"
    }
   }
  },
  {
   "cell_type": "code",
   "execution_count": null,
   "outputs": [],
   "source": [
    "result_df.to_excel('zher.xlsx')"
   ],
   "metadata": {
    "collapsed": false,
    "pycharm": {
     "name": "#%%\n"
    }
   }
  },
  {
   "cell_type": "code",
   "execution_count": 8,
   "outputs": [
    {
     "ename": "KeyError",
     "evalue": "'result_json'",
     "output_type": "error",
     "traceback": [
      "\u001B[0;31m---------------------------------------------------------------------------\u001B[0m",
      "\u001B[0;31mKeyError\u001B[0m                                  Traceback (most recent call last)",
      "Input \u001B[0;32mIn [8]\u001B[0m, in \u001B[0;36m<cell line: 2>\u001B[0;34m()\u001B[0m\n\u001B[1;32m      1\u001B[0m pharaon_url \u001B[38;5;241m=\u001B[39m \u001B[38;5;124m'\u001B[39m\u001B[38;5;124mhttps://newsland.com/community/603/content/nauchnyi-proryv-udalos-klonirovat-faraona/3696835\u001B[39m\u001B[38;5;124m'\u001B[39m\n\u001B[0;32m----> 2\u001B[0m pharaon_df \u001B[38;5;241m=\u001B[39m \u001B[43mget_plagiat_urls_df_from_url\u001B[49m\u001B[43m(\u001B[49m\u001B[43mpharaon_url\u001B[49m\u001B[43m)\u001B[49m\n\u001B[1;32m      3\u001B[0m pharaon_df\n",
      "Input \u001B[0;32mIn [4]\u001B[0m, in \u001B[0;36mget_plagiat_urls_df_from_url\u001B[0;34m(url)\u001B[0m\n\u001B[1;32m     11\u001B[0m text_from_link_uid \u001B[38;5;241m=\u001B[39m get_antiplag_uid(data_from_link[\u001B[38;5;241m5\u001B[39m])\n\u001B[1;32m     12\u001B[0m andata_from_link \u001B[38;5;241m=\u001B[39m get_antiplag_data_from_uid(text_from_link_uid[\u001B[38;5;124m'\u001B[39m\u001B[38;5;124mtext_uid\u001B[39m\u001B[38;5;124m'\u001B[39m])\n\u001B[0;32m---> 13\u001B[0m andata_from_link_urls \u001B[38;5;241m=\u001B[39m json\u001B[38;5;241m.\u001B[39mloads(\u001B[43mandata_from_link\u001B[49m\u001B[43m[\u001B[49m\u001B[38;5;124;43m'\u001B[39;49m\u001B[38;5;124;43mresult_json\u001B[39;49m\u001B[38;5;124;43m'\u001B[39;49m\u001B[43m]\u001B[49m)[\u001B[38;5;124m'\u001B[39m\u001B[38;5;124murls\u001B[39m\u001B[38;5;124m'\u001B[39m]\n\u001B[1;32m     14\u001B[0m antiplag_result_list \u001B[38;5;241m=\u001B[39m \u001B[38;5;28mlist\u001B[39m()\n\u001B[1;32m     15\u001B[0m \u001B[38;5;28;01mfor\u001B[39;00m element \u001B[38;5;129;01min\u001B[39;00m andata_from_link1_urls:\n",
      "\u001B[0;31mKeyError\u001B[0m: 'result_json'"
     ]
    }
   ],
   "source": [
    "pharaon_url = 'https://newsland.com/community/603/content/nauchnyi-proryv-udalos-klonirovat-faraona/3696835'\n",
    "#pharaon_df = get_plagiat_urls_df_from_url(pharaon_url)\n",
    "pharaon_df"
   ],
   "metadata": {
    "collapsed": false,
    "pycharm": {
     "name": "#%%\n"
    }
   }
  },
  {
   "cell_type": "code",
   "execution_count": 9,
   "outputs": [],
   "source": [
    "pharaon_uid = '629bc2219c640'\n",
    "pharaon_ant_data = get_antiplag_data_from_uid(pharaon_uid)"
   ],
   "metadata": {
    "collapsed": false,
    "pycharm": {
     "name": "#%%\n"
    }
   }
  },
  {
   "cell_type": "code",
   "execution_count": 18,
   "outputs": [
    {
     "data": {
      "text/plain": "[{'url': 'https://newsland.com/community/603/content/nauchnyi-proryv-udalos-klonirovat-faraona/3696835',\n  'plagiat': 100,\n  'words': '0 1 2 3 4 5 6 7 8 9 10 11 12 13 14 15 16 17 18 19 20 21 22 23 24 25 26 27 28 29 30 31 32 33 34 35 36 37 38 39 40 41 42 43 44 45 46 47 48 49 50 51 52 53 54 55 56 57 58 59 60 61 62 63 64 65 66 67 68 69 70 71 72 73 74 75 76 77 78 79 80 81 82 83 84 85 86 87 88 89 90 91 92 93 94 95 96 97 98 99 100 101 102 103 104 105 106 107 108 109 110 111 112 113 114 115 116 117 118 119 120 121 122 123 124 125 126 127 128 129 130 131 132 133 134 135 136 137 138 139 140 141 142 143 144 145 146 147 148 149 150 151 152 153 154 155 156 157 158 159 160 161 162 163 164 165 166 167 168 169 170 171 172 173 174 175 176 177 178'},\n {'url': 'https://maxpark.com/community/603/content/3696835',\n  'plagiat': 79.09,\n  'words': '3 4 5 6 7 8 9 10 11 12 14 15 16 17 18 19 24 25 26 27 28 29 30 32 33 34 35 36 37 38 39 40 41 42 43 44 45 46 47 48 50 51 52 53 54 55 56 57 58 59 60 61 62 63 64 65 66 67 68 69 70 71 72 73 74 75 76 77 78 79 80 81 82 83 84 85 86 87 88 89 90 91 92 93 94 95 96 97 98 99 100 101 102 103 104 105 116 117 118 119 120 121 122 124 125 126 127 147 148 149 150 151 152 153 154 155 156 157 158 159 160 162 163 164 165 166 167 168 170 171 172 174 175 176 177 178'},\n {'url': 'http://156.esspol.ru/news/a-649.html',\n  'plagiat': 60.96,\n  'words': '0 1 2 3 4 5 6 7 8 9 10 11 12 14 15 16 17 18 19 24 25 26 27 28 29 30 32 33 34 35 36 37 38 39 40 41 42 43 44 45 46 47 48 51 52 53 54 55 56 57 58 59 60 61 62 63 64 65 66 67 68 69 70 71 72 73 74 75 76 77 78 79 80 81 82 83 84 85 86 87 88 89 90 91 92 93 94 95 96 97 98 99 100 101 102 103 104 105'},\n {'url': 'https://smixer.ru/news/p-2',\n  'plagiat': 18.3,\n  'words': '0 1 2 3 4 5 6 7 8 9 10 11 12 14 15 16 17 18 19 20 21 22 24 25 26 27 28 29 30'}]"
     },
     "execution_count": 18,
     "metadata": {},
     "output_type": "execute_result"
    }
   ],
   "source": [
    "json.loads(pharaon_ant_data['result_json'])['urls']"
   ],
   "metadata": {
    "collapsed": false,
    "pycharm": {
     "name": "#%%\n"
    }
   }
  },
  {
   "cell_type": "code",
   "execution_count": 26,
   "outputs": [],
   "source": [
    "def get_df_from_antiplag_urls_section(antiplag_results_url)->pd.DataFrame:\n",
    "    antiplag_result = list()\n",
    "    for element in antiplag_results_url:\n",
    "        antiplag_result.append([element['url'], element['plagiat'], element['words']])\n",
    "    result_df = pd.DataFrame(antiplag_result, columns=['url', 'plagiat_score', 'words'])\n",
    "\n",
    "    return result_df"
   ],
   "metadata": {
    "collapsed": false,
    "pycharm": {
     "name": "#%%\n"
    }
   }
  },
  {
   "cell_type": "code",
   "execution_count": 31,
   "outputs": [],
   "source": [
    "get_df_from_antiplag_urls_section(json.loads(pharaon_ant_data['result_json'])['urls']).to_excel('pharaon.xlsx')"
   ],
   "metadata": {
    "collapsed": false,
    "pycharm": {
     "name": "#%%\n"
    }
   }
  },
  {
   "cell_type": "markdown",
   "source": [
    "### Получаем дату адреса"
   ],
   "metadata": {
    "collapsed": false,
    "pycharm": {
     "name": "#%% md\n"
    }
   }
  },
  {
   "cell_type": "code",
   "execution_count": null,
   "outputs": [],
   "source": [],
   "metadata": {
    "collapsed": false,
    "pycharm": {
     "name": "#%%\n"
    }
   }
  },
  {
   "cell_type": "markdown",
   "source": [],
   "metadata": {
    "collapsed": false,
    "pycharm": {
     "name": "#%% md\n"
    }
   }
  }
 ],
 "metadata": {
  "kernelspec": {
   "display_name": "Python 3",
   "language": "python",
   "name": "python3"
  },
  "language_info": {
   "codemirror_mode": {
    "name": "ipython",
    "version": 2
   },
   "file_extension": ".py",
   "mimetype": "text/x-python",
   "name": "python",
   "nbconvert_exporter": "python",
   "pygments_lexer": "ipython2",
   "version": "2.7.6"
  }
 },
 "nbformat": 4,
 "nbformat_minor": 0
}