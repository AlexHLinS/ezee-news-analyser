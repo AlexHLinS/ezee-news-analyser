{
 "cells": [
  {
   "cell_type": "code",
   "execution_count": 22,
   "outputs": [],
   "source": [
    "import numpy as np\n",
    "\n",
    "from aux_tools import get_text_from_url, get_antiplag_data_from_uid, get_antiplag_uid, get_token_from_file\n",
    "from typing import NamedTuple, Tuple\n",
    "from json import loads\n",
    "import asyncio\n",
    "from newspaper import Article, ArticleException"
   ],
   "metadata": {
    "collapsed": false,
    "pycharm": {
     "name": "#%%\n"
    }
   }
  },
  {
   "cell_type": "code",
   "execution_count": 178,
   "metadata": {
    "collapsed": true,
    "pycharm": {
     "name": "#%%\n"
    }
   },
   "outputs": [],
   "source": [
    "\n",
    "\n",
    "\n",
    "class ArticleBaseData(NamedTuple):\n",
    "    url: str\n",
    "    title: str\n",
    "    text: str\n",
    "\n",
    "\n",
    "class SimilarArticleData(NamedTuple):\n",
    "    url: str\n",
    "    similarity_score: float\n",
    "    similar_words_list: Tuple[str]\n",
    "\n",
    "\n",
    "class UniqTestResults(NamedTuple):\n",
    "    date_check: str\n",
    "    unique_score: float\n",
    "    cleared_text: str\n",
    "    similar_articles: Tuple[SimilarArticleData]\n",
    "\n",
    "\n",
    "class SpellCheckResult(NamedTuple):\n",
    "    error_type: str\n",
    "    reason: str\n",
    "    not_correct_text: str\n",
    "    correct_replacements: Tuple[str]\n",
    "    error_segment_start_position: int\n",
    "    error_segment_end_position: int\n",
    "\n",
    "\n",
    "class TextKeys(NamedTuple):\n",
    "    key_title = str\n",
    "    count = int\n",
    "\n",
    "\n",
    "class TextKeysGroup(NamedTuple):\n",
    "    key_title = str\n",
    "    count = int\n",
    "    sub_keys = Tuple[TextKeys]\n",
    "\n",
    "\n",
    "class SeoCheckResult(NamedTuple):\n",
    "    count_chars_with_space: int\n",
    "    count_chars_without_space: int\n",
    "    count_words: int\n",
    "    water_percent: float\n",
    "    spam_percent: float\n",
    "    mixed_words_positions: int\n",
    "    list_keys: Tuple[TextKeys]\n",
    "    list_keys_group: Tuple[TextKeysGroup]\n",
    "\n",
    "\n",
    "class ApTextTestResult(NamedTuple):\n",
    "    uid: str\n",
    "    text_unique: float\n",
    "    uniq_results: UniqTestResults\n",
    "    spell_results: Tuple[SpellCheckResult]\n",
    "    seo_results: SeoCheckResult\n",
    "\n",
    "\n",
    "class TextFeatures(NamedTuple):\n",
    "    mistakes_count: int\n",
    "    spam_index: float\n",
    "    water_index: float\n",
    "    is_directional_pronouns_used: bool\n",
    "    is_direct_appear: bool\n",
    "    is_any_links: bool\n",
    "\n",
    "\n",
    "class AnalyzedArticle(object):\n",
    "\n",
    "    def load_semilarity_data(self):\n",
    "        raw_sem_data = get_antiplag_data_from_uid(self.similarity_data.uid)\n",
    "        rj = loads(raw_sem_data['result_json'])\n",
    "        sch = loads(raw_sem_data['spell_check'])\n",
    "        seo = loads(raw_sem_data['seo_check'])\n",
    "\n",
    "        self.similarity_data.text_unique = raw_sem_data['text_unique']\n",
    "\n",
    "        self.similarity_data.uniq_results = UniqTestResults\n",
    "        self.similarity_data.uniq_results.similar_articles = []\n",
    "        self.similarity_data.uniq_results.date_check = rj['date_check']\n",
    "        self.similarity_data.uniq_results.unique_score = rj['unique']\n",
    "        self.similarity_data.uniq_results.cleared_text = rj['clear_text']\n",
    "        for element in rj['urls']:\n",
    "            self.similarity_data.uniq_results.similar_articles.append(\n",
    "                SimilarArticleData(url=element['url'], similarity_score=element['plagiat'],\n",
    "                                   similar_words_list=str(element['words']).split(' ')))\n",
    "\n",
    "        self.similarity_data.spell_results = []\n",
    "        for element in sch:\n",
    "            self.similarity_data.spell_results.append(\n",
    "                SpellCheckResult(error_type=element['error_type'], reason=element['reason'],\n",
    "                                 not_correct_text=element['error_text'],\n",
    "                                 correct_replacements=element['replacements'],\n",
    "                                 error_segment_start_position=element['start'],\n",
    "                                 error_segment_end_position=element['end']))\n",
    "\n",
    "        self.similarity_data.seo_results = SeoCheckResult\n",
    "        self.similarity_data.seo_results.mixed_words_positions = rj['mixed_words']\n",
    "        self.similarity_data.seo_results.count_chars_with_space = seo['count_chars_with_space']\n",
    "        self.similarity_data.seo_results.count_chars_without_space = seo['count_chars_without_space']\n",
    "        self.similarity_data.seo_results.count_words = seo['count_words']\n",
    "        self.similarity_data.seo_results.water_percent = seo['water_percent']\n",
    "        self.similarity_data.seo_results.list_keys = []\n",
    "        # TODO: implement load list keys\n",
    "\n",
    "        self.similarity_data.seo_results.list_keys_group = []\n",
    "        # TODO: inplement load list keys group\n",
    "\n",
    "        self.similarity_data.seo_results.spam_percent = seo['spam_percent']\n",
    "\n",
    "    def get_semilarity_data(self) -> ApTextTestResult:\n",
    "        return self.similarity_data\n",
    "\n",
    "    def start_data_gethering(self):\n",
    "        self.load_semilarity_data()\n",
    "        pass\n",
    "\n",
    "    def __init__(self, article_id: str, article_title: str, article_text: str) -> None:\n",
    "        self.article_id = article_id\n",
    "        self.title = article_title\n",
    "        self.text = article_text\n",
    "\n",
    "        self.similarity_data = ApTextTestResult\n",
    "        self.similarity_data.uid = get_antiplag_uid(self.text)['text_uid']\n",
    "\n",
    "        self.is_primary_source = None  # -   логический признак если первоисточник новости найден\n",
    "        self.primary_source_url = None  # -   ссылка на первоисточник\n",
    "        self.source_reliability = None  # -   рейтинг достоверности первоисточника\n",
    "        self.date_delta = None  # -   дней между размещением первоисточником и этой новостью\n",
    "        self.difference = None  # -   отличие от первоисточника по тексту (процент \"плагиата\")\n",
    "        self.difference_sum = None  # -   отличие текса \"саммаризации\" статьи от оригинала\n",
    "        self.deltav_tone_vector = None  # -   изменение вектора тональности\n",
    "        self.crossed_words = None  # -   список слов статьи, пересекающихся с первоисточником\n",
    "        self.media_count = None  # -   список ресурсов, разместивших статью\n",
    "        self.media_avg_rate = None  # -   средний рейтинг ресурсов, разместивших статью\n",
    "        self.good_media_percentage = None  # -   доля ресурсов с рейтингом доверия более 8 (по 10 бальной системе)\n",
    "        self.diagram_1 = None  # -   данные по динамике перепечатки статьи\n",
    "        self.is_real_publication_date = None  # -   указана ли в статье дата публикации\n",
    "        self.is_publication_date_difference = None  # -   различается ли дата публикации в статье с фактической датой публикации\n",
    "        self.is_author_shown = None  # -   указан ли в статье автор публикации\n",
    "        self.real_references = None  # -   ссылки на источник новости (организации, новости, исследователи и тд)\n",
    "        self.is_organisation_real = None  # -   реальны ли эти организации\n",
    "        self.author_rate = None  # -   рейтинг автора\n",
    "        self.mistakes_count = None  # -   количество ошибок в тексте\n",
    "        self.spam_index = None  # -   индекс \"мусора\"\n",
    "        self.water_index = None  # -   индекс \"воды\"\n",
    "        self.is_directional_pronouns_used = None  # -   использованы ли указательные местоимения\n",
    "        self.is_direct_appear = None  # -   использованы ли прямые обращения к читателю\n",
    "        self.is_any_links = None  #\n",
    "\n"
   ]
  },
  {
   "cell_type": "code",
   "execution_count": 128,
   "outputs": [],
   "source": [
    "test_cases =list()\n",
    "data1_title = 'Москва заняла первое место среди европейских городов в рейтинге инноваций, помогающих в борьбе с COVID-19'\n",
    "data1_text = '''В мире Москва занимает третье место, уступая лишь Нью-Йорку и Сан-Франциско.\n",
    "Москва признана первой среди европейских городов в рейтинге инноваций, помогающих в формировании устойчивости коронавирусу. Она опередила Лондон и Барселону.\n",
    "Среди мировых мегаполисов российская столица занимает третью строчку — после Сан-Франциско и Нью-Йорка. Пятерку замыкают Бостон и Лондон. Рейтинг составило международное исследовательское агентство StartupBlink.\n",
    "Добиться высоких показателей Москве помогло почти 160 передовых решений, которые применяются для борьбы с распространением коронавируса.\n",
    "Среди них алгоритмы компьютерного зрения на основе искусственного интеллекта. Это методика уже помогла рентгенологам проанализировать более трех миллионов исследований.\n",
    "Еще одно инновационное решение — облачная платформа, которая объединяет пациентов, врачей, медицинские организации, страховые компании, фармакологические производства и сайты.\n",
    "Способствовали высоким результатам и технологии, которые помогают адаптировать жизнь горожан во время пандемии. Это проекты в сфере умного туризма, электронной коммерции и логистики, а также дистанционной работы и онлайн-образования.\n",
    "Эксперты агентства StartupBlink оценивали принятые в Москве меры с точки зрения эпидемиологических показателей и влияния на экономику.'''\n",
    "test_cases.append([data1_title, data1_text])\n",
    "\n",
    "data2_title = 'Москва стала лидером в Европе в рейтинге инноваций, помогающих в борьбе с COVID-19'\n",
    "data2_text = '''В мире российская столица заняла третье место, обогнав Лондон и Барселону.\n",
    "Москва заняла первое место среди европейских городов в рейтинге инноваций, помогающих в борьбе с COVID-19, опередив Лондон и Барселону. Об этом сообщает портал мэра и правительства Москвы. В мире российская столица заняла третье место, уступив лишь Нью-Йорку и Сан-Франциско.\n",
    "В российской столице применяются почти 160 передовых решений для борьбы с распространением коронавируса. Среди них алгоритмы компьютерного зрения на основе искусственного интеллекта, а такжеоблачная платформа, которая объединяет пациентов, врачей, медицинские организации, страховые компании, фармакологические производства и сайты. Способствовали высоким результатам и технологии, которые помогают горожанам адаптироваться во время пандемии. Это проекты в сфере умного туризма, электронной коммерции и логистики, а также дистанционной работы и онлайн-образования.\n",
    "Рейтинг составляется на базе глобальной карты инновационных решений по борьбе с коронавирусом и оценивает около 100 ведущих городов и 40 стран мира.'''\n",
    "test_cases.append([data2_title, data2_text])\n",
    "\n",
    "\n",
    "data3_title = 'Москва заняла первое место в Европе по инновациям в борьбе с COVID-19'\n",
    "data3_text = '''Москва обошла европейские столицы в рейтинге инноваций по устойчивости к COVID-19, опередив Лондон и Барселону, сообщается на официальном сайте мэра Москвы.\n",
    "Российская столица также заняла третье место среди мировых мегаполисов. В пятерку лидеров вошли Бостон и Лондон.\n",
    "Занять лидирующие позиции в рейтинге Москве помогли около 50 передовых решений, которые применяются для борьбы с распространением COVID-19.\n",
    "Одно из таких решений - алгоритмы компьютерного зрения на основе искусственного интеллекта, которые уже помогли рентгенологам проанализировать более трех миллионов исследований.\n",
    "Также высоким результатам способствовали технологии, помогающие адаптировать жизнь москвичей во время пандемии. Среди них - проекты в сфере умного туризма, электронной коммерции и логистики, дистанционной работы и онлайн-образования.\n",
    "Эксперты оценивали, как принятые в Москве меры влияют на эпидемиологические показатели и экономику.'''\n",
    "test_cases.append([data3_title, data3_text])\n",
    "\n",
    "\n",
    "data4_title = 'Москва заняла первое место в Европе по инновациям в борьбе с COVID-19'\n",
    "data4_text = '''Исследовательское агентство StartupBlink составило рейтинг городов по инновациям, помогающим в борьбе с COVID-19. Москва заняла в нем третье место в мире и первое — среди европейских городов.\n",
    "«Среди мировых мегаполисов российская столица занимает третью строчку — после Сан-Франциско и Нью-Йорка. Пятерку замыкают Бостон и Лондон»,— говорится на сайте московской мэрии.\n",
    "Среди московских инноваций, используемых для борьбы с коронавирусом,— алгоритмы компьютерного зрения на основе искусственного интеллекта (задействованы в медицинских исследованиях), облачная платформа (объединяет пациентов, врачей, медицинские организации, страховые компании, фармакологические производства и сайты), технологии для адаптации к жизни в городе в период пандемии (проекты в сфере «умного» туризма, электронной коммерции и логистики, а также дистанционной работы и онлайн-образования).\n",
    "По словам мэра Москвы Сергея Собянина, по состоянию на конец ноября большинство отраслей экономики столицы «чувствуют себя нормально». По данным мэрии, в 2021 году в Москве около 25 тыс. предприятий малого и среднего бизнеса получили поддержку властей.'''\n",
    "test_cases.append([data4_title, data4_text])\n",
    "\n",
    "\n",
    "data5_title = 'Москва стала первой в Европе среди городов с инновациями по борьбе с COVID-19'\n",
    "data5_text = '''Москва заняла первое место среди европейских городов в рейтинге инноваций, которые помогают бороться с коронавирусом. Об этом сообщает пресс-служба мэрии столицы.\n",
    "Рейтинг составило международное исследовательское агентство «StartupBlink». Среди европейских столиц Москва стала первой, обогнав Лондон и Барселону, а среди мировых городов – третьей, уступив Нью-Йорку и Сан-Франциско.\n",
    "Как отметили в мэрии Москвы, добиться таких высоких показателей помогли почти 160 передовых инноваций, среди которых алгоритмы компьютерного зрения на основе искусственного интеллекта, облачная платформа, объединившая пациентов, врачей, медицинские организации, страховые компании, фармакологические производства и сайты, а также технологии, которые помогают адаптировать жизнь горожан во время пандемии – проекты в сфере «умного» туризма, электронной коммерции и логистики, дистанционной работы и онлайн-образования.\n",
    "При этом в правительстве города подчеркнули, что при введении антиковидных ограничений власти отказались от крайностей, сделав ставку на профилактику заболевания – увеличили количество пунктов с бесплатным тестированием и вакцинацией, запатентовали онлайн-программы и платформы для обучения, и занялись развитием телемедицины.'''\n",
    "test_cases.append([data5_title, data5_text])\n",
    "\n",
    "\n",
    "data6_title = 'Москва заняла восьмое место среди европейских городов в рейтинге инноваций, помогающих в борьбе с COVID-19'\n",
    "data6_text = '''В мире Москва занимает лишь восьмое место, уступая в том числе Нью-Йорку и Сан-Франциско.\n",
    "Москва лишь пятой среди европейских городов в рейтинге инноваций, помогающих в формировании устойчивости коронавирусу. Она пропустила вперёд как Лондон, так и Барселону. Рейтинг составило международное исследовательское агентство StartupBlink.\n",
    "Добиться высоких показателей Москве помогло почти 70 передовых решений, которые применяются для борьбы с распространением коронавируса.\n",
    "Среди них алгоритмы компьютерного зрения на основе искусственного интеллекта. Это методика уже помогла рентгенологам проанализировать более пятисот тысяч исследований.\n",
    "Еще одно инновационное решение — облачная платформа, которая объединяет пациентов, врачей, медицинские организации, страховые компании, фармакологические производства и сайты.\n",
    "Способствовали высоким результатам и технологии, которые помогают адаптировать жизнь горожан во время пандемии. Это проекты в сфере умного туризма, электронной коммерции и логистики, а также дистанционной работы и онлайн-образования.\n",
    "Эксперты агентства StartupBlink оценивали принятые в Москве меры с точки зрения эпидемиологических показателей и влияния на экономику.'''\n",
    "test_cases.append([data6_title, data6_text])\n",
    "\n",
    "\n",
    "data7_title = 'Бостон занял первое место среди европейских городов в рейтинге инноваций в медицине, а Андроново отказалось от участия в оценке'\n",
    "data7_text = '''Бостон признан первым среди европейских городов в рейтинге инноваций, помогающих в формировании устойчивости коронавирусу. Он опередил Лондон, Барселону и Андроново.\n",
    "В мире Бостон занимает третье место, уступая лишь Нью-Йорку и Сан-Франциско. Андроново не участвовало в оценке в этом году. Рейтинг составило международное исследовательское агентство StartupBlink.\n",
    "Обойти преследователей Бостону помогло более 100 передовых решений, которые применяются для борьбы с распространением коронавируса.\n",
    "В свою очередь Андроново уже несколько лет не участвует в рейтинге по причине отсутствия кислорода в атмосфере города и водорода в составе воды в реке Лене.\n",
    "В качестве инновационного решения, позволяющего исправить положение, неким человеком на улице было предложено использовать фаршированных гонобобелем голубей для обеспечения регулярного авиасообщения с планетой Железяка.\n",
    "Другое предложенное решение оказалось ещё более странным, чем предыдущее — облачная платформа, которая объединяет перистые и кучевые облака в сверхмассивный кластер инновационных перисто-кучевых облаков.\n",
    "Такого рода высокие технологии вряд ли помогут Андронову занять какое-либо место в каком-нибудь конкурсе.\n",
    "'''\n",
    "test_cases.append([data7_title, data7_text])\n",
    "\n",
    "\n",
    "data8_title = 'Проектный офис ФЭСН РАНХиГС завершает 30 проектов. И начинает новые.'\n",
    "data8_text = '''Ежегодно в мае-июне Проектный офис Факультета экономических и социальных наук завершает работу над бизнес-проектами и представляет результаты заказчикам – российским и международным компаниям.\n",
    "Среди компаний-заказчиков были крупные российские компании и организации: Сбер, РЖД, ВЭБ, Минстрой РФ, Ростуризм, Правительство Москвы, киностудия им. Горького, холдинг САВООВ ФУДС, Альфа-Банк, ВТБ, Дом РФ, Очаково, Сегежа-Групп а также представительства зарубежных компаний: BMW, DeLonghi, L’Oreal, Pfizer, Ritter Sport, Xiaomi, Avon, Schneider Group и др.\n",
    "Проектный офис ФЭСН является крупнейшим университетским проектным центром не только по количеству и сложности проектов, и не только по количеству студентов-участников. Он уже создал и создает новые масштабные форматы проектной работы. Так, еще пять лет назад ФЭСН вовлек в проектную деятельность университеты пяти стран Европы и стал разрабатывать с ними полугодичные проекты для международных компаний на английском языке. Некоторые сложные проекты делались усилиями проектных групп нескольких стран; например, в проекте от генерального директора BMW Russia по «Разработке маркетинговой стратегии перехода компании BMW с бензиновых двигателей на электрические в России» бакалавры ФЭСН работали вместе с магистрами из Германии и Бельгии. А в одном из проектов участвовали команды из Германии, Бельгии, Италии, 4 проектные группы из Франции и 5 из Бразилии.'''\n",
    "test_cases.append([data8_title, data8_text])"
   ],
   "metadata": {
    "collapsed": false,
    "pycharm": {
     "name": "#%%\n"
    }
   }
  },
  {
   "cell_type": "code",
   "execution_count": 149,
   "outputs": [
    {
     "name": "stdout",
     "output_type": "stream",
     "text": [
      "Москва заняла первое место среди европейских городов в рейтинге инноваций, помогающих в борьбе с COVID-19\n",
      "Москва стала лидером в Европе в рейтинге инноваций, помогающих в борьбе с COVID-19\n",
      "Москва заняла первое место в Европе по инновациям в борьбе с COVID-19\n",
      "Москва заняла первое место в Европе по инновациям в борьбе с COVID-19\n",
      "Москва стала первой в Европе среди городов с инновациями по борьбе с COVID-19\n",
      "Москва заняла восьмое место среди европейских городов в рейтинге инноваций, помогающих в борьбе с COVID-19\n",
      "Бостон занял первое место среди европейских городов в рейтинге инноваций в медицине, а Андроново отказалось от участия в оценке\n",
      "Проектный офис ФЭСН РАНХиГС завершает 30 проектов. И начинает новые.\n"
     ]
    }
   ],
   "source": [
    "#test_result = AnalyzedArticle(article_id=0,article_title=test_cases[0].title, article_text=test_cases[0].text)\n",
    "for case in test_cases:\n",
    "    print(case[0])"
   ],
   "metadata": {
    "collapsed": false,
    "pycharm": {
     "name": "#%%\n"
    }
   }
  },
  {
   "cell_type": "code",
   "execution_count": 107,
   "outputs": [
    {
     "data": {
      "text/plain": "'for i in range(len(results)):\\n    dt = get_url_creation_date(results[i].similarity_data.uniq_results.similar_articles[0].url)\\n    print(results[i].similarity_data.uniq_results.similar_articles[0].url, dt)\\n'"
     },
     "execution_count": 107,
     "metadata": {},
     "output_type": "execute_result"
    }
   ],
   "source": [
    "import requests\n",
    "from bs4 import BeautifulSoup as bs\n",
    "import re\n",
    "\n",
    "def get_url_creation_date(url:str):\n",
    "    template = r'\\d{1,2}\\s\\D*\\s\\d{4}\\s\\d{2}\\:\\d{2}\\:\\d{2}\\s[GMT]{3}'\n",
    "    webarch_url = 'http://webcache.googleusercontent.com/search?q=cache:'+url+'&strip=1&vwsrc=0'\n",
    "    raw_text = requests.get(webarch_url).text\n",
    "    soup = bs(raw_text, 'lxml')\n",
    "    date_str = soup.find_all('span')[1].text\n",
    "    result = re.findall(template,date_str)[0]\n",
    "    return result\n",
    "\n",
    "'''for i in range(len(results)):\n",
    "    dt = get_url_creation_date(results[i].similarity_data.uniq_results.similar_articles[0].url)\n",
    "    print(results[i].similarity_data.uniq_results.similar_articles[0].url, dt)\n",
    "'''\n"
   ],
   "metadata": {
    "collapsed": false,
    "pycharm": {
     "name": "#%%\n"
    }
   }
  },
  {
   "cell_type": "code",
   "execution_count": 172,
   "outputs": [
    {
     "ename": "IndexError",
     "evalue": "list index out of range",
     "output_type": "error",
     "traceback": [
      "\u001B[0;31m---------------------------------------------------------------------------\u001B[0m",
      "\u001B[0;31mIndexError\u001B[0m                                Traceback (most recent call last)",
      "Input \u001B[0;32mIn [172]\u001B[0m, in \u001B[0;36m<cell line: 8>\u001B[0;34m()\u001B[0m\n\u001B[1;32m      5\u001B[0m         result\u001B[38;5;241m.\u001B[39mappend([article[\u001B[38;5;124m'\u001B[39m\u001B[38;5;124murl\u001B[39m\u001B[38;5;124m'\u001B[39m], get_url_creation_date(article[\u001B[38;5;124m'\u001B[39m\u001B[38;5;124murl\u001B[39m\u001B[38;5;124m'\u001B[39m])])\n\u001B[1;32m      6\u001B[0m     \u001B[38;5;28;01mreturn\u001B[39;00m result\n\u001B[0;32m----> 8\u001B[0m urls \u001B[38;5;241m=\u001B[39m \u001B[43mget_first_url\u001B[49m\u001B[43m(\u001B[49m\u001B[38;5;124;43m'\u001B[39;49m\u001B[38;5;124;43m62a3bcfce38a9\u001B[39;49m\u001B[38;5;124;43m'\u001B[39;49m\u001B[43m)\u001B[49m\n\u001B[1;32m      9\u001B[0m \u001B[38;5;28mprint\u001B[39m(urls)\n",
      "Input \u001B[0;32mIn [172]\u001B[0m, in \u001B[0;36mget_first_url\u001B[0;34m(uid)\u001B[0m\n\u001B[1;32m      3\u001B[0m result \u001B[38;5;241m=\u001B[39m \u001B[38;5;28mlist\u001B[39m()\n\u001B[1;32m      4\u001B[0m \u001B[38;5;28;01mfor\u001B[39;00m article \u001B[38;5;129;01min\u001B[39;00m articles:\n\u001B[0;32m----> 5\u001B[0m     result\u001B[38;5;241m.\u001B[39mappend([article[\u001B[38;5;124m'\u001B[39m\u001B[38;5;124murl\u001B[39m\u001B[38;5;124m'\u001B[39m], \u001B[43mget_url_creation_date\u001B[49m\u001B[43m(\u001B[49m\u001B[43marticle\u001B[49m\u001B[43m[\u001B[49m\u001B[38;5;124;43m'\u001B[39;49m\u001B[38;5;124;43murl\u001B[39;49m\u001B[38;5;124;43m'\u001B[39;49m\u001B[43m]\u001B[49m\u001B[43m)\u001B[49m])\n\u001B[1;32m      6\u001B[0m \u001B[38;5;28;01mreturn\u001B[39;00m result\n",
      "Input \u001B[0;32mIn [171]\u001B[0m, in \u001B[0;36mget_url_creation_date\u001B[0;34m(url)\u001B[0m\n\u001B[1;32m      8\u001B[0m raw_text \u001B[38;5;241m=\u001B[39m requests\u001B[38;5;241m.\u001B[39mget(webarch_url)\u001B[38;5;241m.\u001B[39mtext\n\u001B[1;32m      9\u001B[0m soup \u001B[38;5;241m=\u001B[39m bs(raw_text, \u001B[38;5;124m'\u001B[39m\u001B[38;5;124mlxml\u001B[39m\u001B[38;5;124m'\u001B[39m)\n\u001B[0;32m---> 10\u001B[0m date_str \u001B[38;5;241m=\u001B[39m \u001B[43msoup\u001B[49m\u001B[38;5;241;43m.\u001B[39;49m\u001B[43mfind_all\u001B[49m\u001B[43m(\u001B[49m\u001B[38;5;124;43m'\u001B[39;49m\u001B[38;5;124;43mspan\u001B[39;49m\u001B[38;5;124;43m'\u001B[39;49m\u001B[43m)\u001B[49m\u001B[43m[\u001B[49m\u001B[38;5;241;43m1\u001B[39;49m\u001B[43m]\u001B[49m\u001B[38;5;241m.\u001B[39mtext\n\u001B[1;32m     11\u001B[0m result \u001B[38;5;241m=\u001B[39m re\u001B[38;5;241m.\u001B[39mfindall(template,date_str)[\u001B[38;5;241m0\u001B[39m]\n\u001B[1;32m     12\u001B[0m \u001B[38;5;28;01mreturn\u001B[39;00m result\n",
      "\u001B[0;31mIndexError\u001B[0m: list index out of range"
     ]
    }
   ],
   "source": [
    "\n",
    "def get_first_url(uid):\n",
    "    articles = loads(get_antiplag_data_from_uid(uid)['result_json'])['urls']\n",
    "    result = list()\n",
    "    for article in articles:\n",
    "        result.append([article['url'], get_url_creation_date(article['url'])])\n",
    "    return result\n",
    "\n",
    "urls = get_first_url('62a3bcfce38a9')\n",
    "print(urls)"
   ],
   "metadata": {
    "collapsed": false,
    "pycharm": {
     "name": "#%%\n"
    }
   }
  },
  {
   "cell_type": "code",
   "execution_count": 179,
   "outputs": [
    {
     "data": {
      "text/plain": "[{'text_uid': '62a3c2880e77c'},\n {'text_uid': '62a3c288922f2'},\n {'text_uid': '62a3c2891c03b'},\n {'text_uid': '62a3c2899a324'},\n {'text_uid': '62a3c28a1de50'},\n {'text_uid': '62a3c28a9c103'},\n {'text_uid': '62a3c28b274bc'},\n {'text_uid': '62a3c28ba845a'}]"
     },
     "execution_count": 179,
     "metadata": {},
     "output_type": "execute_result"
    }
   ],
   "source": [
    "'''uids = list()\n",
    "for test_case in test_cases:\n",
    "    uids.append(get_antiplag_uid(test_case[1]))\n",
    "uids'''"
   ],
   "metadata": {
    "collapsed": false,
    "pycharm": {
     "name": "#%%\n"
    }
   }
  },
  {
   "cell_type": "code",
   "execution_count": 23,
   "outputs": [],
   "source": [
    "uids = [{'text_uid': '62a3c2880e77c'},\n",
    " {'text_uid': '62a3c288922f2'},\n",
    " {'text_uid': '62a3c2891c03b'},\n",
    " {'text_uid': '62a3c2899a324'},\n",
    " {'text_uid': '62a3c28a1de50'},\n",
    " {'text_uid': '62a3c28a9c103'},\n",
    " {'text_uid': '62a3c28b274bc'},\n",
    " {'text_uid': '62a3c28ba845a'}]"
   ],
   "metadata": {
    "collapsed": false,
    "pycharm": {
     "name": "#%%\n"
    }
   }
  },
  {
   "cell_type": "code",
   "execution_count": 24,
   "outputs": [],
   "source": [
    "def get_all_urls(uid):\n",
    "    result = list()\n",
    "    urls = loads(get_antiplag_data_from_uid(uid)['result_json'])['urls']\n",
    "    for url in urls:\n",
    "        try:\n",
    "            tmp_url = url['url']\n",
    "            article = Article(url=tmp_url)\n",
    "            article.download()\n",
    "            article.parse()\n",
    "            result.append([url['url'],article.publish_date])\n",
    "        except ArticleException:\n",
    "            pass\n",
    "    return result\n",
    "\n",
    "def compile_all_urls(uids):\n",
    "    result = dict()\n",
    "    for uid in uids:\n",
    "        result[uid['text_uid']] = get_all_urls(uid['text_uid'])\n",
    "\n",
    "    return result"
   ],
   "metadata": {
    "collapsed": false,
    "pycharm": {
     "name": "#%%\n"
    }
   }
  },
  {
   "cell_type": "code",
   "execution_count": 25,
   "outputs": [],
   "source": [
    "result = compile_all_urls(uids)"
   ],
   "metadata": {
    "collapsed": false,
    "pycharm": {
     "name": "#%%\n"
    }
   }
  },
  {
   "cell_type": "code",
   "execution_count": 26,
   "outputs": [
    {
     "data": {
      "text/plain": "{'62a3c2880e77c': [['https://innoagency.ru/ru/news/news/moskvazanyalatretiemestovreitinge',\n   None],\n  ['https://matveychev-oleg.livejournal.com/12400406.html', None],\n  ['https://ru.sputnik.kz/20211201/moscow-reyting-antikovidnye-innovatsii-18796711.html',\n   datetime.datetime(2021, 12, 1, 0, 0)],\n  ['http://mosday.ru/news/item.php?3505963', None],\n  ['https://rg.ru/2021/11/30/reg-cfo/moskva-priznana-pervoj-v-evrope-po-innovaciiam-obespechivaiushchim-ustojchivost-k-covid-19.html',\n   datetime.datetime(2021, 11, 30, 0, 0)],\n  ['https://ria.ru/20211130/reyting-1761553812.html',\n   datetime.datetime(2021, 11, 30, 0, 0)],\n  ['https://www.mperspektiva.ru/topics/moskva-stala-luchshim-gorodom-evropy-v-reytinge-innovatsiy-po-borbe-s-koronavirusom/',\n   datetime.datetime(2021, 1, 12, 9, 0)],\n  ['https://xn--80aesfpebagmfblc0a.xn--p1ai/news/20211201-0805.html',\n   datetime.datetime(2021, 12, 1, 8, 0)],\n  ['https://vz.ru/news/2021/11/30/1131809.html',\n   datetime.datetime(2021, 11, 30, 0, 0)],\n  ['https://lomonosovskiymedia.ru/news/moskva-priznana-pervoi-v-evrope-po-innovaciyam-obespecivayushhim-ustoicivost-k-covid-19',\n   None],\n  ['https://www.vedomosti.ru/gorod/ourcity/articles/moskva-stala-liderom-v-evrope-v-reitinge-innovatsii-v-borbe-s-covid-19',\n   None],\n  ['https://tvzvezda.ru/news/202111302324-X44s8.html',\n   datetime.datetime(2021, 11, 30, 23, 24, 1, tzinfo=tzoffset(None, 10800))],\n  ['https://news.rambler.ru/moscow_city/47678811-moskva-zanyala-pervoe-mesto-v-evrope-po-innovatsiyam-v-borbe-s-covid-19/',\n   None],\n  ['https://uzao.aif.ru/news/moskva-zanyala-pervoe-mesto-v-evrope-po-innovaciyam-v-borbe-s-covid-19',\n   None],\n  ['https://www.finanz.ru/novosti/aktsii/moskva-zanyala-pervoe-mesto-sredi-gorodov-evropy-v-reytinge-innovaciy-po-borbe-s-covid-19-1031013738',\n   None],\n  ['https://aif.ru/society/moskva_zanyala_pervoe_mesto_v_evrope_po_innovaciyam_v_borbe_s_covid-19',\n   datetime.datetime(2021, 11, 30, 22, 45)],\n  ['https://troparevo-gazeta.ru/moskva-stala-pervoj-v-evrope-v-rejtinge-innovacij-po-ustojchivosti-k-koronavirusu',\n   None],\n  ['https://niioz.ru/covid-19/news/moskva-lider-v-reytinge-innovatsiy-v-borbe-s-covid-19-/',\n   None],\n  ['https://dikb6.ru/2021/12/01/moscow-1/',\n   datetime.datetime(2021, 12, 1, 0, 0)],\n  ['https://www.metronews.ru/novosti/moscow/reviews/moskva-zanyala-pervoe-mesto-v-evrope-po-innovaciyam-v-borbe-s-covid-19-1864205/',\n   datetime.datetime(2021, 12, 1, 9, 35, tzinfo=tzoffset(None, 10800))],\n  ['https://publico.ru/news/vperedi-evropy-vsej/', None],\n  ['https://vk.com/wall-66768541_9902', None],\n  ['https://vnukovo-gazeta.ru/moskva-zanjala-pervoe-mesto-v-evrope-po-innovacijam-v-borbe-s-covid-19-290121',\n   None],\n  ['https://prado-club.su/forum/index.php?topic=209947.10580', None],\n  ['https://gazeta-marfino.ru/moskva-priznana-pervoj-v-evrope-po-innovatsiyam-obespechivayushhim-ustojchivost-k-covid-19/',\n   datetime.datetime(2021, 12, 1, 9, 40, 9, tzinfo=tzoffset(None, 10800))],\n  ['https://solntsevo-gazeta.ru/moskva-priznana-pervoj-v-evrope-po-innovacijam-obespechivajuschim-ustojchivost-k-covid-19',\n   None],\n  ['https://ura.news/news/1052519780',\n   datetime.datetime(2021, 12, 1, 1, 27, tzinfo=tzoffset(None, 18000))],\n  ['https://www.rbc.ru/society/01/12/2021/61a6971a9a79472b703251bd',\n   datetime.datetime(2021, 12, 1, 1, 4, 41, tzinfo=tzoffset(None, 10800))],\n  ['https://www.gazeta.ru/social/2021/12/07/14287831.shtml',\n   datetime.datetime(2021, 12, 7, 0, 0)],\n  ['https://deguninskievesti.ru/moskva-priznana-pervoj-v-evrope-po-innovatsiyam-obespechivayushhim-ustojchivost-k-covid-19/',\n   datetime.datetime(2021, 12, 1, 10, 20, 29, tzinfo=tzoffset(None, 10800))],\n  ['https://www.mos.ru/news/item/99623073/',\n   datetime.datetime(2021, 11, 30, 21, 37, tzinfo=tzoffset(None, 10800))],\n  ['https://mosgorzdrav.ru/ru-RU/news/default/card/6194.html', None],\n  ['https://sputnik-georgia.ru/20211201/moskva--lider-sredi-gorodov-evropy-v-reytinge-innovatsiy-pomogayuschikh-v-borbe-s-covid-19-262509363.html',\n   datetime.datetime(2021, 12, 1, 0, 0)],\n  ['https://www.ng.ru/news/726364.html', None],\n  ['https://sputnik-abkhazia.ru/20211201/moskva-stala-pervoy-v-evrope-i-tretey-v-mire-v-reytinge-antikovidnykh-innovatsiy-1036547477.html',\n   datetime.datetime(2021, 12, 1, 0, 0)],\n  ['https://uz.sputniknews.ru/20211201/moskva--pervaya-v-evrope-po-innovatsiyam-protiv-covid-19-21598364.html',\n   datetime.datetime(2021, 12, 1, 0, 0)],\n  ['https://tass.ru/obschestvo/13073369', None],\n  ['https://ru.armeniasputnik.am/20211201/moskva-na-pervom-meste-sredi-evropeyskikh-gorodov-v-reytinge-innovatsiy-po-borbe-s-covid-19-35912544.html',\n   datetime.datetime(2021, 12, 1, 0, 0)],\n  ['https://ict.moscow/research/reiting-innovatsii-pomogaiushchikh-v-formirovanii-ustoichivosti-covid-19/',\n   None],\n  ['http://chad.polpred.ru/news_old?ns=1&fulltext=on&word=clr&period_count=1&sortby=agency&page=588',\n   None],\n  ['https://vk.com/wall-111829840_43964', None],\n  ['https://aif.ru/moscow/vperedi_vsey_evropy_moskva_lider_innovacionnyh_metodov_borby_s_covid-19',\n   datetime.datetime(2021, 12, 1, 11, 51)],\n  ['https://governors.ru/news/Moskva-zanyala-pervoe-mesto-sredi-evropeyskikh-gorodov-v-reytinge-innovacziy-pomogayushchikh-v/377311',\n   None],\n  ['https://premium-clinic.ru/iskysstvennyi-intellekt-pomog-rentgenologam-obrabotat-bolee-dvyh-millionov-issledovanii/',\n   datetime.datetime(2021, 6, 8, 10, 41, 51, tzinfo=tzoffset(None, 10800))],\n  ['https://az.sputniknews.ru/20211201/moskva-operedila-strany-evropy-v-reytinge-innovatsiy-pomogayuschikh-borotsya-s-covid-19-436836560.html',\n   datetime.datetime(2021, 12, 1, 0, 0)],\n  ['https://sputnik.by/20211201/moskva-stala-pervoy-sredi-evropeyskikh-gorodov-reytinge-innovatsiy-v-borbe-s-covid-19-1058374294.html',\n   datetime.datetime(2021, 12, 1, 0, 0)],\n  ['https://www.mos.ru/news/item/96369073/',\n   datetime.datetime(2021, 9, 22, 7, 2, 1, tzinfo=tzoffset(None, 10800))],\n  ['https://www.m24.ru/news/medicina/22092021/183966', None]],\n '62a3c288922f2': [['https://www.vedomosti.ru/gorod/ourcity/articles/moskva-stala-liderom-v-evrope-v-reitinge-innovatsii-v-borbe-s-covid-19',\n   None],\n  ['http://mosday.ru/news/item.php?3507439', None],\n  ['http://mosday.ru/news/item.php?3505959&view=full', None],\n  ['http://mosday.ru/news/item.php?3508147&view=full', None],\n  ['http://mosday.ru/news/item.php?3505965', None],\n  ['https://www.mperspektiva.ru/topics/moskva-stala-luchshim-gorodom-evropy-v-reytinge-innovatsiy-po-borbe-s-koronavirusom/',\n   datetime.datetime(2021, 1, 12, 9, 0)],\n  ['https://business.digitalocean.ru/n/moscow-the-1st', None],\n  ['https://ru.sputnik.kz/20211201/moscow-reyting-antikovidnye-innovatsii-18796711.html',\n   datetime.datetime(2021, 12, 1, 0, 0)],\n  ['https://ria.ru/20211130/reyting-1761553812.html',\n   datetime.datetime(2021, 11, 30, 0, 0)],\n  ['https://publico.ru/news/vperedi-evropy-vsej/', None],\n  ['https://upravavernadskogo.ru/moskva-zanjala-pervoe-mesto-v-evrope-po-innovacijam-v-borbe-s-covid-19',\n   None],\n  ['https://uzao.aif.ru/news/moskva-zanyala-pervoe-mesto-v-evrope-po-innovaciyam-v-borbe-s-covid-19',\n   None],\n  ['https://news.rambler.ru/moscow_city/47678811-moskva-zanyala-pervoe-mesto-v-evrope-po-innovatsiyam-v-borbe-s-covid-19/',\n   None],\n  ['https://www.rbc.ru/society/01/12/2021/61a6971a9a79472b703251bd',\n   datetime.datetime(2021, 12, 1, 1, 4, 41, tzinfo=tzoffset(None, 10800))],\n  ['https://vz.ru/news/2021/11/30/1131809.html',\n   datetime.datetime(2021, 11, 30, 0, 0)],\n  ['https://vk.com/wall-132045839_633', None],\n  ['https://msk.dixinews.ru/news/obshchestvo/moskva-stala-pervoy-v-evrope-sredi-gorodov-s-innovatsiyami-po-borbe-s-covid-19/',\n   None],\n  ['https://m.vk.com/video-152784696_456239023?list=18cececdb62d275f59&from=wall-152784696_401',\n   None],\n  ['https://www.mos.ru/news/item/99623073/',\n   datetime.datetime(2021, 11, 30, 21, 37, tzinfo=tzoffset(None, 10800))],\n  ['https://ura.news/news/1052519780',\n   datetime.datetime(2021, 12, 1, 1, 27, tzinfo=tzoffset(None, 18000))],\n  ['https://sputnik-abkhazia.ru/20211201/moskva-stala-pervoy-v-evrope-i-tretey-v-mire-v-reytinge-antikovidnykh-innovatsiy-1036547477.html',\n   datetime.datetime(2021, 12, 1, 0, 0)],\n  ['https://www.mk.ru/moscow/2021/12/01/moskva-lider-reytinga-innovaciy-protiv-covid19.html',\n   datetime.datetime(2021, 12, 1, 0, 0)],\n  ['https://www.ridus.ru/news/367622', None],\n  ['https://ru.armeniasputnik.am/20211201/moskva-na-pervom-meste-sredi-evropeyskikh-gorodov-v-reytinge-innovatsiy-po-borbe-s-covid-19-35912544.html',\n   datetime.datetime(2021, 12, 1, 0, 0)],\n  ['https://gp-23.ru/novosti/москва-заняла-первое-место-среди-евро/', None],\n  ['https://www.5-tv.ru/news/367794/moskva-stala-pervoj-vevrope-itretej-vmire-vrejtinge-antikovidnyh-innovacij/',\n   None],\n  ['https://www.youtube.com/watch?v=4tJMqQMlUUk', None],\n  ['https://tass.ru/obschestvo/13073369', None],\n  ['https://sputnik.by/20211201/moskva-stala-pervoy-sredi-evropeyskikh-gorodov-reytinge-innovatsiy-v-borbe-s-covid-19-1058374294.html',\n   datetime.datetime(2021, 12, 1, 0, 0)],\n  ['https://az.sputniknews.ru/20211201/moskva-operedila-strany-evropy-v-reytinge-innovatsiy-pomogayuschikh-borotsya-s-covid-19-436836560.html',\n   datetime.datetime(2021, 12, 1, 0, 0)],\n  ['https://ict.moscow/research/reiting-innovatsii-pomogaiushchikh-v-formirovanii-ustoichivosti-covid-19/',\n   None]],\n '62a3c2891c03b': [['https://news.rambler.ru/moscow_city/47678811-moskva-zanyala-pervoe-mesto-v-evrope-po-innovatsiyam-v-borbe-s-covid-19/',\n   None],\n  ['http://mosday.ru/news/item.php?3508147&view=full', None],\n  ['http://mosday.ru/news/item.php?3506766', None],\n  ['http://mosday.ru/news/item.php?3505936&view=full', None],\n  ['https://www.rosbalt.ru/moscow/2021/11/30/1933461.html',\n   datetime.datetime(2021, 11, 30, 0, 0)],\n  ['https://gazetafilidavidkovo.ru/moskva-stala-pervoj-v-evrope-v-rejtinge-innovacij-po-ustojchivosti-k-koronavirusu-290124',\n   None],\n  ['https://ria.ru/20211130/reyting-1761553812.html',\n   datetime.datetime(2021, 11, 30, 0, 0)],\n  ['https://rg.ru/2021/11/30/reg-cfo/moskva-priznana-pervoj-v-evrope-po-innovaciiam-obespechivaiushchim-ustojchivost-k-covid-19.html',\n   datetime.datetime(2021, 11, 30, 0, 0)],\n  ['https://www.vedomosti.ru/gorod/ourcity/articles/moskva-stala-liderom-v-evrope-v-reitinge-innovatsii-v-borbe-s-covid-19',\n   None],\n  ['https://www.m24.ru/news/gorod/30112021/194371', None],\n  ['https://tkb3.ru/москва-заняла-первое-место-среди-европейских-городов-в-рейтинге-инноваций,-помогающих-в-борьбе-с-covid-19.html',\n   None],\n  ['https://tsargrad.tv/news/moskva-oboshla-evropejskie-stolicy-v-rejtinge-innovacij-po-ustojchivosti-k-covid-19_455178',\n   datetime.datetime(2021, 11, 30, 22, 8, tzinfo=tzoffset(None, 10800))],\n  ['https://moslenta.ru/news/moskva-stala-liderom-v-reitinge-pomogayushikh-v-borbe-s-covid-19-innovacii-30-11-2021.htm',\n   None],\n  ['https://www.rbc.ru/society/01/12/2021/61a6971a9a79472b703251bd',\n   datetime.datetime(2021, 12, 1, 1, 4, 41, tzinfo=tzoffset(None, 10800))],\n  ['https://kuntsevo-gazeta.ru/moskva-stala-pervoj-v-evrope-i-tretej-v-mire-v-rejtinge-antikovidnyx-innovacij',\n   None],\n  ['https://ramenki-gazeta.ru/moskva-oboshla-evropejskie-stolicy-v-rejtinge-innovacij-po-ustojchivosti-k-covid-19-290123',\n   None],\n  ['https://upravadorogomilovo.ru/moskva-priznana-pervoj-v-evrope-po-innovacijam-obespechivajuschim-ustojchivost-k-covid-19-290114',\n   None],\n  ['https://nashe-severnoetushino.ru/moskva-oboshla-evropejskie-stoliczy-v-rejtinge-innovaczij-po-ustojchivosti-k-covid-19/',\n   datetime.datetime(2021, 12, 1, 10, 14, 47, tzinfo=tzoffset(None, 10800))],\n  ['https://www.kommersant.ru/doc/5100641',\n   datetime.datetime(2021, 11, 30, 22, 12, 43, tzinfo=tzoffset(None, 10800))],\n  ['https://smotrim.ru/article/2646607', None],\n  ['https://basmannievesti.moscow/2021/12/01/moskva-oboshla-evropejskie-stoliczy-v-rejtinge-innovaczij-po-ustojchivosti-k-covid-19/',\n   datetime.datetime(2021, 12, 1, 0, 0)],\n  ['https://gazetakoptevo.ru/moskva-oboshla-evropejskie-stolitsy-v-rejtinge-innovatsij-po-ustojchivosti-k-covid-19/',\n   datetime.datetime(2021, 12, 1, 10, 52, 20, tzinfo=tzoffset(None, 10800))],\n  ['https://ict.moscow/projects/ai/research/reiting-innovatsii-pomogaiushchikh-v-formirovanii-ustoichivosti-covid-19/',\n   None],\n  ['https://www.mos.ru/news/item/96369073/',\n   datetime.datetime(2021, 9, 22, 7, 2, 1, tzinfo=tzoffset(None, 10800))],\n  ['https://www.mos.ru/news/item/99623073/',\n   datetime.datetime(2021, 11, 30, 21, 37, tzinfo=tzoffset(None, 10800))]],\n '62a3c2899a324': [['https://vk.com/wall-58561110_16851', None],\n  ['https://www.kommersant.ru/doc/5100641',\n   datetime.datetime(2021, 11, 30, 22, 12, 43, tzinfo=tzoffset(None, 10800))],\n  ['https://news.mail.ru/economics/49018447/',\n   datetime.datetime(2021, 11, 30, 22, 22, 55, tzinfo=tzoffset(None, 10800))],\n  ['http://mosday.ru/news/item.php?3505923&view=full', None],\n  ['http://mosday.ru/news/item.php?3505959&view=full', None],\n  ['https://www.mskagency.ru/materials/3170673', None],\n  ['https://ria.ru/20211130/reyting-1761553812.html',\n   datetime.datetime(2021, 11, 30, 0, 0)],\n  ['https://ok.ru/silavyedi/topic/154057043949622', None],\n  ['https://vk.com/wall-193079545_4076', None],\n  ['https://forum.ners.ru/viewtopic.php?t=67921&start=17090', None],\n  ['https://news.rambler.ru/moscow_city/47678811-moskva-zanyala-pervoe-mesto-v-evrope-po-innovatsiyam-v-borbe-s-covid-19/',\n   None],\n  ['https://upravavernadskogo.ru/moskva-zanjala-pervoe-mesto-v-evrope-po-innovacijam-v-borbe-s-covid-19',\n   None],\n  ['https://dikb6.ru/2021/12/01/moscow-1/',\n   datetime.datetime(2021, 12, 1, 0, 0)],\n  ['https://regnum.ru/news/3429488.html', None],\n  ['https://uv-kurier.ru/2021/12/03/moskva-zanyala-1-e-mesto-v-evropejskom-rejtinge-po-razrabotkam-protiv-kovida/',\n   datetime.datetime(2021, 12, 3, 0, 0)],\n  ['https://ren.tv/news/v-rossii/910011-moskva-stala-pervoi-v-evrope-v-reitinge-antikovidnykh-innovatsii',\n   datetime.datetime(2021, 11, 30, 22, 24, 5, tzinfo=tzoffset(None, 10800))],\n  ['https://subscribe.ru/archive/media.kommersant.kmrsntnews/202112/01171239.html/',\n   None],\n  ['https://www.mos.ru/news/item/99623073/',\n   datetime.datetime(2021, 11, 30, 21, 37, tzinfo=tzoffset(None, 10800))],\n  ['https://vrachirf.ru/concilium/99664.html', None],\n  ['https://tgstat.com/ru/channel/@izbrannoevsem/23381', None],\n  ['https://72.ru/text/health/2021/12/01/70287620/comments/',\n   datetime.datetime(2021, 12, 1, 0, 0)],\n  ['https://www.kommersant.ru/doc/5090994',\n   datetime.datetime(2021, 11, 26, 3, 59, 8, tzinfo=tzoffset(None, 10800))],\n  ['https://saratov.zoon.ru/public_services/obschestvennaya_organizatsiya_ofitsery_rossii/social/',\n   None],\n  ['http://chad.polpred.ru/news_old?ns=1&fulltext=on&word=clr&period_count=1&sortby=agency&page=588',\n   None],\n  ['https://tass.ru/obschestvo/13073369', None]],\n '62a3c28a1de50': [['https://msk.dixinews.ru/news/obshchestvo/moskva-stala-pervoy-v-evrope-sredi-gorodov-s-innovatsiyami-po-borbe-s-covid-19/',\n   None],\n  ['http://mosday.ru/news/item.php?3505959&view=full', None],\n  ['http://mosday.ru/news/item.php?3505874', None],\n  ['https://rg.ru/2021/11/30/reg-cfo/moskva-priznana-pervoj-v-evrope-po-innovaciiam-obespechivaiushchim-ustojchivost-k-covid-19.html',\n   datetime.datetime(2021, 11, 30, 0, 0)],\n  ['https://www.vedomosti.ru/gorod/ourcity/articles/moskva-stala-liderom-v-evrope-v-reitinge-innovatsii-v-borbe-s-covid-19',\n   None],\n  ['https://www.mperspektiva.ru/topics/moskva-stala-luchshim-gorodom-evropy-v-reytinge-innovatsiy-po-borbe-s-koronavirusom/',\n   datetime.datetime(2021, 1, 12, 9, 0)],\n  ['https://gazeta-savelki.ru/news/stopcovid/17680/', None],\n  ['https://vk.com/wall-139775488_397', None],\n  ['https://life.ru/p/1453755',\n   datetime.datetime(2021, 12, 1, 0, 18, 7, tzinfo=tzoffset(None, 10800))],\n  ['https://ria.ru/20211130/reyting-1761553812.html',\n   datetime.datetime(2021, 11, 30, 0, 0)],\n  ['https://news.rambler.ru/moscow_city/47678811-moskva-zanyala-pervoe-mesto-v-evrope-po-innovatsiyam-v-borbe-s-covid-19/',\n   None],\n  ['https://www.kommersant.ru/doc/5100641',\n   datetime.datetime(2021, 11, 30, 22, 12, 43, tzinfo=tzoffset(None, 10800))],\n  ['https://www.5-tv.ru/news/367794/moskva-stala-pervoj-vevrope-itretej-vmire-vrejtinge-antikovidnyh-innovacij/',\n   None],\n  ['https://www.rbc.ru/society/01/12/2021/61a6971a9a79472b703251bd',\n   datetime.datetime(2021, 12, 1, 1, 4, 41, tzinfo=tzoffset(None, 10800))],\n  ['https://vk.com/wall-43232739_9948', None],\n  ['https://publico.ru/news/vperedi-evropy-vsej/', None],\n  ['https://www.m24.ru/videos/gorod/30112021/319056', None],\n  ['https://dailystorm.ru/news/moskva-stala-pervoy-sredi-evropeyskih-gorodov-v-reytinge-innovaciy-po-borbe-s-covid-19',\n   datetime.datetime(2021, 11, 30, 22, 15, 17, tzinfo=tzoffset(None, 3600))],\n  ['https://www.mos.ru/news/item/99623073/',\n   datetime.datetime(2021, 11, 30, 21, 37, tzinfo=tzoffset(None, 10800))],\n  ['https://lt.sputniknews.ru/20211201/moskva-stala-liderom-v-evrope-v-reytinge-innovatsiy-po-borbe-s-covid-19-20230958.html',\n   datetime.datetime(2021, 12, 1, 0, 0)],\n  ['https://ru.armeniasputnik.am/20211201/moskva-na-pervom-meste-sredi-evropeyskikh-gorodov-v-reytinge-innovatsiy-po-borbe-s-covid-19-35912544.html',\n   datetime.datetime(2021, 12, 1, 0, 0)],\n  ['https://sputnik-ossetia.ru/20211201/moskva-stala-tretey-v-mirovom-reytinge-antikovidnykh-innovatsiy-14838557.html',\n   datetime.datetime(2021, 12, 1, 0, 0)],\n  ['https://mosgorzdrav.ru/ru-RU/news/default/card/6194.html', None],\n  ['https://sputnik.by/20211201/moskva-stala-pervoy-sredi-evropeyskikh-gorodov-reytinge-innovatsiy-v-borbe-s-covid-19-1058374294.html',\n   datetime.datetime(2021, 12, 1, 0, 0)],\n  ['https://ict.moscow/research/reiting-innovatsii-pomogaiushchikh-v-formirovanii-ustoichivosti-covid-19/',\n   None]],\n '62a3c28a9c103': [['https://matveychev-oleg.livejournal.com/12400406.html',\n   None],\n  ['https://news.myseldon.com/ru/news/index/263070154',\n   datetime.datetime(2021, 12, 1, 6, 50, 22, tzinfo=tzutc())],\n  ['https://icmos.ru/news/moskva-priznana-pervoi-v-evrope-po-innovaciyam-obespecivayushhim-ustoicivost-k-covid-19',\n   None],\n  ['https://ru.sputnik.kz/20211201/moscow-reyting-antikovidnye-innovatsii-18796711.html',\n   datetime.datetime(2021, 12, 1, 0, 0)],\n  ['https://vk.com/@mos-preview-358362347-1934392265', None],\n  ['https://www.rosbalt.ru/moscow/2021/11/30/1933461.html',\n   datetime.datetime(2021, 11, 30, 0, 0)],\n  ['https://vz.ru/news/2021/11/30/1131809.html',\n   datetime.datetime(2021, 11, 30, 0, 0)],\n  ['https://ria.ru/20211130/reyting-1761553812.html',\n   datetime.datetime(2021, 11, 30, 0, 0)],\n  ['https://rg.ru/2021/11/30/reg-cfo/moskva-priznana-pervoj-v-evrope-po-innovaciiam-obespechivaiushchim-ustojchivost-k-covid-19.html',\n   datetime.datetime(2021, 11, 30, 0, 0)],\n  ['https://www.mperspektiva.ru/topics/moskva-stala-luchshim-gorodom-evropy-v-reytinge-innovatsiy-po-borbe-s-koronavirusom/',\n   datetime.datetime(2021, 1, 12, 9, 0)],\n  ['https://general-ivanov1.livejournal.com/975537.html', None],\n  ['https://life.ru/p/1453755',\n   datetime.datetime(2021, 12, 1, 0, 18, 7, tzinfo=tzoffset(None, 10800))],\n  ['https://www.vedomosti.ru/gorod/ourcity/articles/moskva-stala-liderom-v-evrope-v-reitinge-innovatsii-v-borbe-s-covid-19',\n   None],\n  ['https://tvzvezda.ru/news/202111302324-X44s8.html',\n   datetime.datetime(2021, 11, 30, 23, 24, 1, tzinfo=tzoffset(None, 10800))],\n  ['https://aif.ru/society/moskva_zanyala_pervoe_mesto_v_evrope_po_innovaciyam_v_borbe_s_covid-19',\n   datetime.datetime(2021, 11, 30, 22, 45)],\n  ['https://news.rambler.ru/moscow_city/47678811-moskva-zanyala-pervoe-mesto-v-evrope-po-innovatsiyam-v-borbe-s-covid-19/',\n   None],\n  ['https://www.m24.ru/news/gorod/30112021/194371', None],\n  ['https://www.metronews.ru/novosti/moscow/reviews/moskva-zanyala-pervoe-mesto-v-evrope-po-innovaciyam-v-borbe-s-covid-19-1864205/',\n   datetime.datetime(2021, 12, 1, 9, 35, tzinfo=tzoffset(None, 10800))],\n  ['https://www.finanz.ru/novosti/aktsii/moskva-zanyala-pervoe-mesto-sredi-gorodov-evropy-v-reytinge-innovaciy-po-borbe-s-covid-19-1031013738',\n   None],\n  ['https://www.rbc.ru/society/01/12/2021/61a6971a9a79472b703251bd',\n   datetime.datetime(2021, 12, 1, 1, 4, 41, tzinfo=tzoffset(None, 10800))],\n  ['https://publico.ru/news/vperedi-evropy-vsej/', None],\n  ['https://tass.ru/obschestvo/13073369', None],\n  ['https://sputnik-georgia.ru/20211201/moskva--lider-sredi-gorodov-evropy-v-reytinge-innovatsiy-pomogayuschikh-v-borbe-s-covid-19-262509363.html',\n   datetime.datetime(2021, 12, 1, 0, 0)],\n  ['https://govoritmoskva.ru/news/296711/', None],\n  ['https://moskva.bezformata.com/listnews/pervoy-v-evrope-v-reytinge-innovatciy/100117778/',\n   None],\n  ['https://chistopol.ru/lenta/moskva-stala-pervoj-sredi-evropejskih-gorodov-v-rejtinge-innovatsij-po-borbe-s-covid-19/',\n   None],\n  ['https://www.mos.ru/news/item/99623073/',\n   datetime.datetime(2021, 11, 30, 21, 37, tzinfo=tzoffset(None, 10800))],\n  ['https://ru.armeniasputnik.am/20211201/moskva-na-pervom-meste-sredi-evropeyskikh-gorodov-v-reytinge-innovatsiy-po-borbe-s-covid-19-35912544.html',\n   datetime.datetime(2021, 12, 1, 0, 0)],\n  ['https://ict.moscow/research/reiting-innovatsii-pomogaiushchikh-v-formirovanii-ustoichivosti-covid-19/',\n   None],\n  ['https://dailystorm.ru/news/moskva-stala-pervoy-sredi-evropeyskih-gorodov-v-reytinge-innovaciy-po-borbe-s-covid-19',\n   datetime.datetime(2021, 11, 30, 22, 15, 17, tzinfo=tzoffset(None, 3600))],\n  ['https://sputnik.by/20211201/moskva-stala-pervoy-sredi-evropeyskikh-gorodov-reytinge-innovatsiy-v-borbe-s-covid-19-1058374294.html',\n   datetime.datetime(2021, 12, 1, 0, 0)],\n  ['https://az.sputniknews.ru/20211201/moskva-operedila-strany-evropy-v-reytinge-innovatsiy-pomogayuschikh-borotsya-s-covid-19-436836560.html',\n   datetime.datetime(2021, 12, 1, 0, 0)],\n  ['https://lv.sputniknews.ru/20211201/moskva-stala-pervoy-sredi-gorodov-evropy-v-reytinge-antikovidnykh-innovatsiy-19430273.html',\n   datetime.datetime(2021, 12, 1, 0, 0)],\n  ['https://mephi.ru/content/public/uploads/files/news/p_prof_kontur_10_11_2021.pdf',\n   None]],\n '62a3c28b274bc': [['https://www.rosbalt.ru/moscow/2021/11/30/1933461.html',\n   datetime.datetime(2021, 11, 30, 0, 0)],\n  ['https://sputnik-georgia.ru/20211201/moskva--lider-sredi-gorodov-evropy-v-reytinge-innovatsiy-pomogayuschikh-v-borbe-s-covid-19-262509363.html',\n   datetime.datetime(2021, 12, 1, 0, 0)],\n  ['https://www.timeout.ru/msk/feature/moskva-zanyala-trete-mesto-v-rejtinge-innovaczij-po-borbe-s-koronavirusom',\n   None],\n  ['https://news.rambler.ru/moscow_city/47678811-moskva-zanyala-pervoe-mesto-v-evrope-po-innovatsiyam-v-borbe-s-covid-19/',\n   None],\n  ['https://gazeta-otradnoe.ru/moskva-priznana-pervoj-v-evrope-po-innovatsiyam-obespechivayushhim-ustojchivost-k-covid-19/',\n   datetime.datetime(2021, 12, 1, 9, 38, tzinfo=tzoffset(None, 10800))],\n  ['https://ria.ru/20211130/reyting-1761553812.html',\n   datetime.datetime(2021, 11, 30, 0, 0)],\n  ['https://www.vedomosti.ru/gorod/ourcity/articles/moskva-stala-liderom-v-evrope-v-reitinge-innovatsii-v-borbe-s-covid-19',\n   None],\n  ['https://pikabu.ru/story/moskva_zanyala_1_mesto_sredi_evropeyskikh_gorodov_v_reytinge_po_innovatsionnoy_ustoychivosti_k_koronavirusu_8658786',\n   None],\n  ['https://www.mos.ru/news/item/99623073/',\n   datetime.datetime(2021, 11, 30, 21, 37, tzinfo=tzoffset(None, 10800))],\n  ['https://tass.ru/obschestvo/13073369', None],\n  ['https://koronavirus.center/news/moskva-stala-pervoy-sredi-evropeyskih/1310803',\n   datetime.datetime(2021, 11, 30, 22, 40, 21, tzinfo=tzoffset(None, 10800))],\n  ['https://www.5-tv.ru/news/367794/moskva-stala-pervoj-vevrope-itretej-vmire-vrejtinge-antikovidnyh-innovacij/',\n   None],\n  ['https://sputnik-abkhazia.ru/20211201/moskva-stala-pervoy-v-evrope-i-tretey-v-mire-v-reytinge-antikovidnykh-innovatsiy-1036547477.html',\n   datetime.datetime(2021, 12, 1, 0, 0)]],\n '62a3c28ba845a': [['https://fesn.ranepa.ru/3291', None],\n  ['https://www.Ranepa.ru/news/proektnyy-ofis-fesn-rankhigs-zaymetsya-razvitiem-novykh-napravleniy-deyatelnosti/',\n   None]]}"
     },
     "execution_count": 26,
     "metadata": {},
     "output_type": "execute_result"
    }
   ],
   "source": [
    "\n",
    "result"
   ],
   "metadata": {
    "collapsed": false,
    "pycharm": {
     "name": "#%%\n"
    }
   }
  },
  {
   "cell_type": "code",
   "execution_count": 52,
   "outputs": [
    {
     "name": "stdout",
     "output_type": "stream",
     "text": [
      "{'62a3c2880e77c': [['https://innoagency.ru/ru/news/news/moskvazanyalatretiemestovreitinge', {}], ['https://matveychev-oleg.livejournal.com/12400406.html', {}], ['https://ru.sputnik.kz/20211201/moscow-reyting-antikovidnye-innovatsii-18796711.html', datetime.datetime(2021, 12, 1, 0, 0)], ['http://mosday.ru/news/item.php?3505963', {}], ['https://rg.ru/2021/11/30/reg-cfo/moskva-priznana-pervoj-v-evrope-po-innovaciiam-obespechivaiushchim-ustojchivost-k-covid-19.html', datetime.datetime(2021, 11, 30, 0, 0)], ['https://ria.ru/20211130/reyting-1761553812.html', datetime.datetime(2021, 11, 30, 0, 0)], ['https://www.mperspektiva.ru/topics/moskva-stala-luchshim-gorodom-evropy-v-reytinge-innovatsiy-po-borbe-s-koronavirusom/', datetime.datetime(2021, 1, 12, 9, 0)], ['https://xn--80aesfpebagmfblc0a.xn--p1ai/news/20211201-0805.html', datetime.datetime(2021, 12, 1, 8, 0)], ['https://vz.ru/news/2021/11/30/1131809.html', datetime.datetime(2021, 11, 30, 0, 0)], ['https://lomonosovskiymedia.ru/news/moskva-priznana-pervoi-v-evrope-po-innovaciyam-obespecivayushhim-ustoicivost-k-covid-19', {}], ['https://www.vedomosti.ru/gorod/ourcity/articles/moskva-stala-liderom-v-evrope-v-reitinge-innovatsii-v-borbe-s-covid-19', {}], ['https://tvzvezda.ru/news/202111302324-X44s8.html', datetime.datetime(2021, 11, 30, 23, 24, 1, tzinfo=tzoffset(None, 10800))], ['https://news.rambler.ru/moscow_city/47678811-moskva-zanyala-pervoe-mesto-v-evrope-po-innovatsiyam-v-borbe-s-covid-19/', {}], ['https://uzao.aif.ru/news/moskva-zanyala-pervoe-mesto-v-evrope-po-innovaciyam-v-borbe-s-covid-19', {}], ['https://www.finanz.ru/novosti/aktsii/moskva-zanyala-pervoe-mesto-sredi-gorodov-evropy-v-reytinge-innovaciy-po-borbe-s-covid-19-1031013738', {}], ['https://aif.ru/society/moskva_zanyala_pervoe_mesto_v_evrope_po_innovaciyam_v_borbe_s_covid-19', datetime.datetime(2021, 11, 30, 22, 45)], ['https://troparevo-gazeta.ru/moskva-stala-pervoj-v-evrope-v-rejtinge-innovacij-po-ustojchivosti-k-koronavirusu', {}], ['https://niioz.ru/covid-19/news/moskva-lider-v-reytinge-innovatsiy-v-borbe-s-covid-19-/', {}], ['https://dikb6.ru/2021/12/01/moscow-1/', datetime.datetime(2021, 12, 1, 0, 0)], ['https://www.metronews.ru/novosti/moscow/reviews/moskva-zanyala-pervoe-mesto-v-evrope-po-innovaciyam-v-borbe-s-covid-19-1864205/', datetime.datetime(2021, 12, 1, 9, 35, tzinfo=tzoffset(None, 10800))], ['https://publico.ru/news/vperedi-evropy-vsej/', {}], ['https://vk.com/wall-66768541_9902', {}], ['https://vnukovo-gazeta.ru/moskva-zanjala-pervoe-mesto-v-evrope-po-innovacijam-v-borbe-s-covid-19-290121', {}], ['https://prado-club.su/forum/index.php?topic=209947.10580', {}], ['https://gazeta-marfino.ru/moskva-priznana-pervoj-v-evrope-po-innovatsiyam-obespechivayushhim-ustojchivost-k-covid-19/', datetime.datetime(2021, 12, 1, 9, 40, 9, tzinfo=tzoffset(None, 10800))], ['https://solntsevo-gazeta.ru/moskva-priznana-pervoj-v-evrope-po-innovacijam-obespechivajuschim-ustojchivost-k-covid-19', {}], ['https://ura.news/news/1052519780', datetime.datetime(2021, 12, 1, 1, 27, tzinfo=tzoffset(None, 18000))], ['https://www.rbc.ru/society/01/12/2021/61a6971a9a79472b703251bd', datetime.datetime(2021, 12, 1, 1, 4, 41, tzinfo=tzoffset(None, 10800))], ['https://www.gazeta.ru/social/2021/12/07/14287831.shtml', datetime.datetime(2021, 12, 7, 0, 0)], ['https://deguninskievesti.ru/moskva-priznana-pervoj-v-evrope-po-innovatsiyam-obespechivayushhim-ustojchivost-k-covid-19/', datetime.datetime(2021, 12, 1, 10, 20, 29, tzinfo=tzoffset(None, 10800))], ['https://www.mos.ru/news/item/99623073/', datetime.datetime(2021, 11, 30, 21, 37, tzinfo=tzoffset(None, 10800))], ['https://mosgorzdrav.ru/ru-RU/news/default/card/6194.html', {}], ['https://sputnik-georgia.ru/20211201/moskva--lider-sredi-gorodov-evropy-v-reytinge-innovatsiy-pomogayuschikh-v-borbe-s-covid-19-262509363.html', datetime.datetime(2021, 12, 1, 0, 0)], ['https://www.ng.ru/news/726364.html', {}], ['https://sputnik-abkhazia.ru/20211201/moskva-stala-pervoy-v-evrope-i-tretey-v-mire-v-reytinge-antikovidnykh-innovatsiy-1036547477.html', datetime.datetime(2021, 12, 1, 0, 0)], ['https://uz.sputniknews.ru/20211201/moskva--pervaya-v-evrope-po-innovatsiyam-protiv-covid-19-21598364.html', datetime.datetime(2021, 12, 1, 0, 0)], ['https://tass.ru/obschestvo/13073369', {}], ['https://ru.armeniasputnik.am/20211201/moskva-na-pervom-meste-sredi-evropeyskikh-gorodov-v-reytinge-innovatsiy-po-borbe-s-covid-19-35912544.html', datetime.datetime(2021, 12, 1, 0, 0)], ['https://ict.moscow/research/reiting-innovatsii-pomogaiushchikh-v-formirovanii-ustoichivosti-covid-19/', {}], ['http://chad.polpred.ru/news_old?ns=1&fulltext=on&word=clr&period_count=1&sortby=agency&page=588', {}], ['https://vk.com/wall-111829840_43964', {}], ['https://aif.ru/moscow/vperedi_vsey_evropy_moskva_lider_innovacionnyh_metodov_borby_s_covid-19', datetime.datetime(2021, 12, 1, 11, 51)], ['https://governors.ru/news/Moskva-zanyala-pervoe-mesto-sredi-evropeyskikh-gorodov-v-reytinge-innovacziy-pomogayushchikh-v/377311', {}], ['https://premium-clinic.ru/iskysstvennyi-intellekt-pomog-rentgenologam-obrabotat-bolee-dvyh-millionov-issledovanii/', datetime.datetime(2021, 6, 8, 10, 41, 51, tzinfo=tzoffset(None, 10800))], ['https://az.sputniknews.ru/20211201/moskva-operedila-strany-evropy-v-reytinge-innovatsiy-pomogayuschikh-borotsya-s-covid-19-436836560.html', datetime.datetime(2021, 12, 1, 0, 0)], ['https://sputnik.by/20211201/moskva-stala-pervoy-sredi-evropeyskikh-gorodov-reytinge-innovatsiy-v-borbe-s-covid-19-1058374294.html', datetime.datetime(2021, 12, 1, 0, 0)], ['https://www.mos.ru/news/item/96369073/', datetime.datetime(2021, 9, 22, 7, 2, 1, tzinfo=tzoffset(None, 10800))], ['https://www.m24.ru/news/medicina/22092021/183966', {}]], '62a3c288922f2': [['https://www.vedomosti.ru/gorod/ourcity/articles/moskva-stala-liderom-v-evrope-v-reitinge-innovatsii-v-borbe-s-covid-19', {}], ['http://mosday.ru/news/item.php?3507439', {}], ['http://mosday.ru/news/item.php?3505959&view=full', {}], ['http://mosday.ru/news/item.php?3508147&view=full', {}], ['http://mosday.ru/news/item.php?3505965', {}], ['https://www.mperspektiva.ru/topics/moskva-stala-luchshim-gorodom-evropy-v-reytinge-innovatsiy-po-borbe-s-koronavirusom/', datetime.datetime(2021, 1, 12, 9, 0)], ['https://business.digitalocean.ru/n/moscow-the-1st', {}], ['https://ru.sputnik.kz/20211201/moscow-reyting-antikovidnye-innovatsii-18796711.html', datetime.datetime(2021, 12, 1, 0, 0)], ['https://ria.ru/20211130/reyting-1761553812.html', datetime.datetime(2021, 11, 30, 0, 0)], ['https://publico.ru/news/vperedi-evropy-vsej/', {}], ['https://upravavernadskogo.ru/moskva-zanjala-pervoe-mesto-v-evrope-po-innovacijam-v-borbe-s-covid-19', {}], ['https://uzao.aif.ru/news/moskva-zanyala-pervoe-mesto-v-evrope-po-innovaciyam-v-borbe-s-covid-19', {}], ['https://news.rambler.ru/moscow_city/47678811-moskva-zanyala-pervoe-mesto-v-evrope-po-innovatsiyam-v-borbe-s-covid-19/', {}], ['https://www.rbc.ru/society/01/12/2021/61a6971a9a79472b703251bd', datetime.datetime(2021, 12, 1, 1, 4, 41, tzinfo=tzoffset(None, 10800))], ['https://vz.ru/news/2021/11/30/1131809.html', datetime.datetime(2021, 11, 30, 0, 0)], ['https://vk.com/wall-132045839_633', {}], ['https://msk.dixinews.ru/news/obshchestvo/moskva-stala-pervoy-v-evrope-sredi-gorodov-s-innovatsiyami-po-borbe-s-covid-19/', {}], ['https://m.vk.com/video-152784696_456239023?list=18cececdb62d275f59&from=wall-152784696_401', {}], ['https://www.mos.ru/news/item/99623073/', datetime.datetime(2021, 11, 30, 21, 37, tzinfo=tzoffset(None, 10800))], ['https://ura.news/news/1052519780', datetime.datetime(2021, 12, 1, 1, 27, tzinfo=tzoffset(None, 18000))], ['https://sputnik-abkhazia.ru/20211201/moskva-stala-pervoy-v-evrope-i-tretey-v-mire-v-reytinge-antikovidnykh-innovatsiy-1036547477.html', datetime.datetime(2021, 12, 1, 0, 0)], ['https://www.mk.ru/moscow/2021/12/01/moskva-lider-reytinga-innovaciy-protiv-covid19.html', datetime.datetime(2021, 12, 1, 0, 0)], ['https://www.ridus.ru/news/367622', {}], ['https://ru.armeniasputnik.am/20211201/moskva-na-pervom-meste-sredi-evropeyskikh-gorodov-v-reytinge-innovatsiy-po-borbe-s-covid-19-35912544.html', datetime.datetime(2021, 12, 1, 0, 0)], ['https://gp-23.ru/novosti/москва-заняла-первое-место-среди-евро/', {}], ['https://www.5-tv.ru/news/367794/moskva-stala-pervoj-vevrope-itretej-vmire-vrejtinge-antikovidnyh-innovacij/', {}], ['https://www.youtube.com/watch?v=4tJMqQMlUUk', {}], ['https://tass.ru/obschestvo/13073369', {}], ['https://sputnik.by/20211201/moskva-stala-pervoy-sredi-evropeyskikh-gorodov-reytinge-innovatsiy-v-borbe-s-covid-19-1058374294.html', datetime.datetime(2021, 12, 1, 0, 0)], ['https://az.sputniknews.ru/20211201/moskva-operedila-strany-evropy-v-reytinge-innovatsiy-pomogayuschikh-borotsya-s-covid-19-436836560.html', datetime.datetime(2021, 12, 1, 0, 0)], ['https://ict.moscow/research/reiting-innovatsii-pomogaiushchikh-v-formirovanii-ustoichivosti-covid-19/', {}]], '62a3c2891c03b': [['https://news.rambler.ru/moscow_city/47678811-moskva-zanyala-pervoe-mesto-v-evrope-po-innovatsiyam-v-borbe-s-covid-19/', {}], ['http://mosday.ru/news/item.php?3508147&view=full', {}], ['http://mosday.ru/news/item.php?3506766', {}], ['http://mosday.ru/news/item.php?3505936&view=full', {}], ['https://www.rosbalt.ru/moscow/2021/11/30/1933461.html', datetime.datetime(2021, 11, 30, 0, 0)], ['https://gazetafilidavidkovo.ru/moskva-stala-pervoj-v-evrope-v-rejtinge-innovacij-po-ustojchivosti-k-koronavirusu-290124', {}], ['https://ria.ru/20211130/reyting-1761553812.html', datetime.datetime(2021, 11, 30, 0, 0)], ['https://rg.ru/2021/11/30/reg-cfo/moskva-priznana-pervoj-v-evrope-po-innovaciiam-obespechivaiushchim-ustojchivost-k-covid-19.html', datetime.datetime(2021, 11, 30, 0, 0)], ['https://www.vedomosti.ru/gorod/ourcity/articles/moskva-stala-liderom-v-evrope-v-reitinge-innovatsii-v-borbe-s-covid-19', {}], ['https://www.m24.ru/news/gorod/30112021/194371', {}], ['https://tkb3.ru/москва-заняла-первое-место-среди-европейских-городов-в-рейтинге-инноваций,-помогающих-в-борьбе-с-covid-19.html', {}], ['https://tsargrad.tv/news/moskva-oboshla-evropejskie-stolicy-v-rejtinge-innovacij-po-ustojchivosti-k-covid-19_455178', datetime.datetime(2021, 11, 30, 22, 8, tzinfo=tzoffset(None, 10800))], ['https://moslenta.ru/news/moskva-stala-liderom-v-reitinge-pomogayushikh-v-borbe-s-covid-19-innovacii-30-11-2021.htm', {}], ['https://www.rbc.ru/society/01/12/2021/61a6971a9a79472b703251bd', datetime.datetime(2021, 12, 1, 1, 4, 41, tzinfo=tzoffset(None, 10800))], ['https://kuntsevo-gazeta.ru/moskva-stala-pervoj-v-evrope-i-tretej-v-mire-v-rejtinge-antikovidnyx-innovacij', {}], ['https://ramenki-gazeta.ru/moskva-oboshla-evropejskie-stolicy-v-rejtinge-innovacij-po-ustojchivosti-k-covid-19-290123', {}], ['https://upravadorogomilovo.ru/moskva-priznana-pervoj-v-evrope-po-innovacijam-obespechivajuschim-ustojchivost-k-covid-19-290114', {}], ['https://nashe-severnoetushino.ru/moskva-oboshla-evropejskie-stoliczy-v-rejtinge-innovaczij-po-ustojchivosti-k-covid-19/', datetime.datetime(2021, 12, 1, 10, 14, 47, tzinfo=tzoffset(None, 10800))], ['https://www.kommersant.ru/doc/5100641', datetime.datetime(2021, 11, 30, 22, 12, 43, tzinfo=tzoffset(None, 10800))], ['https://smotrim.ru/article/2646607', {}], ['https://basmannievesti.moscow/2021/12/01/moskva-oboshla-evropejskie-stoliczy-v-rejtinge-innovaczij-po-ustojchivosti-k-covid-19/', datetime.datetime(2021, 12, 1, 0, 0)], ['https://gazetakoptevo.ru/moskva-oboshla-evropejskie-stolitsy-v-rejtinge-innovatsij-po-ustojchivosti-k-covid-19/', datetime.datetime(2021, 12, 1, 10, 52, 20, tzinfo=tzoffset(None, 10800))], ['https://ict.moscow/projects/ai/research/reiting-innovatsii-pomogaiushchikh-v-formirovanii-ustoichivosti-covid-19/', {}], ['https://www.mos.ru/news/item/96369073/', datetime.datetime(2021, 9, 22, 7, 2, 1, tzinfo=tzoffset(None, 10800))], ['https://www.mos.ru/news/item/99623073/', datetime.datetime(2021, 11, 30, 21, 37, tzinfo=tzoffset(None, 10800))]], '62a3c2899a324': [['https://vk.com/wall-58561110_16851', {}], ['https://www.kommersant.ru/doc/5100641', datetime.datetime(2021, 11, 30, 22, 12, 43, tzinfo=tzoffset(None, 10800))], ['https://news.mail.ru/economics/49018447/', datetime.datetime(2021, 11, 30, 22, 22, 55, tzinfo=tzoffset(None, 10800))], ['http://mosday.ru/news/item.php?3505923&view=full', {}], ['http://mosday.ru/news/item.php?3505959&view=full', {}], ['https://www.mskagency.ru/materials/3170673', {}], ['https://ria.ru/20211130/reyting-1761553812.html', datetime.datetime(2021, 11, 30, 0, 0)], ['https://ok.ru/silavyedi/topic/154057043949622', {}], ['https://vk.com/wall-193079545_4076', {}], ['https://forum.ners.ru/viewtopic.php?t=67921&start=17090', {}], ['https://news.rambler.ru/moscow_city/47678811-moskva-zanyala-pervoe-mesto-v-evrope-po-innovatsiyam-v-borbe-s-covid-19/', {}], ['https://upravavernadskogo.ru/moskva-zanjala-pervoe-mesto-v-evrope-po-innovacijam-v-borbe-s-covid-19', {}], ['https://dikb6.ru/2021/12/01/moscow-1/', datetime.datetime(2021, 12, 1, 0, 0)], ['https://regnum.ru/news/3429488.html', {}], ['https://uv-kurier.ru/2021/12/03/moskva-zanyala-1-e-mesto-v-evropejskom-rejtinge-po-razrabotkam-protiv-kovida/', datetime.datetime(2021, 12, 3, 0, 0)], ['https://ren.tv/news/v-rossii/910011-moskva-stala-pervoi-v-evrope-v-reitinge-antikovidnykh-innovatsii', datetime.datetime(2021, 11, 30, 22, 24, 5, tzinfo=tzoffset(None, 10800))], ['https://subscribe.ru/archive/media.kommersant.kmrsntnews/202112/01171239.html/', {}], ['https://www.mos.ru/news/item/99623073/', datetime.datetime(2021, 11, 30, 21, 37, tzinfo=tzoffset(None, 10800))], ['https://vrachirf.ru/concilium/99664.html', {}], ['https://tgstat.com/ru/channel/@izbrannoevsem/23381', {}], ['https://72.ru/text/health/2021/12/01/70287620/comments/', datetime.datetime(2021, 12, 1, 0, 0)], ['https://www.kommersant.ru/doc/5090994', datetime.datetime(2021, 11, 26, 3, 59, 8, tzinfo=tzoffset(None, 10800))], ['https://saratov.zoon.ru/public_services/obschestvennaya_organizatsiya_ofitsery_rossii/social/', {}], ['http://chad.polpred.ru/news_old?ns=1&fulltext=on&word=clr&period_count=1&sortby=agency&page=588', {}], ['https://tass.ru/obschestvo/13073369', {}]], '62a3c28a1de50': [['https://msk.dixinews.ru/news/obshchestvo/moskva-stala-pervoy-v-evrope-sredi-gorodov-s-innovatsiyami-po-borbe-s-covid-19/', {}], ['http://mosday.ru/news/item.php?3505959&view=full', {}], ['http://mosday.ru/news/item.php?3505874', {}], ['https://rg.ru/2021/11/30/reg-cfo/moskva-priznana-pervoj-v-evrope-po-innovaciiam-obespechivaiushchim-ustojchivost-k-covid-19.html', datetime.datetime(2021, 11, 30, 0, 0)], ['https://www.vedomosti.ru/gorod/ourcity/articles/moskva-stala-liderom-v-evrope-v-reitinge-innovatsii-v-borbe-s-covid-19', {}], ['https://www.mperspektiva.ru/topics/moskva-stala-luchshim-gorodom-evropy-v-reytinge-innovatsiy-po-borbe-s-koronavirusom/', datetime.datetime(2021, 1, 12, 9, 0)], ['https://gazeta-savelki.ru/news/stopcovid/17680/', {}], ['https://vk.com/wall-139775488_397', {}], ['https://life.ru/p/1453755', datetime.datetime(2021, 12, 1, 0, 18, 7, tzinfo=tzoffset(None, 10800))], ['https://ria.ru/20211130/reyting-1761553812.html', datetime.datetime(2021, 11, 30, 0, 0)], ['https://news.rambler.ru/moscow_city/47678811-moskva-zanyala-pervoe-mesto-v-evrope-po-innovatsiyam-v-borbe-s-covid-19/', {}], ['https://www.kommersant.ru/doc/5100641', datetime.datetime(2021, 11, 30, 22, 12, 43, tzinfo=tzoffset(None, 10800))], ['https://www.5-tv.ru/news/367794/moskva-stala-pervoj-vevrope-itretej-vmire-vrejtinge-antikovidnyh-innovacij/', {}], ['https://www.rbc.ru/society/01/12/2021/61a6971a9a79472b703251bd', datetime.datetime(2021, 12, 1, 1, 4, 41, tzinfo=tzoffset(None, 10800))], ['https://vk.com/wall-43232739_9948', {}], ['https://publico.ru/news/vperedi-evropy-vsej/', {}], ['https://www.m24.ru/videos/gorod/30112021/319056', {}], ['https://dailystorm.ru/news/moskva-stala-pervoy-sredi-evropeyskih-gorodov-v-reytinge-innovaciy-po-borbe-s-covid-19', datetime.datetime(2021, 11, 30, 22, 15, 17, tzinfo=tzoffset(None, 3600))], ['https://www.mos.ru/news/item/99623073/', datetime.datetime(2021, 11, 30, 21, 37, tzinfo=tzoffset(None, 10800))], ['https://lt.sputniknews.ru/20211201/moskva-stala-liderom-v-evrope-v-reytinge-innovatsiy-po-borbe-s-covid-19-20230958.html', datetime.datetime(2021, 12, 1, 0, 0)], ['https://ru.armeniasputnik.am/20211201/moskva-na-pervom-meste-sredi-evropeyskikh-gorodov-v-reytinge-innovatsiy-po-borbe-s-covid-19-35912544.html', datetime.datetime(2021, 12, 1, 0, 0)], ['https://sputnik-ossetia.ru/20211201/moskva-stala-tretey-v-mirovom-reytinge-antikovidnykh-innovatsiy-14838557.html', datetime.datetime(2021, 12, 1, 0, 0)], ['https://mosgorzdrav.ru/ru-RU/news/default/card/6194.html', {}], ['https://sputnik.by/20211201/moskva-stala-pervoy-sredi-evropeyskikh-gorodov-reytinge-innovatsiy-v-borbe-s-covid-19-1058374294.html', datetime.datetime(2021, 12, 1, 0, 0)], ['https://ict.moscow/research/reiting-innovatsii-pomogaiushchikh-v-formirovanii-ustoichivosti-covid-19/', {}]], '62a3c28a9c103': [['https://matveychev-oleg.livejournal.com/12400406.html', {}], ['https://news.myseldon.com/ru/news/index/263070154', datetime.datetime(2021, 12, 1, 6, 50, 22, tzinfo=tzutc())], ['https://icmos.ru/news/moskva-priznana-pervoi-v-evrope-po-innovaciyam-obespecivayushhim-ustoicivost-k-covid-19', {}], ['https://ru.sputnik.kz/20211201/moscow-reyting-antikovidnye-innovatsii-18796711.html', datetime.datetime(2021, 12, 1, 0, 0)], ['https://vk.com/@mos-preview-358362347-1934392265', {}], ['https://www.rosbalt.ru/moscow/2021/11/30/1933461.html', datetime.datetime(2021, 11, 30, 0, 0)], ['https://vz.ru/news/2021/11/30/1131809.html', datetime.datetime(2021, 11, 30, 0, 0)], ['https://ria.ru/20211130/reyting-1761553812.html', datetime.datetime(2021, 11, 30, 0, 0)], ['https://rg.ru/2021/11/30/reg-cfo/moskva-priznana-pervoj-v-evrope-po-innovaciiam-obespechivaiushchim-ustojchivost-k-covid-19.html', datetime.datetime(2021, 11, 30, 0, 0)], ['https://www.mperspektiva.ru/topics/moskva-stala-luchshim-gorodom-evropy-v-reytinge-innovatsiy-po-borbe-s-koronavirusom/', datetime.datetime(2021, 1, 12, 9, 0)], ['https://general-ivanov1.livejournal.com/975537.html', {}], ['https://life.ru/p/1453755', datetime.datetime(2021, 12, 1, 0, 18, 7, tzinfo=tzoffset(None, 10800))], ['https://www.vedomosti.ru/gorod/ourcity/articles/moskva-stala-liderom-v-evrope-v-reitinge-innovatsii-v-borbe-s-covid-19', {}], ['https://tvzvezda.ru/news/202111302324-X44s8.html', datetime.datetime(2021, 11, 30, 23, 24, 1, tzinfo=tzoffset(None, 10800))], ['https://aif.ru/society/moskva_zanyala_pervoe_mesto_v_evrope_po_innovaciyam_v_borbe_s_covid-19', datetime.datetime(2021, 11, 30, 22, 45)], ['https://news.rambler.ru/moscow_city/47678811-moskva-zanyala-pervoe-mesto-v-evrope-po-innovatsiyam-v-borbe-s-covid-19/', {}], ['https://www.m24.ru/news/gorod/30112021/194371', {}], ['https://www.metronews.ru/novosti/moscow/reviews/moskva-zanyala-pervoe-mesto-v-evrope-po-innovaciyam-v-borbe-s-covid-19-1864205/', datetime.datetime(2021, 12, 1, 9, 35, tzinfo=tzoffset(None, 10800))], ['https://www.finanz.ru/novosti/aktsii/moskva-zanyala-pervoe-mesto-sredi-gorodov-evropy-v-reytinge-innovaciy-po-borbe-s-covid-19-1031013738', {}], ['https://www.rbc.ru/society/01/12/2021/61a6971a9a79472b703251bd', datetime.datetime(2021, 12, 1, 1, 4, 41, tzinfo=tzoffset(None, 10800))], ['https://publico.ru/news/vperedi-evropy-vsej/', {}], ['https://tass.ru/obschestvo/13073369', {}], ['https://sputnik-georgia.ru/20211201/moskva--lider-sredi-gorodov-evropy-v-reytinge-innovatsiy-pomogayuschikh-v-borbe-s-covid-19-262509363.html', datetime.datetime(2021, 12, 1, 0, 0)], ['https://govoritmoskva.ru/news/296711/', {}], ['https://moskva.bezformata.com/listnews/pervoy-v-evrope-v-reytinge-innovatciy/100117778/', {}], ['https://chistopol.ru/lenta/moskva-stala-pervoj-sredi-evropejskih-gorodov-v-rejtinge-innovatsij-po-borbe-s-covid-19/', {}], ['https://www.mos.ru/news/item/99623073/', datetime.datetime(2021, 11, 30, 21, 37, tzinfo=tzoffset(None, 10800))], ['https://ru.armeniasputnik.am/20211201/moskva-na-pervom-meste-sredi-evropeyskikh-gorodov-v-reytinge-innovatsiy-po-borbe-s-covid-19-35912544.html', datetime.datetime(2021, 12, 1, 0, 0)], ['https://ict.moscow/research/reiting-innovatsii-pomogaiushchikh-v-formirovanii-ustoichivosti-covid-19/', {}], ['https://dailystorm.ru/news/moskva-stala-pervoy-sredi-evropeyskih-gorodov-v-reytinge-innovaciy-po-borbe-s-covid-19', datetime.datetime(2021, 11, 30, 22, 15, 17, tzinfo=tzoffset(None, 3600))], ['https://sputnik.by/20211201/moskva-stala-pervoy-sredi-evropeyskikh-gorodov-reytinge-innovatsiy-v-borbe-s-covid-19-1058374294.html', datetime.datetime(2021, 12, 1, 0, 0)], ['https://az.sputniknews.ru/20211201/moskva-operedila-strany-evropy-v-reytinge-innovatsiy-pomogayuschikh-borotsya-s-covid-19-436836560.html', datetime.datetime(2021, 12, 1, 0, 0)], ['https://lv.sputniknews.ru/20211201/moskva-stala-pervoy-sredi-gorodov-evropy-v-reytinge-antikovidnykh-innovatsiy-19430273.html', datetime.datetime(2021, 12, 1, 0, 0)], ['https://mephi.ru/content/public/uploads/files/news/p_prof_kontur_10_11_2021.pdf', {}]], '62a3c28b274bc': [['https://www.rosbalt.ru/moscow/2021/11/30/1933461.html', datetime.datetime(2021, 11, 30, 0, 0)], ['https://sputnik-georgia.ru/20211201/moskva--lider-sredi-gorodov-evropy-v-reytinge-innovatsiy-pomogayuschikh-v-borbe-s-covid-19-262509363.html', datetime.datetime(2021, 12, 1, 0, 0)], ['https://www.timeout.ru/msk/feature/moskva-zanyala-trete-mesto-v-rejtinge-innovaczij-po-borbe-s-koronavirusom', {}], ['https://news.rambler.ru/moscow_city/47678811-moskva-zanyala-pervoe-mesto-v-evrope-po-innovatsiyam-v-borbe-s-covid-19/', {}], ['https://gazeta-otradnoe.ru/moskva-priznana-pervoj-v-evrope-po-innovatsiyam-obespechivayushhim-ustojchivost-k-covid-19/', datetime.datetime(2021, 12, 1, 9, 38, tzinfo=tzoffset(None, 10800))], ['https://ria.ru/20211130/reyting-1761553812.html', datetime.datetime(2021, 11, 30, 0, 0)], ['https://www.vedomosti.ru/gorod/ourcity/articles/moskva-stala-liderom-v-evrope-v-reitinge-innovatsii-v-borbe-s-covid-19', {}], ['https://pikabu.ru/story/moskva_zanyala_1_mesto_sredi_evropeyskikh_gorodov_v_reytinge_po_innovatsionnoy_ustoychivosti_k_koronavirusu_8658786', {}], ['https://www.mos.ru/news/item/99623073/', datetime.datetime(2021, 11, 30, 21, 37, tzinfo=tzoffset(None, 10800))], ['https://tass.ru/obschestvo/13073369', {}], ['https://koronavirus.center/news/moskva-stala-pervoy-sredi-evropeyskih/1310803', datetime.datetime(2021, 11, 30, 22, 40, 21, tzinfo=tzoffset(None, 10800))], ['https://www.5-tv.ru/news/367794/moskva-stala-pervoj-vevrope-itretej-vmire-vrejtinge-antikovidnyh-innovacij/', {}], ['https://sputnik-abkhazia.ru/20211201/moskva-stala-pervoy-v-evrope-i-tretey-v-mire-v-reytinge-antikovidnykh-innovatsiy-1036547477.html', datetime.datetime(2021, 12, 1, 0, 0)]], '62a3c28ba845a': [['https://fesn.ranepa.ru/3291', {}], ['https://www.Ranepa.ru/news/proektnyy-ofis-fesn-rankhigs-zaymetsya-razvitiem-novykh-napravleniy-deyatelnosti/', {}]]}\n"
     ]
    }
   ],
   "source": [
    "for key in result.keys():\n",
    "    for i in range(len(result[key])):\n",
    "        if len(str(result[key][i][1])) < 5:\n",
    "            try:\n",
    "                article = Article(result[key][i][0])\n",
    "                article.download()\n",
    "                article.parse()\n",
    "                result[key][i][1] = article.additional_data\n",
    "            except ArticleException:\n",
    "                pass\n",
    "print(result)"
   ],
   "metadata": {
    "collapsed": false,
    "pycharm": {
     "name": "#%%\n"
    }
   }
  },
  {
   "cell_type": "code",
   "execution_count": 62,
   "outputs": [
    {
     "name": "stdout",
     "output_type": "stream",
     "text": [
      "[['62a3c2880e77c', 'https://innoagency.ru/ru/news/news/moskvazanyalatretiemestovreitinge', nan], ['62a3c2880e77c', 'https://matveychev-oleg.livejournal.com/12400406.html', nan], ['62a3c2880e77c', 'https://ru.sputnik.kz/20211201/moscow-reyting-antikovidnye-innovatsii-18796711.html', datetime.datetime(2021, 12, 1, 0, 0)], ['62a3c2880e77c', 'http://mosday.ru/news/item.php?3505963', nan], ['62a3c2880e77c', 'https://rg.ru/2021/11/30/reg-cfo/moskva-priznana-pervoj-v-evrope-po-innovaciiam-obespechivaiushchim-ustojchivost-k-covid-19.html', datetime.datetime(2021, 11, 30, 0, 0)], ['62a3c2880e77c', 'https://ria.ru/20211130/reyting-1761553812.html', datetime.datetime(2021, 11, 30, 0, 0)], ['62a3c2880e77c', 'https://www.mperspektiva.ru/topics/moskva-stala-luchshim-gorodom-evropy-v-reytinge-innovatsiy-po-borbe-s-koronavirusom/', datetime.datetime(2021, 1, 12, 9, 0)], ['62a3c2880e77c', 'https://xn--80aesfpebagmfblc0a.xn--p1ai/news/20211201-0805.html', datetime.datetime(2021, 12, 1, 8, 0)], ['62a3c2880e77c', 'https://vz.ru/news/2021/11/30/1131809.html', datetime.datetime(2021, 11, 30, 0, 0)], ['62a3c2880e77c', 'https://lomonosovskiymedia.ru/news/moskva-priznana-pervoi-v-evrope-po-innovaciyam-obespecivayushhim-ustoicivost-k-covid-19', nan], ['62a3c2880e77c', 'https://www.vedomosti.ru/gorod/ourcity/articles/moskva-stala-liderom-v-evrope-v-reitinge-innovatsii-v-borbe-s-covid-19', nan], ['62a3c2880e77c', 'https://tvzvezda.ru/news/202111302324-X44s8.html', datetime.datetime(2021, 11, 30, 23, 24, 1, tzinfo=tzoffset(None, 10800))], ['62a3c2880e77c', 'https://news.rambler.ru/moscow_city/47678811-moskva-zanyala-pervoe-mesto-v-evrope-po-innovatsiyam-v-borbe-s-covid-19/', nan], ['62a3c2880e77c', 'https://uzao.aif.ru/news/moskva-zanyala-pervoe-mesto-v-evrope-po-innovaciyam-v-borbe-s-covid-19', nan], ['62a3c2880e77c', 'https://www.finanz.ru/novosti/aktsii/moskva-zanyala-pervoe-mesto-sredi-gorodov-evropy-v-reytinge-innovaciy-po-borbe-s-covid-19-1031013738', nan], ['62a3c2880e77c', 'https://aif.ru/society/moskva_zanyala_pervoe_mesto_v_evrope_po_innovaciyam_v_borbe_s_covid-19', datetime.datetime(2021, 11, 30, 22, 45)], ['62a3c2880e77c', 'https://troparevo-gazeta.ru/moskva-stala-pervoj-v-evrope-v-rejtinge-innovacij-po-ustojchivosti-k-koronavirusu', nan], ['62a3c2880e77c', 'https://niioz.ru/covid-19/news/moskva-lider-v-reytinge-innovatsiy-v-borbe-s-covid-19-/', nan], ['62a3c2880e77c', 'https://dikb6.ru/2021/12/01/moscow-1/', datetime.datetime(2021, 12, 1, 0, 0)], ['62a3c2880e77c', 'https://www.metronews.ru/novosti/moscow/reviews/moskva-zanyala-pervoe-mesto-v-evrope-po-innovaciyam-v-borbe-s-covid-19-1864205/', datetime.datetime(2021, 12, 1, 9, 35, tzinfo=tzoffset(None, 10800))], ['62a3c2880e77c', 'https://publico.ru/news/vperedi-evropy-vsej/', nan], ['62a3c2880e77c', 'https://vk.com/wall-66768541_9902', nan], ['62a3c2880e77c', 'https://vnukovo-gazeta.ru/moskva-zanjala-pervoe-mesto-v-evrope-po-innovacijam-v-borbe-s-covid-19-290121', nan], ['62a3c2880e77c', 'https://prado-club.su/forum/index.php?topic=209947.10580', nan], ['62a3c2880e77c', 'https://gazeta-marfino.ru/moskva-priznana-pervoj-v-evrope-po-innovatsiyam-obespechivayushhim-ustojchivost-k-covid-19/', datetime.datetime(2021, 12, 1, 9, 40, 9, tzinfo=tzoffset(None, 10800))], ['62a3c2880e77c', 'https://solntsevo-gazeta.ru/moskva-priznana-pervoj-v-evrope-po-innovacijam-obespechivajuschim-ustojchivost-k-covid-19', nan], ['62a3c2880e77c', 'https://ura.news/news/1052519780', datetime.datetime(2021, 12, 1, 1, 27, tzinfo=tzoffset(None, 18000))], ['62a3c2880e77c', 'https://www.rbc.ru/society/01/12/2021/61a6971a9a79472b703251bd', datetime.datetime(2021, 12, 1, 1, 4, 41, tzinfo=tzoffset(None, 10800))], ['62a3c2880e77c', 'https://www.gazeta.ru/social/2021/12/07/14287831.shtml', datetime.datetime(2021, 12, 7, 0, 0)], ['62a3c2880e77c', 'https://deguninskievesti.ru/moskva-priznana-pervoj-v-evrope-po-innovatsiyam-obespechivayushhim-ustojchivost-k-covid-19/', datetime.datetime(2021, 12, 1, 10, 20, 29, tzinfo=tzoffset(None, 10800))], ['62a3c2880e77c', 'https://www.mos.ru/news/item/99623073/', datetime.datetime(2021, 11, 30, 21, 37, tzinfo=tzoffset(None, 10800))], ['62a3c2880e77c', 'https://mosgorzdrav.ru/ru-RU/news/default/card/6194.html', nan], ['62a3c2880e77c', 'https://sputnik-georgia.ru/20211201/moskva--lider-sredi-gorodov-evropy-v-reytinge-innovatsiy-pomogayuschikh-v-borbe-s-covid-19-262509363.html', datetime.datetime(2021, 12, 1, 0, 0)], ['62a3c2880e77c', 'https://www.ng.ru/news/726364.html', nan], ['62a3c2880e77c', 'https://sputnik-abkhazia.ru/20211201/moskva-stala-pervoy-v-evrope-i-tretey-v-mire-v-reytinge-antikovidnykh-innovatsiy-1036547477.html', datetime.datetime(2021, 12, 1, 0, 0)], ['62a3c2880e77c', 'https://uz.sputniknews.ru/20211201/moskva--pervaya-v-evrope-po-innovatsiyam-protiv-covid-19-21598364.html', datetime.datetime(2021, 12, 1, 0, 0)], ['62a3c2880e77c', 'https://tass.ru/obschestvo/13073369', nan], ['62a3c2880e77c', 'https://ru.armeniasputnik.am/20211201/moskva-na-pervom-meste-sredi-evropeyskikh-gorodov-v-reytinge-innovatsiy-po-borbe-s-covid-19-35912544.html', datetime.datetime(2021, 12, 1, 0, 0)], ['62a3c2880e77c', 'https://ict.moscow/research/reiting-innovatsii-pomogaiushchikh-v-formirovanii-ustoichivosti-covid-19/', nan], ['62a3c2880e77c', 'http://chad.polpred.ru/news_old?ns=1&fulltext=on&word=clr&period_count=1&sortby=agency&page=588', nan], ['62a3c2880e77c', 'https://vk.com/wall-111829840_43964', nan], ['62a3c2880e77c', 'https://aif.ru/moscow/vperedi_vsey_evropy_moskva_lider_innovacionnyh_metodov_borby_s_covid-19', datetime.datetime(2021, 12, 1, 11, 51)], ['62a3c2880e77c', 'https://governors.ru/news/Moskva-zanyala-pervoe-mesto-sredi-evropeyskikh-gorodov-v-reytinge-innovacziy-pomogayushchikh-v/377311', nan], ['62a3c2880e77c', 'https://premium-clinic.ru/iskysstvennyi-intellekt-pomog-rentgenologam-obrabotat-bolee-dvyh-millionov-issledovanii/', datetime.datetime(2021, 6, 8, 10, 41, 51, tzinfo=tzoffset(None, 10800))], ['62a3c2880e77c', 'https://az.sputniknews.ru/20211201/moskva-operedila-strany-evropy-v-reytinge-innovatsiy-pomogayuschikh-borotsya-s-covid-19-436836560.html', datetime.datetime(2021, 12, 1, 0, 0)], ['62a3c2880e77c', 'https://sputnik.by/20211201/moskva-stala-pervoy-sredi-evropeyskikh-gorodov-reytinge-innovatsiy-v-borbe-s-covid-19-1058374294.html', datetime.datetime(2021, 12, 1, 0, 0)], ['62a3c2880e77c', 'https://www.mos.ru/news/item/96369073/', datetime.datetime(2021, 9, 22, 7, 2, 1, tzinfo=tzoffset(None, 10800))], ['62a3c2880e77c', 'https://www.m24.ru/news/medicina/22092021/183966', nan], ['62a3c288922f2', 'https://www.vedomosti.ru/gorod/ourcity/articles/moskva-stala-liderom-v-evrope-v-reitinge-innovatsii-v-borbe-s-covid-19', nan], ['62a3c288922f2', 'http://mosday.ru/news/item.php?3507439', nan], ['62a3c288922f2', 'http://mosday.ru/news/item.php?3505959&view=full', nan], ['62a3c288922f2', 'http://mosday.ru/news/item.php?3508147&view=full', nan], ['62a3c288922f2', 'http://mosday.ru/news/item.php?3505965', nan], ['62a3c288922f2', 'https://www.mperspektiva.ru/topics/moskva-stala-luchshim-gorodom-evropy-v-reytinge-innovatsiy-po-borbe-s-koronavirusom/', datetime.datetime(2021, 1, 12, 9, 0)], ['62a3c288922f2', 'https://business.digitalocean.ru/n/moscow-the-1st', nan], ['62a3c288922f2', 'https://ru.sputnik.kz/20211201/moscow-reyting-antikovidnye-innovatsii-18796711.html', datetime.datetime(2021, 12, 1, 0, 0)], ['62a3c288922f2', 'https://ria.ru/20211130/reyting-1761553812.html', datetime.datetime(2021, 11, 30, 0, 0)], ['62a3c288922f2', 'https://publico.ru/news/vperedi-evropy-vsej/', nan], ['62a3c288922f2', 'https://upravavernadskogo.ru/moskva-zanjala-pervoe-mesto-v-evrope-po-innovacijam-v-borbe-s-covid-19', nan], ['62a3c288922f2', 'https://uzao.aif.ru/news/moskva-zanyala-pervoe-mesto-v-evrope-po-innovaciyam-v-borbe-s-covid-19', nan], ['62a3c288922f2', 'https://news.rambler.ru/moscow_city/47678811-moskva-zanyala-pervoe-mesto-v-evrope-po-innovatsiyam-v-borbe-s-covid-19/', nan], ['62a3c288922f2', 'https://www.rbc.ru/society/01/12/2021/61a6971a9a79472b703251bd', datetime.datetime(2021, 12, 1, 1, 4, 41, tzinfo=tzoffset(None, 10800))], ['62a3c288922f2', 'https://vz.ru/news/2021/11/30/1131809.html', datetime.datetime(2021, 11, 30, 0, 0)], ['62a3c288922f2', 'https://vk.com/wall-132045839_633', nan], ['62a3c288922f2', 'https://msk.dixinews.ru/news/obshchestvo/moskva-stala-pervoy-v-evrope-sredi-gorodov-s-innovatsiyami-po-borbe-s-covid-19/', nan], ['62a3c288922f2', 'https://m.vk.com/video-152784696_456239023?list=18cececdb62d275f59&from=wall-152784696_401', nan], ['62a3c288922f2', 'https://www.mos.ru/news/item/99623073/', datetime.datetime(2021, 11, 30, 21, 37, tzinfo=tzoffset(None, 10800))], ['62a3c288922f2', 'https://ura.news/news/1052519780', datetime.datetime(2021, 12, 1, 1, 27, tzinfo=tzoffset(None, 18000))], ['62a3c288922f2', 'https://sputnik-abkhazia.ru/20211201/moskva-stala-pervoy-v-evrope-i-tretey-v-mire-v-reytinge-antikovidnykh-innovatsiy-1036547477.html', datetime.datetime(2021, 12, 1, 0, 0)], ['62a3c288922f2', 'https://www.mk.ru/moscow/2021/12/01/moskva-lider-reytinga-innovaciy-protiv-covid19.html', datetime.datetime(2021, 12, 1, 0, 0)], ['62a3c288922f2', 'https://www.ridus.ru/news/367622', nan], ['62a3c288922f2', 'https://ru.armeniasputnik.am/20211201/moskva-na-pervom-meste-sredi-evropeyskikh-gorodov-v-reytinge-innovatsiy-po-borbe-s-covid-19-35912544.html', datetime.datetime(2021, 12, 1, 0, 0)], ['62a3c288922f2', 'https://gp-23.ru/novosti/москва-заняла-первое-место-среди-евро/', nan], ['62a3c288922f2', 'https://www.5-tv.ru/news/367794/moskva-stala-pervoj-vevrope-itretej-vmire-vrejtinge-antikovidnyh-innovacij/', nan], ['62a3c288922f2', 'https://www.youtube.com/watch?v=4tJMqQMlUUk', nan], ['62a3c288922f2', 'https://tass.ru/obschestvo/13073369', nan], ['62a3c288922f2', 'https://sputnik.by/20211201/moskva-stala-pervoy-sredi-evropeyskikh-gorodov-reytinge-innovatsiy-v-borbe-s-covid-19-1058374294.html', datetime.datetime(2021, 12, 1, 0, 0)], ['62a3c288922f2', 'https://az.sputniknews.ru/20211201/moskva-operedila-strany-evropy-v-reytinge-innovatsiy-pomogayuschikh-borotsya-s-covid-19-436836560.html', datetime.datetime(2021, 12, 1, 0, 0)], ['62a3c288922f2', 'https://ict.moscow/research/reiting-innovatsii-pomogaiushchikh-v-formirovanii-ustoichivosti-covid-19/', nan], ['62a3c2891c03b', 'https://news.rambler.ru/moscow_city/47678811-moskva-zanyala-pervoe-mesto-v-evrope-po-innovatsiyam-v-borbe-s-covid-19/', nan], ['62a3c2891c03b', 'http://mosday.ru/news/item.php?3508147&view=full', nan], ['62a3c2891c03b', 'http://mosday.ru/news/item.php?3506766', nan], ['62a3c2891c03b', 'http://mosday.ru/news/item.php?3505936&view=full', nan], ['62a3c2891c03b', 'https://www.rosbalt.ru/moscow/2021/11/30/1933461.html', datetime.datetime(2021, 11, 30, 0, 0)], ['62a3c2891c03b', 'https://gazetafilidavidkovo.ru/moskva-stala-pervoj-v-evrope-v-rejtinge-innovacij-po-ustojchivosti-k-koronavirusu-290124', nan], ['62a3c2891c03b', 'https://ria.ru/20211130/reyting-1761553812.html', datetime.datetime(2021, 11, 30, 0, 0)], ['62a3c2891c03b', 'https://rg.ru/2021/11/30/reg-cfo/moskva-priznana-pervoj-v-evrope-po-innovaciiam-obespechivaiushchim-ustojchivost-k-covid-19.html', datetime.datetime(2021, 11, 30, 0, 0)], ['62a3c2891c03b', 'https://www.vedomosti.ru/gorod/ourcity/articles/moskva-stala-liderom-v-evrope-v-reitinge-innovatsii-v-borbe-s-covid-19', nan], ['62a3c2891c03b', 'https://www.m24.ru/news/gorod/30112021/194371', nan], ['62a3c2891c03b', 'https://tkb3.ru/москва-заняла-первое-место-среди-европейских-городов-в-рейтинге-инноваций,-помогающих-в-борьбе-с-covid-19.html', nan], ['62a3c2891c03b', 'https://tsargrad.tv/news/moskva-oboshla-evropejskie-stolicy-v-rejtinge-innovacij-po-ustojchivosti-k-covid-19_455178', datetime.datetime(2021, 11, 30, 22, 8, tzinfo=tzoffset(None, 10800))], ['62a3c2891c03b', 'https://moslenta.ru/news/moskva-stala-liderom-v-reitinge-pomogayushikh-v-borbe-s-covid-19-innovacii-30-11-2021.htm', nan], ['62a3c2891c03b', 'https://www.rbc.ru/society/01/12/2021/61a6971a9a79472b703251bd', datetime.datetime(2021, 12, 1, 1, 4, 41, tzinfo=tzoffset(None, 10800))], ['62a3c2891c03b', 'https://kuntsevo-gazeta.ru/moskva-stala-pervoj-v-evrope-i-tretej-v-mire-v-rejtinge-antikovidnyx-innovacij', nan], ['62a3c2891c03b', 'https://ramenki-gazeta.ru/moskva-oboshla-evropejskie-stolicy-v-rejtinge-innovacij-po-ustojchivosti-k-covid-19-290123', nan], ['62a3c2891c03b', 'https://upravadorogomilovo.ru/moskva-priznana-pervoj-v-evrope-po-innovacijam-obespechivajuschim-ustojchivost-k-covid-19-290114', nan], ['62a3c2891c03b', 'https://nashe-severnoetushino.ru/moskva-oboshla-evropejskie-stoliczy-v-rejtinge-innovaczij-po-ustojchivosti-k-covid-19/', datetime.datetime(2021, 12, 1, 10, 14, 47, tzinfo=tzoffset(None, 10800))], ['62a3c2891c03b', 'https://www.kommersant.ru/doc/5100641', datetime.datetime(2021, 11, 30, 22, 12, 43, tzinfo=tzoffset(None, 10800))], ['62a3c2891c03b', 'https://smotrim.ru/article/2646607', nan], ['62a3c2891c03b', 'https://basmannievesti.moscow/2021/12/01/moskva-oboshla-evropejskie-stoliczy-v-rejtinge-innovaczij-po-ustojchivosti-k-covid-19/', datetime.datetime(2021, 12, 1, 0, 0)], ['62a3c2891c03b', 'https://gazetakoptevo.ru/moskva-oboshla-evropejskie-stolitsy-v-rejtinge-innovatsij-po-ustojchivosti-k-covid-19/', datetime.datetime(2021, 12, 1, 10, 52, 20, tzinfo=tzoffset(None, 10800))], ['62a3c2891c03b', 'https://ict.moscow/projects/ai/research/reiting-innovatsii-pomogaiushchikh-v-formirovanii-ustoichivosti-covid-19/', nan], ['62a3c2891c03b', 'https://www.mos.ru/news/item/96369073/', datetime.datetime(2021, 9, 22, 7, 2, 1, tzinfo=tzoffset(None, 10800))], ['62a3c2891c03b', 'https://www.mos.ru/news/item/99623073/', datetime.datetime(2021, 11, 30, 21, 37, tzinfo=tzoffset(None, 10800))], ['62a3c2899a324', 'https://vk.com/wall-58561110_16851', nan], ['62a3c2899a324', 'https://www.kommersant.ru/doc/5100641', datetime.datetime(2021, 11, 30, 22, 12, 43, tzinfo=tzoffset(None, 10800))], ['62a3c2899a324', 'https://news.mail.ru/economics/49018447/', datetime.datetime(2021, 11, 30, 22, 22, 55, tzinfo=tzoffset(None, 10800))], ['62a3c2899a324', 'http://mosday.ru/news/item.php?3505923&view=full', nan], ['62a3c2899a324', 'http://mosday.ru/news/item.php?3505959&view=full', nan], ['62a3c2899a324', 'https://www.mskagency.ru/materials/3170673', nan], ['62a3c2899a324', 'https://ria.ru/20211130/reyting-1761553812.html', datetime.datetime(2021, 11, 30, 0, 0)], ['62a3c2899a324', 'https://ok.ru/silavyedi/topic/154057043949622', nan], ['62a3c2899a324', 'https://vk.com/wall-193079545_4076', nan], ['62a3c2899a324', 'https://forum.ners.ru/viewtopic.php?t=67921&start=17090', nan], ['62a3c2899a324', 'https://news.rambler.ru/moscow_city/47678811-moskva-zanyala-pervoe-mesto-v-evrope-po-innovatsiyam-v-borbe-s-covid-19/', nan], ['62a3c2899a324', 'https://upravavernadskogo.ru/moskva-zanjala-pervoe-mesto-v-evrope-po-innovacijam-v-borbe-s-covid-19', nan], ['62a3c2899a324', 'https://dikb6.ru/2021/12/01/moscow-1/', datetime.datetime(2021, 12, 1, 0, 0)], ['62a3c2899a324', 'https://regnum.ru/news/3429488.html', nan], ['62a3c2899a324', 'https://uv-kurier.ru/2021/12/03/moskva-zanyala-1-e-mesto-v-evropejskom-rejtinge-po-razrabotkam-protiv-kovida/', datetime.datetime(2021, 12, 3, 0, 0)], ['62a3c2899a324', 'https://ren.tv/news/v-rossii/910011-moskva-stala-pervoi-v-evrope-v-reitinge-antikovidnykh-innovatsii', datetime.datetime(2021, 11, 30, 22, 24, 5, tzinfo=tzoffset(None, 10800))], ['62a3c2899a324', 'https://subscribe.ru/archive/media.kommersant.kmrsntnews/202112/01171239.html/', nan], ['62a3c2899a324', 'https://www.mos.ru/news/item/99623073/', datetime.datetime(2021, 11, 30, 21, 37, tzinfo=tzoffset(None, 10800))], ['62a3c2899a324', 'https://vrachirf.ru/concilium/99664.html', nan], ['62a3c2899a324', 'https://tgstat.com/ru/channel/@izbrannoevsem/23381', nan], ['62a3c2899a324', 'https://72.ru/text/health/2021/12/01/70287620/comments/', datetime.datetime(2021, 12, 1, 0, 0)], ['62a3c2899a324', 'https://www.kommersant.ru/doc/5090994', datetime.datetime(2021, 11, 26, 3, 59, 8, tzinfo=tzoffset(None, 10800))], ['62a3c2899a324', 'https://saratov.zoon.ru/public_services/obschestvennaya_organizatsiya_ofitsery_rossii/social/', nan], ['62a3c2899a324', 'http://chad.polpred.ru/news_old?ns=1&fulltext=on&word=clr&period_count=1&sortby=agency&page=588', nan], ['62a3c2899a324', 'https://tass.ru/obschestvo/13073369', nan], ['62a3c28a1de50', 'https://msk.dixinews.ru/news/obshchestvo/moskva-stala-pervoy-v-evrope-sredi-gorodov-s-innovatsiyami-po-borbe-s-covid-19/', nan], ['62a3c28a1de50', 'http://mosday.ru/news/item.php?3505959&view=full', nan], ['62a3c28a1de50', 'http://mosday.ru/news/item.php?3505874', nan], ['62a3c28a1de50', 'https://rg.ru/2021/11/30/reg-cfo/moskva-priznana-pervoj-v-evrope-po-innovaciiam-obespechivaiushchim-ustojchivost-k-covid-19.html', datetime.datetime(2021, 11, 30, 0, 0)], ['62a3c28a1de50', 'https://www.vedomosti.ru/gorod/ourcity/articles/moskva-stala-liderom-v-evrope-v-reitinge-innovatsii-v-borbe-s-covid-19', nan], ['62a3c28a1de50', 'https://www.mperspektiva.ru/topics/moskva-stala-luchshim-gorodom-evropy-v-reytinge-innovatsiy-po-borbe-s-koronavirusom/', datetime.datetime(2021, 1, 12, 9, 0)], ['62a3c28a1de50', 'https://gazeta-savelki.ru/news/stopcovid/17680/', nan], ['62a3c28a1de50', 'https://vk.com/wall-139775488_397', nan], ['62a3c28a1de50', 'https://life.ru/p/1453755', datetime.datetime(2021, 12, 1, 0, 18, 7, tzinfo=tzoffset(None, 10800))], ['62a3c28a1de50', 'https://ria.ru/20211130/reyting-1761553812.html', datetime.datetime(2021, 11, 30, 0, 0)], ['62a3c28a1de50', 'https://news.rambler.ru/moscow_city/47678811-moskva-zanyala-pervoe-mesto-v-evrope-po-innovatsiyam-v-borbe-s-covid-19/', nan], ['62a3c28a1de50', 'https://www.kommersant.ru/doc/5100641', datetime.datetime(2021, 11, 30, 22, 12, 43, tzinfo=tzoffset(None, 10800))], ['62a3c28a1de50', 'https://www.5-tv.ru/news/367794/moskva-stala-pervoj-vevrope-itretej-vmire-vrejtinge-antikovidnyh-innovacij/', nan], ['62a3c28a1de50', 'https://www.rbc.ru/society/01/12/2021/61a6971a9a79472b703251bd', datetime.datetime(2021, 12, 1, 1, 4, 41, tzinfo=tzoffset(None, 10800))], ['62a3c28a1de50', 'https://vk.com/wall-43232739_9948', nan], ['62a3c28a1de50', 'https://publico.ru/news/vperedi-evropy-vsej/', nan], ['62a3c28a1de50', 'https://www.m24.ru/videos/gorod/30112021/319056', nan], ['62a3c28a1de50', 'https://dailystorm.ru/news/moskva-stala-pervoy-sredi-evropeyskih-gorodov-v-reytinge-innovaciy-po-borbe-s-covid-19', datetime.datetime(2021, 11, 30, 22, 15, 17, tzinfo=tzoffset(None, 3600))], ['62a3c28a1de50', 'https://www.mos.ru/news/item/99623073/', datetime.datetime(2021, 11, 30, 21, 37, tzinfo=tzoffset(None, 10800))], ['62a3c28a1de50', 'https://lt.sputniknews.ru/20211201/moskva-stala-liderom-v-evrope-v-reytinge-innovatsiy-po-borbe-s-covid-19-20230958.html', datetime.datetime(2021, 12, 1, 0, 0)], ['62a3c28a1de50', 'https://ru.armeniasputnik.am/20211201/moskva-na-pervom-meste-sredi-evropeyskikh-gorodov-v-reytinge-innovatsiy-po-borbe-s-covid-19-35912544.html', datetime.datetime(2021, 12, 1, 0, 0)], ['62a3c28a1de50', 'https://sputnik-ossetia.ru/20211201/moskva-stala-tretey-v-mirovom-reytinge-antikovidnykh-innovatsiy-14838557.html', datetime.datetime(2021, 12, 1, 0, 0)], ['62a3c28a1de50', 'https://mosgorzdrav.ru/ru-RU/news/default/card/6194.html', nan], ['62a3c28a1de50', 'https://sputnik.by/20211201/moskva-stala-pervoy-sredi-evropeyskikh-gorodov-reytinge-innovatsiy-v-borbe-s-covid-19-1058374294.html', datetime.datetime(2021, 12, 1, 0, 0)], ['62a3c28a1de50', 'https://ict.moscow/research/reiting-innovatsii-pomogaiushchikh-v-formirovanii-ustoichivosti-covid-19/', nan], ['62a3c28a9c103', 'https://matveychev-oleg.livejournal.com/12400406.html', nan], ['62a3c28a9c103', 'https://news.myseldon.com/ru/news/index/263070154', datetime.datetime(2021, 12, 1, 6, 50, 22, tzinfo=tzutc())], ['62a3c28a9c103', 'https://icmos.ru/news/moskva-priznana-pervoi-v-evrope-po-innovaciyam-obespecivayushhim-ustoicivost-k-covid-19', nan], ['62a3c28a9c103', 'https://ru.sputnik.kz/20211201/moscow-reyting-antikovidnye-innovatsii-18796711.html', datetime.datetime(2021, 12, 1, 0, 0)], ['62a3c28a9c103', 'https://vk.com/@mos-preview-358362347-1934392265', nan], ['62a3c28a9c103', 'https://www.rosbalt.ru/moscow/2021/11/30/1933461.html', datetime.datetime(2021, 11, 30, 0, 0)], ['62a3c28a9c103', 'https://vz.ru/news/2021/11/30/1131809.html', datetime.datetime(2021, 11, 30, 0, 0)], ['62a3c28a9c103', 'https://ria.ru/20211130/reyting-1761553812.html', datetime.datetime(2021, 11, 30, 0, 0)], ['62a3c28a9c103', 'https://rg.ru/2021/11/30/reg-cfo/moskva-priznana-pervoj-v-evrope-po-innovaciiam-obespechivaiushchim-ustojchivost-k-covid-19.html', datetime.datetime(2021, 11, 30, 0, 0)], ['62a3c28a9c103', 'https://www.mperspektiva.ru/topics/moskva-stala-luchshim-gorodom-evropy-v-reytinge-innovatsiy-po-borbe-s-koronavirusom/', datetime.datetime(2021, 1, 12, 9, 0)], ['62a3c28a9c103', 'https://general-ivanov1.livejournal.com/975537.html', nan], ['62a3c28a9c103', 'https://life.ru/p/1453755', datetime.datetime(2021, 12, 1, 0, 18, 7, tzinfo=tzoffset(None, 10800))], ['62a3c28a9c103', 'https://www.vedomosti.ru/gorod/ourcity/articles/moskva-stala-liderom-v-evrope-v-reitinge-innovatsii-v-borbe-s-covid-19', nan], ['62a3c28a9c103', 'https://tvzvezda.ru/news/202111302324-X44s8.html', datetime.datetime(2021, 11, 30, 23, 24, 1, tzinfo=tzoffset(None, 10800))], ['62a3c28a9c103', 'https://aif.ru/society/moskva_zanyala_pervoe_mesto_v_evrope_po_innovaciyam_v_borbe_s_covid-19', datetime.datetime(2021, 11, 30, 22, 45)], ['62a3c28a9c103', 'https://news.rambler.ru/moscow_city/47678811-moskva-zanyala-pervoe-mesto-v-evrope-po-innovatsiyam-v-borbe-s-covid-19/', nan], ['62a3c28a9c103', 'https://www.m24.ru/news/gorod/30112021/194371', nan], ['62a3c28a9c103', 'https://www.metronews.ru/novosti/moscow/reviews/moskva-zanyala-pervoe-mesto-v-evrope-po-innovaciyam-v-borbe-s-covid-19-1864205/', datetime.datetime(2021, 12, 1, 9, 35, tzinfo=tzoffset(None, 10800))], ['62a3c28a9c103', 'https://www.finanz.ru/novosti/aktsii/moskva-zanyala-pervoe-mesto-sredi-gorodov-evropy-v-reytinge-innovaciy-po-borbe-s-covid-19-1031013738', nan], ['62a3c28a9c103', 'https://www.rbc.ru/society/01/12/2021/61a6971a9a79472b703251bd', datetime.datetime(2021, 12, 1, 1, 4, 41, tzinfo=tzoffset(None, 10800))], ['62a3c28a9c103', 'https://publico.ru/news/vperedi-evropy-vsej/', nan], ['62a3c28a9c103', 'https://tass.ru/obschestvo/13073369', nan], ['62a3c28a9c103', 'https://sputnik-georgia.ru/20211201/moskva--lider-sredi-gorodov-evropy-v-reytinge-innovatsiy-pomogayuschikh-v-borbe-s-covid-19-262509363.html', datetime.datetime(2021, 12, 1, 0, 0)], ['62a3c28a9c103', 'https://govoritmoskva.ru/news/296711/', nan], ['62a3c28a9c103', 'https://moskva.bezformata.com/listnews/pervoy-v-evrope-v-reytinge-innovatciy/100117778/', nan], ['62a3c28a9c103', 'https://chistopol.ru/lenta/moskva-stala-pervoj-sredi-evropejskih-gorodov-v-rejtinge-innovatsij-po-borbe-s-covid-19/', nan], ['62a3c28a9c103', 'https://www.mos.ru/news/item/99623073/', datetime.datetime(2021, 11, 30, 21, 37, tzinfo=tzoffset(None, 10800))], ['62a3c28a9c103', 'https://ru.armeniasputnik.am/20211201/moskva-na-pervom-meste-sredi-evropeyskikh-gorodov-v-reytinge-innovatsiy-po-borbe-s-covid-19-35912544.html', datetime.datetime(2021, 12, 1, 0, 0)], ['62a3c28a9c103', 'https://ict.moscow/research/reiting-innovatsii-pomogaiushchikh-v-formirovanii-ustoichivosti-covid-19/', nan], ['62a3c28a9c103', 'https://dailystorm.ru/news/moskva-stala-pervoy-sredi-evropeyskih-gorodov-v-reytinge-innovaciy-po-borbe-s-covid-19', datetime.datetime(2021, 11, 30, 22, 15, 17, tzinfo=tzoffset(None, 3600))], ['62a3c28a9c103', 'https://sputnik.by/20211201/moskva-stala-pervoy-sredi-evropeyskikh-gorodov-reytinge-innovatsiy-v-borbe-s-covid-19-1058374294.html', datetime.datetime(2021, 12, 1, 0, 0)], ['62a3c28a9c103', 'https://az.sputniknews.ru/20211201/moskva-operedila-strany-evropy-v-reytinge-innovatsiy-pomogayuschikh-borotsya-s-covid-19-436836560.html', datetime.datetime(2021, 12, 1, 0, 0)], ['62a3c28a9c103', 'https://lv.sputniknews.ru/20211201/moskva-stala-pervoy-sredi-gorodov-evropy-v-reytinge-antikovidnykh-innovatsiy-19430273.html', datetime.datetime(2021, 12, 1, 0, 0)], ['62a3c28a9c103', 'https://mephi.ru/content/public/uploads/files/news/p_prof_kontur_10_11_2021.pdf', nan], ['62a3c28b274bc', 'https://www.rosbalt.ru/moscow/2021/11/30/1933461.html', datetime.datetime(2021, 11, 30, 0, 0)], ['62a3c28b274bc', 'https://sputnik-georgia.ru/20211201/moskva--lider-sredi-gorodov-evropy-v-reytinge-innovatsiy-pomogayuschikh-v-borbe-s-covid-19-262509363.html', datetime.datetime(2021, 12, 1, 0, 0)], ['62a3c28b274bc', 'https://www.timeout.ru/msk/feature/moskva-zanyala-trete-mesto-v-rejtinge-innovaczij-po-borbe-s-koronavirusom', nan], ['62a3c28b274bc', 'https://news.rambler.ru/moscow_city/47678811-moskva-zanyala-pervoe-mesto-v-evrope-po-innovatsiyam-v-borbe-s-covid-19/', nan], ['62a3c28b274bc', 'https://gazeta-otradnoe.ru/moskva-priznana-pervoj-v-evrope-po-innovatsiyam-obespechivayushhim-ustojchivost-k-covid-19/', datetime.datetime(2021, 12, 1, 9, 38, tzinfo=tzoffset(None, 10800))], ['62a3c28b274bc', 'https://ria.ru/20211130/reyting-1761553812.html', datetime.datetime(2021, 11, 30, 0, 0)], ['62a3c28b274bc', 'https://www.vedomosti.ru/gorod/ourcity/articles/moskva-stala-liderom-v-evrope-v-reitinge-innovatsii-v-borbe-s-covid-19', nan], ['62a3c28b274bc', 'https://pikabu.ru/story/moskva_zanyala_1_mesto_sredi_evropeyskikh_gorodov_v_reytinge_po_innovatsionnoy_ustoychivosti_k_koronavirusu_8658786', nan], ['62a3c28b274bc', 'https://www.mos.ru/news/item/99623073/', datetime.datetime(2021, 11, 30, 21, 37, tzinfo=tzoffset(None, 10800))], ['62a3c28b274bc', 'https://tass.ru/obschestvo/13073369', nan], ['62a3c28b274bc', 'https://koronavirus.center/news/moskva-stala-pervoy-sredi-evropeyskih/1310803', datetime.datetime(2021, 11, 30, 22, 40, 21, tzinfo=tzoffset(None, 10800))], ['62a3c28b274bc', 'https://www.5-tv.ru/news/367794/moskva-stala-pervoj-vevrope-itretej-vmire-vrejtinge-antikovidnyh-innovacij/', nan], ['62a3c28b274bc', 'https://sputnik-abkhazia.ru/20211201/moskva-stala-pervoy-v-evrope-i-tretey-v-mire-v-reytinge-antikovidnykh-innovatsiy-1036547477.html', datetime.datetime(2021, 12, 1, 0, 0)], ['62a3c28ba845a', 'https://fesn.ranepa.ru/3291', nan], ['62a3c28ba845a', 'https://www.Ranepa.ru/news/proektnyy-ofis-fesn-rankhigs-zaymetsya-razvitiem-novykh-napravleniy-deyatelnosti/', nan]]\n"
     ]
    }
   ],
   "source": [
    "import pandas as pd\n",
    "import numpy as np\n",
    "\n",
    "result_list = list()\n",
    "for key in result.keys():\n",
    "    for i in range(len(result[key])):\n",
    "        val = result[key][i][1]\n",
    "        if len(str(result[key][i][1])) < 5:\n",
    "            val = np.nan\n",
    "        result_list.append([key, result[key][i][0], val])\n",
    "\n",
    "print(result_list)"
   ],
   "metadata": {
    "collapsed": false,
    "pycharm": {
     "name": "#%%\n"
    }
   }
  },
  {
   "cell_type": "code",
   "execution_count": 148,
   "outputs": [
    {
     "data": {
      "text/plain": "               uid                                                url  \\\n0    62a3c2880e77c  https://innoagency.ru/ru/news/news/moskvazanya...   \n1    62a3c2880e77c  https://matveychev-oleg.livejournal.com/124004...   \n2    62a3c2880e77c  https://ru.sputnik.kz/20211201/moscow-reyting-...   \n3    62a3c2880e77c             http://mosday.ru/news/item.php?3505963   \n4    62a3c2880e77c  https://rg.ru/2021/11/30/reg-cfo/moskva-prizna...   \n..             ...                                                ...   \n198  62a3c28b274bc  https://koronavirus.center/news/moskva-stala-p...   \n199  62a3c28b274bc  https://www.5-tv.ru/news/367794/moskva-stala-p...   \n200  62a3c28b274bc  https://sputnik-abkhazia.ru/20211201/moskva-st...   \n201  62a3c28ba845a                        https://fesn.ranepa.ru/3291   \n202  62a3c28ba845a  https://www.Ranepa.ru/news/proektnyy-ofis-fesn...   \n\n                          date  \n0                         None  \n1                         None  \n2          2021-12-01 00:00:00  \n3                         None  \n4          2021-11-30 00:00:00  \n..                         ...  \n198  2021-11-30 22:40:21+03:00  \n199                        NaN  \n200        2021-12-01 00:00:00  \n201                        NaN  \n202                        NaN  \n\n[203 rows x 3 columns]",
      "text/html": "<div>\n<style scoped>\n    .dataframe tbody tr th:only-of-type {\n        vertical-align: middle;\n    }\n\n    .dataframe tbody tr th {\n        vertical-align: top;\n    }\n\n    .dataframe thead th {\n        text-align: right;\n    }\n</style>\n<table border=\"1\" class=\"dataframe\">\n  <thead>\n    <tr style=\"text-align: right;\">\n      <th></th>\n      <th>uid</th>\n      <th>url</th>\n      <th>date</th>\n    </tr>\n  </thead>\n  <tbody>\n    <tr>\n      <th>0</th>\n      <td>62a3c2880e77c</td>\n      <td>https://innoagency.ru/ru/news/news/moskvazanya...</td>\n      <td>None</td>\n    </tr>\n    <tr>\n      <th>1</th>\n      <td>62a3c2880e77c</td>\n      <td>https://matveychev-oleg.livejournal.com/124004...</td>\n      <td>None</td>\n    </tr>\n    <tr>\n      <th>2</th>\n      <td>62a3c2880e77c</td>\n      <td>https://ru.sputnik.kz/20211201/moscow-reyting-...</td>\n      <td>2021-12-01 00:00:00</td>\n    </tr>\n    <tr>\n      <th>3</th>\n      <td>62a3c2880e77c</td>\n      <td>http://mosday.ru/news/item.php?3505963</td>\n      <td>None</td>\n    </tr>\n    <tr>\n      <th>4</th>\n      <td>62a3c2880e77c</td>\n      <td>https://rg.ru/2021/11/30/reg-cfo/moskva-prizna...</td>\n      <td>2021-11-30 00:00:00</td>\n    </tr>\n    <tr>\n      <th>...</th>\n      <td>...</td>\n      <td>...</td>\n      <td>...</td>\n    </tr>\n    <tr>\n      <th>198</th>\n      <td>62a3c28b274bc</td>\n      <td>https://koronavirus.center/news/moskva-stala-p...</td>\n      <td>2021-11-30 22:40:21+03:00</td>\n    </tr>\n    <tr>\n      <th>199</th>\n      <td>62a3c28b274bc</td>\n      <td>https://www.5-tv.ru/news/367794/moskva-stala-p...</td>\n      <td>NaN</td>\n    </tr>\n    <tr>\n      <th>200</th>\n      <td>62a3c28b274bc</td>\n      <td>https://sputnik-abkhazia.ru/20211201/moskva-st...</td>\n      <td>2021-12-01 00:00:00</td>\n    </tr>\n    <tr>\n      <th>201</th>\n      <td>62a3c28ba845a</td>\n      <td>https://fesn.ranepa.ru/3291</td>\n      <td>NaN</td>\n    </tr>\n    <tr>\n      <th>202</th>\n      <td>62a3c28ba845a</td>\n      <td>https://www.Ranepa.ru/news/proektnyy-ofis-fesn...</td>\n      <td>NaN</td>\n    </tr>\n  </tbody>\n</table>\n<p>203 rows × 3 columns</p>\n</div>"
     },
     "execution_count": 148,
     "metadata": {},
     "output_type": "execute_result"
    }
   ],
   "source": [
    "df = pd.DataFrame(result_list, columns=['uid', 'url', 'date'])\n",
    "df"
   ],
   "metadata": {
    "collapsed": false,
    "pycharm": {
     "name": "#%%\n"
    }
   }
  },
  {
   "cell_type": "code",
   "execution_count": 75,
   "outputs": [],
   "source": [
    "article = Article(url=df.loc[200]['url'])\n",
    "article.download()\n",
    "article.parse()\n",
    "article.publish_date"
   ],
   "metadata": {
    "collapsed": false,
    "pycharm": {
     "name": "#%%\n"
    }
   }
  },
  {
   "cell_type": "code",
   "execution_count": 113,
   "outputs": [],
   "source": [
    "for i in df[df.date.isna()].index:\n",
    "    try:\n",
    "        df['date'][i] = get_url_creation_date(df['url'][i])\n",
    "    except:\n",
    "        pass"
   ],
   "metadata": {
    "collapsed": false,
    "pycharm": {
     "name": "#%%\n"
    }
   }
  },
  {
   "cell_type": "code",
   "execution_count": 114,
   "outputs": [
    {
     "data": {
      "text/plain": "               uid                                                url  \\\n0    62a3c2880e77c  https://innoagency.ru/ru/news/news/moskvazanya...   \n1    62a3c2880e77c  https://matveychev-oleg.livejournal.com/124004...   \n2    62a3c2880e77c  https://ru.sputnik.kz/20211201/moscow-reyting-...   \n3    62a3c2880e77c             http://mosday.ru/news/item.php?3505963   \n4    62a3c2880e77c  https://rg.ru/2021/11/30/reg-cfo/moskva-prizna...   \n..             ...                                                ...   \n198  62a3c28b274bc  https://koronavirus.center/news/moskva-stala-p...   \n199  62a3c28b274bc  https://www.5-tv.ru/news/367794/moskva-stala-p...   \n200  62a3c28b274bc  https://sputnik-abkhazia.ru/20211201/moskva-st...   \n201  62a3c28ba845a                        https://fesn.ranepa.ru/3291   \n202  62a3c28ba845a  https://www.Ranepa.ru/news/proektnyy-ofis-fesn...   \n\n                          date  \n0                         None  \n1                         None  \n2          2021-12-01 00:00:00  \n3     13 май 2022 02:55:00 GMT  \n4          2021-11-30 00:00:00  \n..                         ...  \n198  2021-11-30 22:40:21+03:00  \n199                       None  \n200        2021-12-01 00:00:00  \n201                       None  \n202                       None  \n\n[203 rows x 3 columns]",
      "text/html": "<div>\n<style scoped>\n    .dataframe tbody tr th:only-of-type {\n        vertical-align: middle;\n    }\n\n    .dataframe tbody tr th {\n        vertical-align: top;\n    }\n\n    .dataframe thead th {\n        text-align: right;\n    }\n</style>\n<table border=\"1\" class=\"dataframe\">\n  <thead>\n    <tr style=\"text-align: right;\">\n      <th></th>\n      <th>uid</th>\n      <th>url</th>\n      <th>date</th>\n    </tr>\n  </thead>\n  <tbody>\n    <tr>\n      <th>0</th>\n      <td>62a3c2880e77c</td>\n      <td>https://innoagency.ru/ru/news/news/moskvazanya...</td>\n      <td>None</td>\n    </tr>\n    <tr>\n      <th>1</th>\n      <td>62a3c2880e77c</td>\n      <td>https://matveychev-oleg.livejournal.com/124004...</td>\n      <td>None</td>\n    </tr>\n    <tr>\n      <th>2</th>\n      <td>62a3c2880e77c</td>\n      <td>https://ru.sputnik.kz/20211201/moscow-reyting-...</td>\n      <td>2021-12-01 00:00:00</td>\n    </tr>\n    <tr>\n      <th>3</th>\n      <td>62a3c2880e77c</td>\n      <td>http://mosday.ru/news/item.php?3505963</td>\n      <td>13 май 2022 02:55:00 GMT</td>\n    </tr>\n    <tr>\n      <th>4</th>\n      <td>62a3c2880e77c</td>\n      <td>https://rg.ru/2021/11/30/reg-cfo/moskva-prizna...</td>\n      <td>2021-11-30 00:00:00</td>\n    </tr>\n    <tr>\n      <th>...</th>\n      <td>...</td>\n      <td>...</td>\n      <td>...</td>\n    </tr>\n    <tr>\n      <th>198</th>\n      <td>62a3c28b274bc</td>\n      <td>https://koronavirus.center/news/moskva-stala-p...</td>\n      <td>2021-11-30 22:40:21+03:00</td>\n    </tr>\n    <tr>\n      <th>199</th>\n      <td>62a3c28b274bc</td>\n      <td>https://www.5-tv.ru/news/367794/moskva-stala-p...</td>\n      <td>None</td>\n    </tr>\n    <tr>\n      <th>200</th>\n      <td>62a3c28b274bc</td>\n      <td>https://sputnik-abkhazia.ru/20211201/moskva-st...</td>\n      <td>2021-12-01 00:00:00</td>\n    </tr>\n    <tr>\n      <th>201</th>\n      <td>62a3c28ba845a</td>\n      <td>https://fesn.ranepa.ru/3291</td>\n      <td>None</td>\n    </tr>\n    <tr>\n      <th>202</th>\n      <td>62a3c28ba845a</td>\n      <td>https://www.Ranepa.ru/news/proektnyy-ofis-fesn...</td>\n      <td>None</td>\n    </tr>\n  </tbody>\n</table>\n<p>203 rows × 3 columns</p>\n</div>"
     },
     "execution_count": 114,
     "metadata": {},
     "output_type": "execute_result"
    }
   ],
   "source": [
    "df"
   ],
   "metadata": {
    "collapsed": false,
    "pycharm": {
     "name": "#%%\n"
    }
   }
  },
  {
   "cell_type": "code",
   "execution_count": 123,
   "outputs": [
    {
     "data": {
      "text/plain": "               uid                                                url  \\\n0    62a3c2880e77c  https://innoagency.ru/ru/news/news/moskvazanya...   \n1    62a3c2880e77c  https://matveychev-oleg.livejournal.com/124004...   \n2    62a3c2880e77c  https://ru.sputnik.kz/20211201/moscow-reyting-...   \n3    62a3c2880e77c             http://mosday.ru/news/item.php?3505963   \n4    62a3c2880e77c  https://rg.ru/2021/11/30/reg-cfo/moskva-prizna...   \n..             ...                                                ...   \n198  62a3c28b274bc  https://koronavirus.center/news/moskva-stala-p...   \n199  62a3c28b274bc  https://www.5-tv.ru/news/367794/moskva-stala-p...   \n200  62a3c28b274bc  https://sputnik-abkhazia.ru/20211201/moskva-st...   \n201  62a3c28ba845a                        https://fesn.ranepa.ru/3291   \n202  62a3c28ba845a  https://www.Ranepa.ru/news/proektnyy-ofis-fesn...   \n\n                          date  \n0                         None  \n1                         None  \n2          2021-12-01 00:00:00  \n3     13 май 2022 02:55:00 GMT  \n4          2021-11-30 00:00:00  \n..                         ...  \n198  2021-11-30 22:40:21+03:00  \n199                       None  \n200        2021-12-01 00:00:00  \n201                       None  \n202                       None  \n\n[203 rows x 3 columns]",
      "text/html": "<div>\n<style scoped>\n    .dataframe tbody tr th:only-of-type {\n        vertical-align: middle;\n    }\n\n    .dataframe tbody tr th {\n        vertical-align: top;\n    }\n\n    .dataframe thead th {\n        text-align: right;\n    }\n</style>\n<table border=\"1\" class=\"dataframe\">\n  <thead>\n    <tr style=\"text-align: right;\">\n      <th></th>\n      <th>uid</th>\n      <th>url</th>\n      <th>date</th>\n    </tr>\n  </thead>\n  <tbody>\n    <tr>\n      <th>0</th>\n      <td>62a3c2880e77c</td>\n      <td>https://innoagency.ru/ru/news/news/moskvazanya...</td>\n      <td>None</td>\n    </tr>\n    <tr>\n      <th>1</th>\n      <td>62a3c2880e77c</td>\n      <td>https://matveychev-oleg.livejournal.com/124004...</td>\n      <td>None</td>\n    </tr>\n    <tr>\n      <th>2</th>\n      <td>62a3c2880e77c</td>\n      <td>https://ru.sputnik.kz/20211201/moscow-reyting-...</td>\n      <td>2021-12-01 00:00:00</td>\n    </tr>\n    <tr>\n      <th>3</th>\n      <td>62a3c2880e77c</td>\n      <td>http://mosday.ru/news/item.php?3505963</td>\n      <td>13 май 2022 02:55:00 GMT</td>\n    </tr>\n    <tr>\n      <th>4</th>\n      <td>62a3c2880e77c</td>\n      <td>https://rg.ru/2021/11/30/reg-cfo/moskva-prizna...</td>\n      <td>2021-11-30 00:00:00</td>\n    </tr>\n    <tr>\n      <th>...</th>\n      <td>...</td>\n      <td>...</td>\n      <td>...</td>\n    </tr>\n    <tr>\n      <th>198</th>\n      <td>62a3c28b274bc</td>\n      <td>https://koronavirus.center/news/moskva-stala-p...</td>\n      <td>2021-11-30 22:40:21+03:00</td>\n    </tr>\n    <tr>\n      <th>199</th>\n      <td>62a3c28b274bc</td>\n      <td>https://www.5-tv.ru/news/367794/moskva-stala-p...</td>\n      <td>None</td>\n    </tr>\n    <tr>\n      <th>200</th>\n      <td>62a3c28b274bc</td>\n      <td>https://sputnik-abkhazia.ru/20211201/moskva-st...</td>\n      <td>2021-12-01 00:00:00</td>\n    </tr>\n    <tr>\n      <th>201</th>\n      <td>62a3c28ba845a</td>\n      <td>https://fesn.ranepa.ru/3291</td>\n      <td>None</td>\n    </tr>\n    <tr>\n      <th>202</th>\n      <td>62a3c28ba845a</td>\n      <td>https://www.Ranepa.ru/news/proektnyy-ofis-fesn...</td>\n      <td>None</td>\n    </tr>\n  </tbody>\n</table>\n<p>203 rows × 3 columns</p>\n</div>"
     },
     "execution_count": 123,
     "metadata": {},
     "output_type": "execute_result"
    }
   ],
   "source": [
    "df['date'] = df['date'].apply(str).astype(str)\n",
    "df"
   ],
   "metadata": {
    "collapsed": false,
    "pycharm": {
     "name": "#%%\n"
    }
   }
  },
  {
   "cell_type": "code",
   "execution_count": 124,
   "outputs": [],
   "source": [
    "df.to_excel('msh_1.xlsx')"
   ],
   "metadata": {
    "collapsed": false,
    "pycharm": {
     "name": "#%%\n"
    }
   }
  },
  {
   "cell_type": "code",
   "execution_count": 125,
   "outputs": [
    {
     "data": {
      "text/plain": "   Unnamed: 0            uid  \\\n0           6  62a3c2880e77c   \n1          53  62a3c288922f2   \n2         102  62a3c2891c03b   \n3         125  62a3c2899a324   \n4         134  62a3c28a1de50   \n5         163  62a3c28a9c103   \n6         188  62a3c28b274bc   \n7         201  62a3c28ba845a   \n\n                                                 url                 date  \n0  https://www.mperspektiva.ru/topics/moskva-stal...  2021-01-12 09:00:00  \n1  https://www.mperspektiva.ru/topics/moskva-stal...  2021-01-12 00:00:00  \n2             https://www.mos.ru/news/item/96369073/  2021-09-22 00:00:00  \n3              https://www.kommersant.ru/doc/5090994  2021-11-26 00:00:00  \n4  https://www.mperspektiva.ru/topics/moskva-stal...  2021-01-12 00:00:00  \n5  https://www.mperspektiva.ru/topics/moskva-stal...  2021-01-12 09:00:00  \n6  https://www.rosbalt.ru/moscow/2021/11/30/19334...  2021-11-30 00:00:00  \n7                        https://fesn.ranepa.ru/3291                 None  ",
      "text/html": "<div>\n<style scoped>\n    .dataframe tbody tr th:only-of-type {\n        vertical-align: middle;\n    }\n\n    .dataframe tbody tr th {\n        vertical-align: top;\n    }\n\n    .dataframe thead th {\n        text-align: right;\n    }\n</style>\n<table border=\"1\" class=\"dataframe\">\n  <thead>\n    <tr style=\"text-align: right;\">\n      <th></th>\n      <th>Unnamed: 0</th>\n      <th>uid</th>\n      <th>url</th>\n      <th>date</th>\n    </tr>\n  </thead>\n  <tbody>\n    <tr>\n      <th>0</th>\n      <td>6</td>\n      <td>62a3c2880e77c</td>\n      <td>https://www.mperspektiva.ru/topics/moskva-stal...</td>\n      <td>2021-01-12 09:00:00</td>\n    </tr>\n    <tr>\n      <th>1</th>\n      <td>53</td>\n      <td>62a3c288922f2</td>\n      <td>https://www.mperspektiva.ru/topics/moskva-stal...</td>\n      <td>2021-01-12 00:00:00</td>\n    </tr>\n    <tr>\n      <th>2</th>\n      <td>102</td>\n      <td>62a3c2891c03b</td>\n      <td>https://www.mos.ru/news/item/96369073/</td>\n      <td>2021-09-22 00:00:00</td>\n    </tr>\n    <tr>\n      <th>3</th>\n      <td>125</td>\n      <td>62a3c2899a324</td>\n      <td>https://www.kommersant.ru/doc/5090994</td>\n      <td>2021-11-26 00:00:00</td>\n    </tr>\n    <tr>\n      <th>4</th>\n      <td>134</td>\n      <td>62a3c28a1de50</td>\n      <td>https://www.mperspektiva.ru/topics/moskva-stal...</td>\n      <td>2021-01-12 00:00:00</td>\n    </tr>\n    <tr>\n      <th>5</th>\n      <td>163</td>\n      <td>62a3c28a9c103</td>\n      <td>https://www.mperspektiva.ru/topics/moskva-stal...</td>\n      <td>2021-01-12 09:00:00</td>\n    </tr>\n    <tr>\n      <th>6</th>\n      <td>188</td>\n      <td>62a3c28b274bc</td>\n      <td>https://www.rosbalt.ru/moscow/2021/11/30/19334...</td>\n      <td>2021-11-30 00:00:00</td>\n    </tr>\n    <tr>\n      <th>7</th>\n      <td>201</td>\n      <td>62a3c28ba845a</td>\n      <td>https://fesn.ranepa.ru/3291</td>\n      <td>None</td>\n    </tr>\n  </tbody>\n</table>\n</div>"
     },
     "execution_count": 125,
     "metadata": {},
     "output_type": "execute_result"
    }
   ],
   "source": [
    "df = pd.read_excel('msh_out.xlsx')\n",
    "df"
   ],
   "metadata": {
    "collapsed": false,
    "pycharm": {
     "name": "#%%\n"
    }
   }
  },
  {
   "cell_type": "code",
   "execution_count": 132,
   "outputs": [
    {
     "name": "stderr",
     "output_type": "stream",
     "text": [
      "/var/folders/gp/7c7n5yqd14z8b8k4499t4r_m0000gn/T/ipykernel_26424/3791531923.py:3: SettingWithCopyWarning: \n",
      "A value is trying to be set on a copy of a slice from a DataFrame\n",
      "\n",
      "See the caveats in the documentation: https://pandas.pydata.org/pandas-docs/stable/user_guide/indexing.html#returning-a-view-versus-a-copy\n",
      "  df['initial_text'][i] = test_cases[i][1]\n"
     ]
    },
    {
     "data": {
      "text/plain": "   Unnamed: 0            uid  \\\n0           6  62a3c2880e77c   \n1          53  62a3c288922f2   \n2         102  62a3c2891c03b   \n3         125  62a3c2899a324   \n4         134  62a3c28a1de50   \n5         163  62a3c28a9c103   \n6         188  62a3c28b274bc   \n7         201  62a3c28ba845a   \n\n                                                 url                 date  \\\n0  https://www.mperspektiva.ru/topics/moskva-stal...  2021-01-12 09:00:00   \n1  https://www.mperspektiva.ru/topics/moskva-stal...  2021-01-12 00:00:00   \n2             https://www.mos.ru/news/item/96369073/  2021-09-22 00:00:00   \n3              https://www.kommersant.ru/doc/5090994  2021-11-26 00:00:00   \n4  https://www.mperspektiva.ru/topics/moskva-stal...  2021-01-12 00:00:00   \n5  https://www.mperspektiva.ru/topics/moskva-stal...  2021-01-12 09:00:00   \n6  https://www.rosbalt.ru/moscow/2021/11/30/19334...  2021-11-30 00:00:00   \n7                        https://fesn.ranepa.ru/3291                 None   \n\n                                        initial_text source_text  \n0  В мире Москва занимает третье место, уступая л...        None  \n1  В мире российская столица заняла третье место,...        None  \n2  Москва обошла европейские столицы в рейтинге и...        None  \n3  Исследовательское агентство StartupBlink соста...        None  \n4  Москва заняла первое место среди европейских г...        None  \n5  В мире Москва занимает лишь восьмое место, уст...        None  \n6  Бостон признан первым среди европейских городо...        None  \n7  Ежегодно в мае-июне Проектный офис Факультета ...        None  ",
      "text/html": "<div>\n<style scoped>\n    .dataframe tbody tr th:only-of-type {\n        vertical-align: middle;\n    }\n\n    .dataframe tbody tr th {\n        vertical-align: top;\n    }\n\n    .dataframe thead th {\n        text-align: right;\n    }\n</style>\n<table border=\"1\" class=\"dataframe\">\n  <thead>\n    <tr style=\"text-align: right;\">\n      <th></th>\n      <th>Unnamed: 0</th>\n      <th>uid</th>\n      <th>url</th>\n      <th>date</th>\n      <th>initial_text</th>\n      <th>source_text</th>\n    </tr>\n  </thead>\n  <tbody>\n    <tr>\n      <th>0</th>\n      <td>6</td>\n      <td>62a3c2880e77c</td>\n      <td>https://www.mperspektiva.ru/topics/moskva-stal...</td>\n      <td>2021-01-12 09:00:00</td>\n      <td>В мире Москва занимает третье место, уступая л...</td>\n      <td>None</td>\n    </tr>\n    <tr>\n      <th>1</th>\n      <td>53</td>\n      <td>62a3c288922f2</td>\n      <td>https://www.mperspektiva.ru/topics/moskva-stal...</td>\n      <td>2021-01-12 00:00:00</td>\n      <td>В мире российская столица заняла третье место,...</td>\n      <td>None</td>\n    </tr>\n    <tr>\n      <th>2</th>\n      <td>102</td>\n      <td>62a3c2891c03b</td>\n      <td>https://www.mos.ru/news/item/96369073/</td>\n      <td>2021-09-22 00:00:00</td>\n      <td>Москва обошла европейские столицы в рейтинге и...</td>\n      <td>None</td>\n    </tr>\n    <tr>\n      <th>3</th>\n      <td>125</td>\n      <td>62a3c2899a324</td>\n      <td>https://www.kommersant.ru/doc/5090994</td>\n      <td>2021-11-26 00:00:00</td>\n      <td>Исследовательское агентство StartupBlink соста...</td>\n      <td>None</td>\n    </tr>\n    <tr>\n      <th>4</th>\n      <td>134</td>\n      <td>62a3c28a1de50</td>\n      <td>https://www.mperspektiva.ru/topics/moskva-stal...</td>\n      <td>2021-01-12 00:00:00</td>\n      <td>Москва заняла первое место среди европейских г...</td>\n      <td>None</td>\n    </tr>\n    <tr>\n      <th>5</th>\n      <td>163</td>\n      <td>62a3c28a9c103</td>\n      <td>https://www.mperspektiva.ru/topics/moskva-stal...</td>\n      <td>2021-01-12 09:00:00</td>\n      <td>В мире Москва занимает лишь восьмое место, уст...</td>\n      <td>None</td>\n    </tr>\n    <tr>\n      <th>6</th>\n      <td>188</td>\n      <td>62a3c28b274bc</td>\n      <td>https://www.rosbalt.ru/moscow/2021/11/30/19334...</td>\n      <td>2021-11-30 00:00:00</td>\n      <td>Бостон признан первым среди европейских городо...</td>\n      <td>None</td>\n    </tr>\n    <tr>\n      <th>7</th>\n      <td>201</td>\n      <td>62a3c28ba845a</td>\n      <td>https://fesn.ranepa.ru/3291</td>\n      <td>None</td>\n      <td>Ежегодно в мае-июне Проектный офис Факультета ...</td>\n      <td>None</td>\n    </tr>\n  </tbody>\n</table>\n</div>"
     },
     "execution_count": 132,
     "metadata": {},
     "output_type": "execute_result"
    }
   ],
   "source": [
    "df['initial_text'] = None\n",
    "for i in range(len(test_cases)):\n",
    "    df['initial_text'][i] = test_cases[i][1]\n",
    "df"
   ],
   "metadata": {
    "collapsed": false,
    "pycharm": {
     "name": "#%%\n"
    }
   }
  },
  {
   "cell_type": "code",
   "execution_count": 135,
   "outputs": [
    {
     "name": "stderr",
     "output_type": "stream",
     "text": [
      "/var/folders/gp/7c7n5yqd14z8b8k4499t4r_m0000gn/T/ipykernel_26424/3817476196.py:6: SettingWithCopyWarning: \n",
      "A value is trying to be set on a copy of a slice from a DataFrame\n",
      "\n",
      "See the caveats in the documentation: https://pandas.pydata.org/pandas-docs/stable/user_guide/indexing.html#returning-a-view-versus-a-copy\n",
      "  df['source_text'][i] = article.text\n"
     ]
    },
    {
     "data": {
      "text/plain": "   Unnamed: 0            uid  \\\n0           6  62a3c2880e77c   \n1          53  62a3c288922f2   \n2         102  62a3c2891c03b   \n3         125  62a3c2899a324   \n4         134  62a3c28a1de50   \n5         163  62a3c28a9c103   \n6         188  62a3c28b274bc   \n7         201  62a3c28ba845a   \n\n                                                 url                 date  \\\n0  https://www.mperspektiva.ru/topics/moskva-stal...  2021-01-12 09:00:00   \n1  https://www.mperspektiva.ru/topics/moskva-stal...  2021-01-12 00:00:00   \n2             https://www.mos.ru/news/item/96369073/  2021-09-22 00:00:00   \n3              https://www.kommersant.ru/doc/5090994  2021-11-26 00:00:00   \n4  https://www.mperspektiva.ru/topics/moskva-stal...  2021-01-12 00:00:00   \n5  https://www.mperspektiva.ru/topics/moskva-stal...  2021-01-12 09:00:00   \n6  https://www.rosbalt.ru/moscow/2021/11/30/19334...  2021-11-30 00:00:00   \n7                        https://fesn.ranepa.ru/3291                 None   \n\n                                        initial_text  \\\n0  В мире Москва занимает третье место, уступая л...   \n1  В мире российская столица заняла третье место,...   \n2  Москва обошла европейские столицы в рейтинге и...   \n3  Исследовательское агентство StartupBlink соста...   \n4  Москва заняла первое место среди европейских г...   \n5  В мире Москва занимает лишь восьмое место, уст...   \n6  Бостон признан первым среди европейских городо...   \n7  Ежегодно в мае-июне Проектный офис Факультета ...   \n\n                                         source_text  \n0                                                     \n1                                                     \n2  Алгоритмы компьютерного зрения на основе искус...  \n3  253 1 мин. ...\\n\\nБольшинство отраслей экономи...  \n4                                                     \n5                                                     \n6  ДАННОЕ СООБЩЕНИЕ (МАТЕРИАЛ) СОЗДАНО И (ИЛИ) РА...  \n7                                                     ",
      "text/html": "<div>\n<style scoped>\n    .dataframe tbody tr th:only-of-type {\n        vertical-align: middle;\n    }\n\n    .dataframe tbody tr th {\n        vertical-align: top;\n    }\n\n    .dataframe thead th {\n        text-align: right;\n    }\n</style>\n<table border=\"1\" class=\"dataframe\">\n  <thead>\n    <tr style=\"text-align: right;\">\n      <th></th>\n      <th>Unnamed: 0</th>\n      <th>uid</th>\n      <th>url</th>\n      <th>date</th>\n      <th>initial_text</th>\n      <th>source_text</th>\n    </tr>\n  </thead>\n  <tbody>\n    <tr>\n      <th>0</th>\n      <td>6</td>\n      <td>62a3c2880e77c</td>\n      <td>https://www.mperspektiva.ru/topics/moskva-stal...</td>\n      <td>2021-01-12 09:00:00</td>\n      <td>В мире Москва занимает третье место, уступая л...</td>\n      <td></td>\n    </tr>\n    <tr>\n      <th>1</th>\n      <td>53</td>\n      <td>62a3c288922f2</td>\n      <td>https://www.mperspektiva.ru/topics/moskva-stal...</td>\n      <td>2021-01-12 00:00:00</td>\n      <td>В мире российская столица заняла третье место,...</td>\n      <td></td>\n    </tr>\n    <tr>\n      <th>2</th>\n      <td>102</td>\n      <td>62a3c2891c03b</td>\n      <td>https://www.mos.ru/news/item/96369073/</td>\n      <td>2021-09-22 00:00:00</td>\n      <td>Москва обошла европейские столицы в рейтинге и...</td>\n      <td>Алгоритмы компьютерного зрения на основе искус...</td>\n    </tr>\n    <tr>\n      <th>3</th>\n      <td>125</td>\n      <td>62a3c2899a324</td>\n      <td>https://www.kommersant.ru/doc/5090994</td>\n      <td>2021-11-26 00:00:00</td>\n      <td>Исследовательское агентство StartupBlink соста...</td>\n      <td>253 1 мин. ...\\n\\nБольшинство отраслей экономи...</td>\n    </tr>\n    <tr>\n      <th>4</th>\n      <td>134</td>\n      <td>62a3c28a1de50</td>\n      <td>https://www.mperspektiva.ru/topics/moskva-stal...</td>\n      <td>2021-01-12 00:00:00</td>\n      <td>Москва заняла первое место среди европейских г...</td>\n      <td></td>\n    </tr>\n    <tr>\n      <th>5</th>\n      <td>163</td>\n      <td>62a3c28a9c103</td>\n      <td>https://www.mperspektiva.ru/topics/moskva-stal...</td>\n      <td>2021-01-12 09:00:00</td>\n      <td>В мире Москва занимает лишь восьмое место, уст...</td>\n      <td></td>\n    </tr>\n    <tr>\n      <th>6</th>\n      <td>188</td>\n      <td>62a3c28b274bc</td>\n      <td>https://www.rosbalt.ru/moscow/2021/11/30/19334...</td>\n      <td>2021-11-30 00:00:00</td>\n      <td>Бостон признан первым среди европейских городо...</td>\n      <td>ДАННОЕ СООБЩЕНИЕ (МАТЕРИАЛ) СОЗДАНО И (ИЛИ) РА...</td>\n    </tr>\n    <tr>\n      <th>7</th>\n      <td>201</td>\n      <td>62a3c28ba845a</td>\n      <td>https://fesn.ranepa.ru/3291</td>\n      <td>None</td>\n      <td>Ежегодно в мае-июне Проектный офис Факультета ...</td>\n      <td></td>\n    </tr>\n  </tbody>\n</table>\n</div>"
     },
     "execution_count": 135,
     "metadata": {},
     "output_type": "execute_result"
    }
   ],
   "source": [
    "df['source_text'] = None\n",
    "for i in range(len(test_cases)):\n",
    "    article = Article(url=df['url'][i])\n",
    "    article.download()\n",
    "    article.parse()\n",
    "    df['source_text'][i] = article.text\n",
    "df"
   ],
   "metadata": {
    "collapsed": false,
    "pycharm": {
     "name": "#%%\n"
    }
   }
  },
  {
   "cell_type": "code",
   "execution_count": 136,
   "outputs": [],
   "source": [
    "df.to_excel('output.xlsx')"
   ],
   "metadata": {
    "collapsed": false,
    "pycharm": {
     "name": "#%%\n"
    }
   }
  },
  {
   "cell_type": "code",
   "execution_count": 138,
   "outputs": [
    {
     "name": "stdout",
     "output_type": "stream",
     "text": [
      "Collecting htmldate\r\n",
      "  Downloading htmldate-1.2.1-py3-none-any.whl (37 kB)\r\n",
      "Requirement already satisfied: python-dateutil>=2.8.2 in /Users/alex/Library/Python/3.8/lib/python/site-packages (from htmldate) (2.8.2)\r\n",
      "Collecting lxml>=4.6.4\r\n",
      "  Downloading lxml-4.9.0-cp38-cp38-macosx_10_15_x86_64.whl (4.6 MB)\r\n",
      "\u001B[K     |████████████████████████████████| 4.6 MB 2.3 MB/s eta 0:00:01\r\n",
      "\u001B[?25hCollecting dateparser>=1.1.1\r\n",
      "  Downloading dateparser-1.1.1-py2.py3-none-any.whl (288 kB)\r\n",
      "\u001B[K     |████████████████████████████████| 288 kB 2.2 MB/s eta 0:00:01\r\n",
      "\u001B[?25hRequirement already satisfied: urllib3<2,>=1.26 in /Library/Frameworks/Python.framework/Versions/3.8/lib/python3.8/site-packages (from htmldate) (1.26.9)\r\n",
      "Requirement already satisfied: charset-normalizer>=2.0.12 in /Library/Frameworks/Python.framework/Versions/3.8/lib/python3.8/site-packages (from htmldate) (2.0.12)\r\n",
      "Collecting tzlocal\r\n",
      "  Downloading tzlocal-4.2-py3-none-any.whl (19 kB)\r\n",
      "Collecting regex!=2019.02.19,!=2021.8.27,<2022.3.15\r\n",
      "  Downloading regex-2022.3.2-cp38-cp38-macosx_10_9_x86_64.whl (289 kB)\r\n",
      "\u001B[K     |████████████████████████████████| 289 kB 2.4 MB/s eta 0:00:01\r\n",
      "\u001B[?25hRequirement already satisfied: pytz in /Library/Frameworks/Python.framework/Versions/3.8/lib/python3.8/site-packages (from dateparser>=1.1.1->htmldate) (2021.3)\r\n",
      "Requirement already satisfied: six>=1.5 in /Library/Frameworks/Python.framework/Versions/3.8/lib/python3.8/site-packages (from python-dateutil>=2.8.2->htmldate) (1.16.0)\r\n",
      "Collecting backports.zoneinfo\r\n",
      "  Downloading backports.zoneinfo-0.2.1-cp38-cp38-macosx_10_14_x86_64.whl (35 kB)\r\n",
      "Collecting pytz-deprecation-shim\r\n",
      "  Downloading pytz_deprecation_shim-0.1.0.post0-py2.py3-none-any.whl (15 kB)\r\n",
      "Requirement already satisfied: tzdata in /Library/Frameworks/Python.framework/Versions/3.8/lib/python3.8/site-packages (from pytz-deprecation-shim->tzlocal->dateparser>=1.1.1->htmldate) (2022.1)\r\n",
      "Installing collected packages: backports.zoneinfo, pytz-deprecation-shim, tzlocal, regex, lxml, dateparser, htmldate\r\n",
      "  Attempting uninstall: regex\r\n",
      "    Found existing installation: regex 2022.3.15\r\n",
      "    Uninstalling regex-2022.3.15:\r\n",
      "      Successfully uninstalled regex-2022.3.15\r\n",
      "  Attempting uninstall: lxml\r\n",
      "    Found existing installation: lxml 4.6.1\r\n",
      "    Uninstalling lxml-4.6.1:\r\n",
      "      Successfully uninstalled lxml-4.6.1\r\n",
      "Successfully installed backports.zoneinfo-0.2.1 dateparser-1.1.1 htmldate-1.2.1 lxml-4.9.0 pytz-deprecation-shim-0.1.0.post0 regex-2022.3.2 tzlocal-4.2\r\n",
      "\u001B[33mWARNING: You are using pip version 21.2.4; however, version 22.1.2 is available.\r\n",
      "You should consider upgrading via the '/usr/local/bin/python3.8 -m pip install --upgrade pip' command.\u001B[0m\r\n"
     ]
    }
   ],
   "source": [
    "!pip install htmldate"
   ],
   "metadata": {
    "collapsed": false,
    "pycharm": {
     "name": "#%%\n"
    }
   }
  },
  {
   "cell_type": "code",
   "execution_count": 140,
   "outputs": [],
   "source": [
    "from htmldate import find_date"
   ],
   "metadata": {
    "collapsed": false,
    "pycharm": {
     "name": "#%%\n"
    }
   }
  },
  {
   "cell_type": "code",
   "execution_count": 150,
   "outputs": [
    {
     "name": "stderr",
     "output_type": "stream",
     "text": [
      "/Library/Frameworks/Python.framework/Versions/3.8/lib/python3.8/site-packages/dateparser/date_parser.py:35: PytzUsageWarning: The localize method is no longer necessary, as this time zone supports the fold attribute (PEP 495). For more details on migrating to a PEP 495-compliant implementation, see https://pytz-deprecation-shim.readthedocs.io/en/latest/migration.html\n",
      "  date_obj = stz.localize(date_obj)\n"
     ]
    },
    {
     "data": {
      "text/plain": "               uid                                                url  \\\n0    62a3c2880e77c  https://innoagency.ru/ru/news/news/moskvazanya...   \n1    62a3c2880e77c  https://matveychev-oleg.livejournal.com/124004...   \n2    62a3c2880e77c  https://ru.sputnik.kz/20211201/moscow-reyting-...   \n3    62a3c2880e77c             http://mosday.ru/news/item.php?3505963   \n4    62a3c2880e77c  https://rg.ru/2021/11/30/reg-cfo/moskva-prizna...   \n..             ...                                                ...   \n198  62a3c28b274bc  https://koronavirus.center/news/moskva-stala-p...   \n199  62a3c28b274bc  https://www.5-tv.ru/news/367794/moskva-stala-p...   \n200  62a3c28b274bc  https://sputnik-abkhazia.ru/20211201/moskva-st...   \n201  62a3c28ba845a                        https://fesn.ranepa.ru/3291   \n202  62a3c28ba845a  https://www.Ranepa.ru/news/proektnyy-ofis-fesn...   \n\n           date  \n0    2021-12-01  \n1    2021-12-01  \n2    2021-12-01  \n3    2021-12-01  \n4    2021-11-30  \n..          ...  \n198  2021-11-30  \n199  2003-01-07  \n200  2021-12-01  \n201  2022-06-06  \n202  2022-06-10  \n\n[203 rows x 3 columns]",
      "text/html": "<div>\n<style scoped>\n    .dataframe tbody tr th:only-of-type {\n        vertical-align: middle;\n    }\n\n    .dataframe tbody tr th {\n        vertical-align: top;\n    }\n\n    .dataframe thead th {\n        text-align: right;\n    }\n</style>\n<table border=\"1\" class=\"dataframe\">\n  <thead>\n    <tr style=\"text-align: right;\">\n      <th></th>\n      <th>uid</th>\n      <th>url</th>\n      <th>date</th>\n    </tr>\n  </thead>\n  <tbody>\n    <tr>\n      <th>0</th>\n      <td>62a3c2880e77c</td>\n      <td>https://innoagency.ru/ru/news/news/moskvazanya...</td>\n      <td>2021-12-01</td>\n    </tr>\n    <tr>\n      <th>1</th>\n      <td>62a3c2880e77c</td>\n      <td>https://matveychev-oleg.livejournal.com/124004...</td>\n      <td>2021-12-01</td>\n    </tr>\n    <tr>\n      <th>2</th>\n      <td>62a3c2880e77c</td>\n      <td>https://ru.sputnik.kz/20211201/moscow-reyting-...</td>\n      <td>2021-12-01</td>\n    </tr>\n    <tr>\n      <th>3</th>\n      <td>62a3c2880e77c</td>\n      <td>http://mosday.ru/news/item.php?3505963</td>\n      <td>2021-12-01</td>\n    </tr>\n    <tr>\n      <th>4</th>\n      <td>62a3c2880e77c</td>\n      <td>https://rg.ru/2021/11/30/reg-cfo/moskva-prizna...</td>\n      <td>2021-11-30</td>\n    </tr>\n    <tr>\n      <th>...</th>\n      <td>...</td>\n      <td>...</td>\n      <td>...</td>\n    </tr>\n    <tr>\n      <th>198</th>\n      <td>62a3c28b274bc</td>\n      <td>https://koronavirus.center/news/moskva-stala-p...</td>\n      <td>2021-11-30</td>\n    </tr>\n    <tr>\n      <th>199</th>\n      <td>62a3c28b274bc</td>\n      <td>https://www.5-tv.ru/news/367794/moskva-stala-p...</td>\n      <td>2003-01-07</td>\n    </tr>\n    <tr>\n      <th>200</th>\n      <td>62a3c28b274bc</td>\n      <td>https://sputnik-abkhazia.ru/20211201/moskva-st...</td>\n      <td>2021-12-01</td>\n    </tr>\n    <tr>\n      <th>201</th>\n      <td>62a3c28ba845a</td>\n      <td>https://fesn.ranepa.ru/3291</td>\n      <td>2022-06-06</td>\n    </tr>\n    <tr>\n      <th>202</th>\n      <td>62a3c28ba845a</td>\n      <td>https://www.Ranepa.ru/news/proektnyy-ofis-fesn...</td>\n      <td>2022-06-10</td>\n    </tr>\n  </tbody>\n</table>\n<p>203 rows × 3 columns</p>\n</div>"
     },
     "execution_count": 150,
     "metadata": {},
     "output_type": "execute_result"
    }
   ],
   "source": [
    "for i in range(df.shape[0]):\n",
    "    try:\n",
    "        df['date'][i] = find_date(df['url'][i])\n",
    "    except ValueError:\n",
    "        pass\n",
    "df"
   ],
   "metadata": {
    "collapsed": false,
    "pycharm": {
     "name": "#%%\n"
    }
   }
  },
  {
   "cell_type": "code",
   "execution_count": 151,
   "outputs": [
    {
     "data": {
      "text/plain": "               uid                                                url  date\n36   62a3c2880e77c                https://tass.ru/obschestvo/13073369  None\n64   62a3c288922f2  https://msk.dixinews.ru/news/obshchestvo/moskv...  None\n75   62a3c288922f2                https://tass.ru/obschestvo/13073369  None\n128  62a3c2899a324                https://tass.ru/obschestvo/13073369  None\n129  62a3c28a1de50  https://msk.dixinews.ru/news/obshchestvo/moskv...  None\n145  62a3c28a1de50    https://www.m24.ru/videos/gorod/30112021/319056   NaN\n170  62a3c28a9c103      https://www.m24.ru/news/gorod/30112021/194371   NaN\n175  62a3c28a9c103                https://tass.ru/obschestvo/13073369  None\n187  62a3c28a9c103  https://mephi.ru/content/public/uploads/files/...  None\n197  62a3c28b274bc                https://tass.ru/obschestvo/13073369  None",
      "text/html": "<div>\n<style scoped>\n    .dataframe tbody tr th:only-of-type {\n        vertical-align: middle;\n    }\n\n    .dataframe tbody tr th {\n        vertical-align: top;\n    }\n\n    .dataframe thead th {\n        text-align: right;\n    }\n</style>\n<table border=\"1\" class=\"dataframe\">\n  <thead>\n    <tr style=\"text-align: right;\">\n      <th></th>\n      <th>uid</th>\n      <th>url</th>\n      <th>date</th>\n    </tr>\n  </thead>\n  <tbody>\n    <tr>\n      <th>36</th>\n      <td>62a3c2880e77c</td>\n      <td>https://tass.ru/obschestvo/13073369</td>\n      <td>None</td>\n    </tr>\n    <tr>\n      <th>64</th>\n      <td>62a3c288922f2</td>\n      <td>https://msk.dixinews.ru/news/obshchestvo/moskv...</td>\n      <td>None</td>\n    </tr>\n    <tr>\n      <th>75</th>\n      <td>62a3c288922f2</td>\n      <td>https://tass.ru/obschestvo/13073369</td>\n      <td>None</td>\n    </tr>\n    <tr>\n      <th>128</th>\n      <td>62a3c2899a324</td>\n      <td>https://tass.ru/obschestvo/13073369</td>\n      <td>None</td>\n    </tr>\n    <tr>\n      <th>129</th>\n      <td>62a3c28a1de50</td>\n      <td>https://msk.dixinews.ru/news/obshchestvo/moskv...</td>\n      <td>None</td>\n    </tr>\n    <tr>\n      <th>145</th>\n      <td>62a3c28a1de50</td>\n      <td>https://www.m24.ru/videos/gorod/30112021/319056</td>\n      <td>NaN</td>\n    </tr>\n    <tr>\n      <th>170</th>\n      <td>62a3c28a9c103</td>\n      <td>https://www.m24.ru/news/gorod/30112021/194371</td>\n      <td>NaN</td>\n    </tr>\n    <tr>\n      <th>175</th>\n      <td>62a3c28a9c103</td>\n      <td>https://tass.ru/obschestvo/13073369</td>\n      <td>None</td>\n    </tr>\n    <tr>\n      <th>187</th>\n      <td>62a3c28a9c103</td>\n      <td>https://mephi.ru/content/public/uploads/files/...</td>\n      <td>None</td>\n    </tr>\n    <tr>\n      <th>197</th>\n      <td>62a3c28b274bc</td>\n      <td>https://tass.ru/obschestvo/13073369</td>\n      <td>None</td>\n    </tr>\n  </tbody>\n</table>\n</div>"
     },
     "execution_count": 151,
     "metadata": {},
     "output_type": "execute_result"
    }
   ],
   "source": [
    "df[df.date.isna()]"
   ],
   "metadata": {
    "collapsed": false,
    "pycharm": {
     "name": "#%%\n"
    }
   }
  }
 ],
 "metadata": {
  "kernelspec": {
   "display_name": "Python 3",
   "language": "python",
   "name": "python3"
  },
  "language_info": {
   "codemirror_mode": {
    "name": "ipython",
    "version": 2
   },
   "file_extension": ".py",
   "mimetype": "text/x-python",
   "name": "python",
   "nbconvert_exporter": "python",
   "pygments_lexer": "ipython2",
   "version": "2.7.6"
  }
 },
 "nbformat": 4,
 "nbformat_minor": 0
}